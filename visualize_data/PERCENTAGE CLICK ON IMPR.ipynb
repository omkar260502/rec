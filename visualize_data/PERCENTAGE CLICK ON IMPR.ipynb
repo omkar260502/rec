{
 "cells": [
  {
   "cell_type": "code",
   "execution_count": 7,
   "metadata": {},
   "outputs": [],
   "source": [
    "import os\n",
    "os.chdir('./recsys2019')"
   ]
  },
  {
   "cell_type": "code",
   "execution_count": 8,
   "metadata": {},
   "outputs": [],
   "source": [
    "import pandas as pd\n",
    "import data\n",
    "import numpy as np"
   ]
  },
  {
   "cell_type": "code",
   "execution_count": 9,
   "metadata": {},
   "outputs": [
    {
     "name": "stderr",
     "output_type": "stream",
     "text": [
      "/home/giovanni/miniconda3/lib/python3.7/site-packages/numpy/lib/arraysetops.py:522: FutureWarning: elementwise comparison failed; returning scalar instead, but in the future will perform elementwise comparison\n",
      "  mask |= (ar1 == a)\n"
     ]
    }
   ],
   "source": [
    "df_train = data.train_df('full').head(1000000)"
   ]
  },
  {
   "cell_type": "code",
   "execution_count": 10,
   "metadata": {},
   "outputs": [],
   "source": [
    "def impr_distr(df):\n",
    "    click_outs = df[df['action_type']=='clickout item']\n",
    "    if len(click_outs)>0:\n",
    "        impr = list(click_outs.tail(1)['impressions'].values[0].split('|'))\n",
    "        last_click = click_outs.tail(1)['reference'].values\n",
    "        try:\n",
    "            position_last_click=impr.index(last_click)\n",
    "            return position_last_click\n",
    "        except ValueError:\n",
    "            return -1\n",
    "    else:\n",
    "        return -1\n",
    "            \n",
    "        "
   ]
  },
  {
   "cell_type": "code",
   "execution_count": 11,
   "metadata": {},
   "outputs": [],
   "source": [
    "groups = df_train.groupby(['user_id','session_id'])\n",
    "temp = groups.apply(impr_distr)"
   ]
  },
  {
   "cell_type": "code",
   "execution_count": 35,
   "metadata": {},
   "outputs": [
    {
     "name": "stdout",
     "output_type": "stream",
     "text": [
      "0,  0.3773799210703629\n",
      "1,  0.10206949658292425\n",
      "2,  0.07178746751371642\n",
      "3,  0.055443257291365865\n",
      "4,  0.04710751756665704\n",
      "5,  0.038213495042833764\n",
      "6,  0.032149388776590626\n",
      "7,  0.02824140918278949\n",
      "8,  0.025738762152276447\n",
      "9,  0.022889594763692366\n",
      "10,  0.02238906535758976\n",
      "11,  0.02040619886418327\n",
      "12,  0.018134565405717586\n",
      "13,  0.01619020117431899\n",
      "14,  0.014515352776975647\n",
      "15,  0.013052266820675715\n",
      "16,  0.012705746462604677\n",
      "17,  0.011569929733371835\n",
      "18,  0.011743189912407354\n",
      "19,  0.01072287996919819\n",
      "20,  0.010183848301087688\n",
      "21,  0.009798825681008759\n",
      "22,  0.00858600442776013\n",
      "23,  0.008682260082779863\n",
      "24,  0.010299355087111368\n"
     ]
    }
   ],
   "source": [
    "dict={}\n",
    "count = 0\n",
    "for t in temp:\n",
    "    if t != -1:\n",
    "        count += 1\n",
    "        if t not in dict:\n",
    "            dict[t]=1\n",
    "        else:\n",
    "            dict[t]+=1\n",
    "\n",
    "l = []\n",
    "for key in sorted(dict):\n",
    "    print(f'{key},  {dict[key]/count}')\n",
    "    l.append(dict[key]/count)"
   ]
  },
  {
   "cell_type": "code",
   "execution_count": 41,
   "metadata": {},
   "outputs": [
    {
     "data": {
      "text/plain": [
       "0.10734430647800558"
      ]
     },
     "execution_count": 41,
     "metadata": {},
     "output_type": "execute_result"
    }
   ],
   "source": [
    "sum(l[15:])"
   ]
  },
  {
   "cell_type": "code",
   "execution_count": 16,
   "metadata": {},
   "outputs": [],
   "source": [
    "import matplotlib.pyplot as plt"
   ]
  },
  {
   "cell_type": "code",
   "execution_count": 27,
   "metadata": {},
   "outputs": [
    {
     "data": {
      "image/png": "[encoded data removed]",
      "text/plain": [
       "<Figure size 432x288 with 1 Axes>"
      ]
     },
     "metadata": {
      "needs_background": "light"
     },
     "output_type": "display_data"
    }
   ],
   "source": [
    "plt.bar(list(dict.keys()), [x / count for x in list(dict.values())], color='g')\n",
    "plt.show()"
   ]
  }
 ],
 "metadata": {
  "kernelspec": {
   "display_name": "Python 3",
   "language": "python",
   "name": "python3"
  },
  "language_info": {
   "codemirror_mode": {
    "name": "ipython",
    "version": 3
   },
   "file_extension": ".py",
   "mimetype": "text/x-python",
   "name": "python",
   "nbconvert_exporter": "python",
   "pygments_lexer": "ipython3",
   "version": "3.7.0"
  }
 },
 "nbformat": 4,
 "nbformat_minor": 2
}
