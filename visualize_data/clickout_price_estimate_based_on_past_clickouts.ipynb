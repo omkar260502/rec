{
 "cells": [
  {
   "cell_type": "code",
<<<<<<< HEAD
   "execution_count": 2,
=======
   "execution_count": 4,
>>>>>>> 18f92354377abed9821f36e0820f2eaaddd52359
   "metadata": {},
   "outputs": [],
   "source": [
    "import sys\n",
    "import os\n",
    "\n",
    "os.chdir(\"../\")"
   ]
  },
  {
   "cell_type": "code",
<<<<<<< HEAD
   "execution_count": 3,
=======
   "execution_count": 5,
>>>>>>> 18f92354377abed9821f36e0820f2eaaddd52359
   "metadata": {},
   "outputs": [],
   "source": [
    "import pandas as pd\n",
    "import matplotlib.pyplot as plt\n",
    "import numpy as np\n",
<<<<<<< HEAD
    "from matplotlib.ticker import PercentFormatter\n",
    "import data"
=======
    "import data\n",
    "from tqdm.auto import tqdm\n",
    "from matplotlib.ticker import PercentFormatter\n",
    "tqdm.pandas()"
>>>>>>> 18f92354377abed9821f36e0820f2eaaddd52359
   ]
  },
  {
   "cell_type": "markdown",
   "metadata": {},
   "source": [
    "# Is a user that once selects the $n^{th}$ accomodation in price likely to select again the $n^{th}$ in the future?"
   ]
  },
  {
   "cell_type": "code",
<<<<<<< HEAD
   "execution_count": 32,
   "metadata": {},
   "outputs": [],
   "source": [
    "df = data.full_df()\n",
    "df = df[df['action_type'] == 'clickout item']\n",
    "df = df[~df['reference'].isnull()]"
=======
   "execution_count": 6,
   "metadata": {},
   "outputs": [],
   "source": [
    "mode = 'full'\n",
    "\n",
    "df = data.train_df(mode)\n",
    "df = df[df['action_type'] == 'clickout item']\n",
    "df = df[~df['reference'].isnull()]\n",
    "\n",
    "df_test = data.test_df(mode)\n",
    "df_test = df_test[df_test['action_type'] == 'clickout item']\n",
    "df_test = df_test[~df_test['reference'].isnull()]\n",
    "\n",
    "df = pd.concat([df, df_test], ignore_index=True)"
>>>>>>> 18f92354377abed9821f36e0820f2eaaddd52359
   ]
  },
  {
   "cell_type": "code",
   "execution_count": 6,
   "metadata": {},
   "outputs": [],
   "source": [
    "df = df.head(100000)"
   ]
  },
  {
   "cell_type": "code",
   "execution_count": 33,
   "metadata": {},
   "outputs": [],
   "source": [
    "def func(x):\n",
    "    m = -1\n",
    "    mr = 0\n",
    "    var = 0\n",
    "    iters = 1\n",
    "    if len(x) > 1:\n",
    "        for idx, row in x.iterrows():\n",
    "            impression = list(map(int, row['impressions'].split('|')))\n",
    "            prices = list(map(int, row['prices'].split('|')))\n",
    "            clickout_item = int(row['reference'])\n",
    "            impression_prices = [[impression[i], prices[i]] for i in range(len(impression))]\n",
    "            impression_prices.sort(key=lambda e: int(e[1]))\n",
    "            impression = [e[0] for e in impression_prices]\n",
    "            if clickout_item in impression:\n",
    "                i = impression.index(clickout_item) + 1\n",
    "                if m == -1:\n",
    "                    m = i\n",
    "                    mr = i\n",
    "                else:\n",
    "                    var += abs(mr - i)\n",
    "                    m += i\n",
    "                    mr = m/iters\n",
    "                    \n",
    "            iters += 1\n",
    "        var = var/(iters-2)\n",
    "        m = m/(iters-1)\n",
    "        d = {'mean cheap': [m], 'std cheap': [var], 'num of clickouts': [len(x)]}\n",
    "        return pd.DataFrame(data=d)"
   ]
  },
  {
   "cell_type": "code",
   "execution_count": 34,
   "metadata": {},
   "outputs": [],
   "source": [
    "grouped = df.groupby(['user_id']).apply(func)\n",
    "grouped_more_clickouts = grouped[grouped['num of clickouts'] > 1]"
   ]
  },
  {
   "cell_type": "code",
   "execution_count": 35,
   "metadata": {
    "scrolled": true
   },
   "outputs": [
    {
     "data": {
      "text/html": [
       "<div>\n",
       "<style scoped>\n",
       "    .dataframe tbody tr th:only-of-type {\n",
       "        vertical-align: middle;\n",
       "    }\n",
       "\n",
       "    .dataframe tbody tr th {\n",
       "        vertical-align: top;\n",
       "    }\n",
       "\n",
       "    .dataframe thead th {\n",
       "        text-align: right;\n",
       "    }\n",
       "</style>\n",
       "<table border=\"1\" class=\"dataframe\">\n",
       "  <thead>\n",
       "    <tr style=\"text-align: right;\">\n",
       "      <th></th>\n",
       "      <th></th>\n",
       "      <th>mean cheap</th>\n",
       "      <th>std cheap</th>\n",
       "      <th>num of clickouts</th>\n",
       "    </tr>\n",
       "    <tr>\n",
       "      <th>user_id</th>\n",
       "      <th></th>\n",
       "      <th></th>\n",
       "      <th></th>\n",
       "      <th></th>\n",
       "    </tr>\n",
       "  </thead>\n",
       "  <tbody>\n",
       "    <tr>\n",
       "      <th>0001VQMGUI65</th>\n",
       "      <th>0</th>\n",
       "      <td>11.000000</td>\n",
       "      <td>7.145833</td>\n",
       "      <td>5</td>\n",
       "    </tr>\n",
       "    <tr>\n",
       "      <th>0004IOZI7CKF</th>\n",
       "      <th>0</th>\n",
       "      <td>15.666667</td>\n",
       "      <td>9.000000</td>\n",
       "      <td>3</td>\n",
       "    </tr>\n",
       "    <tr>\n",
       "      <th>0008BO33KUQ0</th>\n",
       "      <th>0</th>\n",
       "      <td>6.142857</td>\n",
       "      <td>4.177778</td>\n",
       "      <td>7</td>\n",
       "    </tr>\n",
       "    <tr>\n",
       "      <th>000EKQEFMW6S</th>\n",
       "      <th>0</th>\n",
       "      <td>5.500000</td>\n",
       "      <td>7.000000</td>\n",
       "      <td>2</td>\n",
       "    </tr>\n",
       "    <tr>\n",
       "      <th>000IRHJS2DL9</th>\n",
       "      <th>0</th>\n",
       "      <td>16.333333</td>\n",
       "      <td>1.750000</td>\n",
       "      <td>3</td>\n",
       "    </tr>\n",
       "    <tr>\n",
       "      <th>000LC1EWG7ZP</th>\n",
       "      <th>0</th>\n",
       "      <td>4.285714</td>\n",
       "      <td>2.255556</td>\n",
       "      <td>7</td>\n",
       "    </tr>\n",
       "    <tr>\n",
       "      <th>0010PD3FH7SV</th>\n",
       "      <th>0</th>\n",
       "      <td>10.000000</td>\n",
       "      <td>18.000000</td>\n",
       "      <td>2</td>\n",
       "    </tr>\n",
       "    <tr>\n",
       "      <th>0011WEV5DABC</th>\n",
       "      <th>0</th>\n",
       "      <td>2.000000</td>\n",
       "      <td>0.944444</td>\n",
       "      <td>4</td>\n",
       "    </tr>\n",
       "    <tr>\n",
       "      <th>0013L641G5P2</th>\n",
       "      <th>0</th>\n",
       "      <td>6.400000</td>\n",
       "      <td>4.000000</td>\n",
       "      <td>5</td>\n",
       "    </tr>\n",
       "    <tr>\n",
       "      <th>0015CRBC6OH9</th>\n",
       "      <th>0</th>\n",
       "      <td>7.000000</td>\n",
       "      <td>1.250000</td>\n",
       "      <td>3</td>\n",
       "    </tr>\n",
       "    <tr>\n",
       "      <th>0017FIR55K7R</th>\n",
       "      <th>0</th>\n",
       "      <td>1.000000</td>\n",
       "      <td>0.000000</td>\n",
       "      <td>4</td>\n",
       "    </tr>\n",
       "    <tr>\n",
       "      <th>0018EAWF0OIK</th>\n",
       "      <th>0</th>\n",
       "      <td>15.000000</td>\n",
       "      <td>0.000000</td>\n",
       "      <td>2</td>\n",
       "    </tr>\n",
       "    <tr>\n",
       "      <th>001BJ5U1AZHW</th>\n",
       "      <th>0</th>\n",
       "      <td>13.000000</td>\n",
       "      <td>0.000000</td>\n",
       "      <td>2</td>\n",
       "    </tr>\n",
       "    <tr>\n",
       "      <th>001IC3WK4AOO</th>\n",
       "      <th>0</th>\n",
       "      <td>14.000000</td>\n",
       "      <td>4.000000</td>\n",
       "      <td>2</td>\n",
       "    </tr>\n",
       "    <tr>\n",
       "      <th>001OCXQ9PXET</th>\n",
       "      <th>0</th>\n",
       "      <td>15.000000</td>\n",
       "      <td>20.000000</td>\n",
       "      <td>2</td>\n",
       "    </tr>\n",
       "    <tr>\n",
       "      <th>001Q2N2IXI18</th>\n",
       "      <th>0</th>\n",
       "      <td>1.500000</td>\n",
       "      <td>1.222222</td>\n",
       "      <td>4</td>\n",
       "    </tr>\n",
       "    <tr>\n",
       "      <th>001TKZND4DXR</th>\n",
       "      <th>0</th>\n",
       "      <td>1.333333</td>\n",
       "      <td>0.500000</td>\n",
       "      <td>3</td>\n",
       "    </tr>\n",
       "    <tr>\n",
       "      <th>001UXWLZZDQG</th>\n",
       "      <th>0</th>\n",
       "      <td>7.000000</td>\n",
       "      <td>4.500000</td>\n",
       "      <td>3</td>\n",
       "    </tr>\n",
       "    <tr>\n",
       "      <th>001WJ8QTM41X</th>\n",
       "      <th>0</th>\n",
       "      <td>1.000000</td>\n",
       "      <td>0.000000</td>\n",
       "      <td>2</td>\n",
       "    </tr>\n",
       "    <tr>\n",
       "      <th>001WP37I7I1T</th>\n",
       "      <th>0</th>\n",
       "      <td>10.000000</td>\n",
       "      <td>0.000000</td>\n",
       "      <td>2</td>\n",
       "    </tr>\n",
       "    <tr>\n",
       "      <th>001XGI2NI73R</th>\n",
       "      <th>0</th>\n",
       "      <td>5.250000</td>\n",
       "      <td>5.888889</td>\n",
       "      <td>4</td>\n",
       "    </tr>\n",
       "    <tr>\n",
       "      <th>0022L3757L7J</th>\n",
       "      <th>0</th>\n",
       "      <td>10.857143</td>\n",
       "      <td>8.586111</td>\n",
       "      <td>7</td>\n",
       "    </tr>\n",
       "    <tr>\n",
       "      <th>0023FC807SR8</th>\n",
       "      <th>0</th>\n",
       "      <td>14.500000</td>\n",
       "      <td>10.000000</td>\n",
       "      <td>4</td>\n",
       "    </tr>\n",
       "    <tr>\n",
       "      <th>0024WQMRS5XT</th>\n",
       "      <th>0</th>\n",
       "      <td>9.000000</td>\n",
       "      <td>8.000000</td>\n",
       "      <td>2</td>\n",
       "    </tr>\n",
       "    <tr>\n",
       "      <th>0025AKR8Y9XQ</th>\n",
       "      <th>0</th>\n",
       "      <td>10.000000</td>\n",
       "      <td>0.000000</td>\n",
       "      <td>2</td>\n",
       "    </tr>\n",
       "    <tr>\n",
       "      <th>0025B8BU0NYP</th>\n",
       "      <th>0</th>\n",
       "      <td>19.500000</td>\n",
       "      <td>5.000000</td>\n",
       "      <td>2</td>\n",
       "    </tr>\n",
       "    <tr>\n",
       "      <th>0029BRXGBS69</th>\n",
       "      <th>0</th>\n",
       "      <td>10.347826</td>\n",
       "      <td>5.728288</td>\n",
       "      <td>23</td>\n",
       "    </tr>\n",
       "    <tr>\n",
       "      <th>002A7PDRJU8N</th>\n",
       "      <th>0</th>\n",
       "      <td>23.000000</td>\n",
       "      <td>0.000000</td>\n",
       "      <td>2</td>\n",
       "    </tr>\n",
       "    <tr>\n",
       "      <th>002B0QBQXZ62</th>\n",
       "      <th>0</th>\n",
       "      <td>11.000000</td>\n",
       "      <td>5.250000</td>\n",
       "      <td>3</td>\n",
       "    </tr>\n",
       "    <tr>\n",
       "      <th>002CQHIQ78E8</th>\n",
       "      <th>0</th>\n",
       "      <td>3.000000</td>\n",
       "      <td>1.250000</td>\n",
       "      <td>3</td>\n",
       "    </tr>\n",
       "    <tr>\n",
       "      <th>...</th>\n",
       "      <th>...</th>\n",
       "      <td>...</td>\n",
       "      <td>...</td>\n",
       "      <td>...</td>\n",
       "    </tr>\n",
       "    <tr>\n",
       "      <th>ZZW80T2E95JL</th>\n",
       "      <th>0</th>\n",
       "      <td>2.500000</td>\n",
       "      <td>3.000000</td>\n",
       "      <td>2</td>\n",
       "    </tr>\n",
       "    <tr>\n",
       "      <th>ZZW8VOP35SN0</th>\n",
       "      <th>0</th>\n",
       "      <td>23.500000</td>\n",
       "      <td>1.000000</td>\n",
       "      <td>2</td>\n",
       "    </tr>\n",
       "    <tr>\n",
       "      <th>ZZWBXPVI1AA8</th>\n",
       "      <th>0</th>\n",
       "      <td>2.500000</td>\n",
       "      <td>1.000000</td>\n",
       "      <td>2</td>\n",
       "    </tr>\n",
       "    <tr>\n",
       "      <th>ZZWC8ATUL677</th>\n",
       "      <th>0</th>\n",
       "      <td>5.000000</td>\n",
       "      <td>0.000000</td>\n",
       "      <td>2</td>\n",
       "    </tr>\n",
       "    <tr>\n",
       "      <th>ZZWHEYWBUNJB</th>\n",
       "      <th>0</th>\n",
       "      <td>11.666667</td>\n",
       "      <td>3.750000</td>\n",
       "      <td>3</td>\n",
       "    </tr>\n",
       "    <tr>\n",
       "      <th>ZZWT75PS0J6R</th>\n",
       "      <th>0</th>\n",
       "      <td>14.000000</td>\n",
       "      <td>3.312500</td>\n",
       "      <td>5</td>\n",
       "    </tr>\n",
       "    <tr>\n",
       "      <th>ZZWZBXI100ZW</th>\n",
       "      <th>0</th>\n",
       "      <td>7.666667</td>\n",
       "      <td>5.180155</td>\n",
       "      <td>15</td>\n",
       "    </tr>\n",
       "    <tr>\n",
       "      <th>ZZX3QP2D67V3</th>\n",
       "      <th>0</th>\n",
       "      <td>9.666667</td>\n",
       "      <td>9.000000</td>\n",
       "      <td>3</td>\n",
       "    </tr>\n",
       "    <tr>\n",
       "      <th>ZZXHTPS0N1LS</th>\n",
       "      <th>0</th>\n",
       "      <td>18.000000</td>\n",
       "      <td>14.000000</td>\n",
       "      <td>2</td>\n",
       "    </tr>\n",
       "    <tr>\n",
       "      <th>ZZXTM747G31D</th>\n",
       "      <th>0</th>\n",
       "      <td>21.500000</td>\n",
       "      <td>3.000000</td>\n",
       "      <td>2</td>\n",
       "    </tr>\n",
       "    <tr>\n",
       "      <th>ZZXYYTDRRZF1</th>\n",
       "      <th>0</th>\n",
       "      <td>4.250000</td>\n",
       "      <td>2.444444</td>\n",
       "      <td>4</td>\n",
       "    </tr>\n",
       "    <tr>\n",
       "      <th>ZZY1KJ61DBKF</th>\n",
       "      <th>0</th>\n",
       "      <td>7.000000</td>\n",
       "      <td>6.120000</td>\n",
       "      <td>6</td>\n",
       "    </tr>\n",
       "    <tr>\n",
       "      <th>ZZY79DVEDF47</th>\n",
       "      <th>0</th>\n",
       "      <td>9.375000</td>\n",
       "      <td>2.843537</td>\n",
       "      <td>8</td>\n",
       "    </tr>\n",
       "    <tr>\n",
       "      <th>ZZYHTK668S4B</th>\n",
       "      <th>0</th>\n",
       "      <td>13.000000</td>\n",
       "      <td>11.500000</td>\n",
       "      <td>3</td>\n",
       "    </tr>\n",
       "    <tr>\n",
       "      <th>ZZYLIY1344B2</th>\n",
       "      <th>0</th>\n",
       "      <td>13.666667</td>\n",
       "      <td>4.000000</td>\n",
       "      <td>3</td>\n",
       "    </tr>\n",
       "    <tr>\n",
       "      <th>ZZZ0SPKF1D9B</th>\n",
       "      <th>0</th>\n",
       "      <td>5.500000</td>\n",
       "      <td>3.000000</td>\n",
       "      <td>2</td>\n",
       "    </tr>\n",
       "    <tr>\n",
       "      <th>ZZZ0V8454NZC</th>\n",
       "      <th>0</th>\n",
       "      <td>2.250000</td>\n",
       "      <td>0.611111</td>\n",
       "      <td>4</td>\n",
       "    </tr>\n",
       "    <tr>\n",
       "      <th>ZZZ1V93748SJ</th>\n",
       "      <th>0</th>\n",
       "      <td>15.500000</td>\n",
       "      <td>5.000000</td>\n",
       "      <td>2</td>\n",
       "    </tr>\n",
       "    <tr>\n",
       "      <th>ZZZ4MFAMBHZ3</th>\n",
       "      <th>0</th>\n",
       "      <td>11.000000</td>\n",
       "      <td>7.333333</td>\n",
       "      <td>5</td>\n",
       "    </tr>\n",
       "    <tr>\n",
       "      <th>ZZZ510VC67QP</th>\n",
       "      <th>0</th>\n",
       "      <td>24.000000</td>\n",
       "      <td>0.000000</td>\n",
       "      <td>3</td>\n",
       "    </tr>\n",
       "    <tr>\n",
       "      <th>ZZZ5B29UZ5R8</th>\n",
       "      <th>0</th>\n",
       "      <td>18.666667</td>\n",
       "      <td>10.000000</td>\n",
       "      <td>3</td>\n",
       "    </tr>\n",
       "    <tr>\n",
       "      <th>ZZZ5DZLM41SL</th>\n",
       "      <th>0</th>\n",
       "      <td>17.000000</td>\n",
       "      <td>2.000000</td>\n",
       "      <td>2</td>\n",
       "    </tr>\n",
       "    <tr>\n",
       "      <th>ZZZ65AH0ZA6L</th>\n",
       "      <th>0</th>\n",
       "      <td>18.333333</td>\n",
       "      <td>4.750000</td>\n",
       "      <td>3</td>\n",
       "    </tr>\n",
       "    <tr>\n",
       "      <th>ZZZ7VDJC9303</th>\n",
       "      <th>0</th>\n",
       "      <td>10.000000</td>\n",
       "      <td>6.750000</td>\n",
       "      <td>3</td>\n",
       "    </tr>\n",
       "    <tr>\n",
       "      <th>ZZZJVQ660H0J</th>\n",
       "      <th>0</th>\n",
       "      <td>3.500000</td>\n",
       "      <td>1.000000</td>\n",
       "      <td>2</td>\n",
       "    </tr>\n",
       "    <tr>\n",
       "      <th>ZZZMUHLO5WBG</th>\n",
       "      <th>0</th>\n",
       "      <td>6.500000</td>\n",
       "      <td>11.000000</td>\n",
       "      <td>2</td>\n",
       "    </tr>\n",
       "    <tr>\n",
       "      <th>ZZZOZKON2HVJ</th>\n",
       "      <th>0</th>\n",
       "      <td>8.000000</td>\n",
       "      <td>12.000000</td>\n",
       "      <td>2</td>\n",
       "    </tr>\n",
       "    <tr>\n",
       "      <th>ZZZPQ336U50Y</th>\n",
       "      <th>0</th>\n",
       "      <td>21.000000</td>\n",
       "      <td>3.500000</td>\n",
       "      <td>3</td>\n",
       "    </tr>\n",
       "    <tr>\n",
       "      <th>ZZZRFN2DZ2BV</th>\n",
       "      <th>0</th>\n",
       "      <td>18.571429</td>\n",
       "      <td>3.700000</td>\n",
       "      <td>7</td>\n",
       "    </tr>\n",
       "    <tr>\n",
       "      <th>ZZZSKOPW9P49</th>\n",
       "      <th>0</th>\n",
       "      <td>2.400000</td>\n",
       "      <td>1.250000</td>\n",
       "      <td>5</td>\n",
       "    </tr>\n",
       "  </tbody>\n",
       "</table>\n",
       "<p>363157 rows × 3 columns</p>\n",
       "</div>"
      ],
      "text/plain": [
       "                mean cheap  std cheap  num of clickouts\n",
       "user_id                                                \n",
       "0001VQMGUI65 0   11.000000   7.145833                 5\n",
       "0004IOZI7CKF 0   15.666667   9.000000                 3\n",
       "0008BO33KUQ0 0    6.142857   4.177778                 7\n",
       "000EKQEFMW6S 0    5.500000   7.000000                 2\n",
       "000IRHJS2DL9 0   16.333333   1.750000                 3\n",
       "000LC1EWG7ZP 0    4.285714   2.255556                 7\n",
       "0010PD3FH7SV 0   10.000000  18.000000                 2\n",
       "0011WEV5DABC 0    2.000000   0.944444                 4\n",
       "0013L641G5P2 0    6.400000   4.000000                 5\n",
       "0015CRBC6OH9 0    7.000000   1.250000                 3\n",
       "0017FIR55K7R 0    1.000000   0.000000                 4\n",
       "0018EAWF0OIK 0   15.000000   0.000000                 2\n",
       "001BJ5U1AZHW 0   13.000000   0.000000                 2\n",
       "001IC3WK4AOO 0   14.000000   4.000000                 2\n",
       "001OCXQ9PXET 0   15.000000  20.000000                 2\n",
       "001Q2N2IXI18 0    1.500000   1.222222                 4\n",
       "001TKZND4DXR 0    1.333333   0.500000                 3\n",
       "001UXWLZZDQG 0    7.000000   4.500000                 3\n",
       "001WJ8QTM41X 0    1.000000   0.000000                 2\n",
       "001WP37I7I1T 0   10.000000   0.000000                 2\n",
       "001XGI2NI73R 0    5.250000   5.888889                 4\n",
       "0022L3757L7J 0   10.857143   8.586111                 7\n",
       "0023FC807SR8 0   14.500000  10.000000                 4\n",
       "0024WQMRS5XT 0    9.000000   8.000000                 2\n",
       "0025AKR8Y9XQ 0   10.000000   0.000000                 2\n",
       "0025B8BU0NYP 0   19.500000   5.000000                 2\n",
       "0029BRXGBS69 0   10.347826   5.728288                23\n",
       "002A7PDRJU8N 0   23.000000   0.000000                 2\n",
       "002B0QBQXZ62 0   11.000000   5.250000                 3\n",
       "002CQHIQ78E8 0    3.000000   1.250000                 3\n",
       "...                    ...        ...               ...\n",
       "ZZW80T2E95JL 0    2.500000   3.000000                 2\n",
       "ZZW8VOP35SN0 0   23.500000   1.000000                 2\n",
       "ZZWBXPVI1AA8 0    2.500000   1.000000                 2\n",
       "ZZWC8ATUL677 0    5.000000   0.000000                 2\n",
       "ZZWHEYWBUNJB 0   11.666667   3.750000                 3\n",
       "ZZWT75PS0J6R 0   14.000000   3.312500                 5\n",
       "ZZWZBXI100ZW 0    7.666667   5.180155                15\n",
       "ZZX3QP2D67V3 0    9.666667   9.000000                 3\n",
       "ZZXHTPS0N1LS 0   18.000000  14.000000                 2\n",
       "ZZXTM747G31D 0   21.500000   3.000000                 2\n",
       "ZZXYYTDRRZF1 0    4.250000   2.444444                 4\n",
       "ZZY1KJ61DBKF 0    7.000000   6.120000                 6\n",
       "ZZY79DVEDF47 0    9.375000   2.843537                 8\n",
       "ZZYHTK668S4B 0   13.000000  11.500000                 3\n",
       "ZZYLIY1344B2 0   13.666667   4.000000                 3\n",
       "ZZZ0SPKF1D9B 0    5.500000   3.000000                 2\n",
       "ZZZ0V8454NZC 0    2.250000   0.611111                 4\n",
       "ZZZ1V93748SJ 0   15.500000   5.000000                 2\n",
       "ZZZ4MFAMBHZ3 0   11.000000   7.333333                 5\n",
       "ZZZ510VC67QP 0   24.000000   0.000000                 3\n",
       "ZZZ5B29UZ5R8 0   18.666667  10.000000                 3\n",
       "ZZZ5DZLM41SL 0   17.000000   2.000000                 2\n",
       "ZZZ65AH0ZA6L 0   18.333333   4.750000                 3\n",
       "ZZZ7VDJC9303 0   10.000000   6.750000                 3\n",
       "ZZZJVQ660H0J 0    3.500000   1.000000                 2\n",
       "ZZZMUHLO5WBG 0    6.500000  11.000000                 2\n",
       "ZZZOZKON2HVJ 0    8.000000  12.000000                 2\n",
       "ZZZPQ336U50Y 0   21.000000   3.500000                 3\n",
       "ZZZRFN2DZ2BV 0   18.571429   3.700000                 7\n",
       "ZZZSKOPW9P49 0    2.400000   1.250000                 5\n",
       "\n",
       "[363157 rows x 3 columns]"
      ]
     },
     "execution_count": 35,
     "metadata": {},
     "output_type": "execute_result"
    }
   ],
   "source": [
    "grouped"
   ]
  },
  {
   "cell_type": "markdown",
   "metadata": {},
   "source": [
    "### A user that picks on a previous clickout the $n^{th}$ cheapest accomodation is really likely to stick with it"
   ]
  },
  {
   "cell_type": "code",
   "execution_count": 39,
   "metadata": {},
   "outputs": [
    {
     "data": {
      "text/plain": [
       "4.5438923734477825"
      ]
     },
     "execution_count": 39,
     "metadata": {},
     "output_type": "execute_result"
    }
   ],
   "source": [
    "sum(grouped_more_clickouts['std cheap'].values)/len(grouped_more_clickouts)"
   ]
  },
  {
   "cell_type": "code",
   "execution_count": 44,
   "metadata": {
    "scrolled": true
   },
   "outputs": [
    {
     "data": {
      "text/plain": [
       "Text(0.5, 0, 'difference of position wrt avarage position clicked')"
      ]
     },
     "execution_count": 44,
     "metadata": {},
     "output_type": "execute_result"
    },
    {
     "data": {
      "image/png": "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\n",
      "text/plain": [
       "<Figure size 432x288 with 1 Axes>"
      ]
     },
     "metadata": {
      "needs_background": "light"
     },
     "output_type": "display_data"
    }
   ],
   "source": [
    "grouped_more_clickouts.hist(column = 'std cheap', bins = 25, weights = np.ones(len(grouped_more_clickouts))/len(grouped_more_clickouts))\n",
    "plt.xlabel('difference of position wrt avarage position clicked')"
   ]
  },
  {
   "cell_type": "code",
   "execution_count": 46,
   "metadata": {},
   "outputs": [
    {
     "data": {
      "text/plain": [
       "Text(0.5, 0, 'cumulative difference of position wrt avarage position clicked')"
      ]
     },
     "execution_count": 46,
     "metadata": {},
     "output_type": "execute_result"
    },
    {
     "data": {
      "image/png": "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\n",
      "text/plain": [
       "<Figure size 432x288 with 1 Axes>"
      ]
     },
     "metadata": {
      "needs_background": "light"
     },
     "output_type": "display_data"
    }
   ],
   "source": [
    "grouped_more_clickouts.hist(cumulative = True, column = 'std cheap', bins = 25, weights = np.ones(len(grouped_more_clickouts))/len(grouped_more_clickouts))\n",
    "plt.xlabel('cumulative difference of position wrt avarage position clicked')"
   ]
  },
  {
   "cell_type": "markdown",
   "metadata": {},
   "source": [
    "# Does it make more sense to look to the std deviation of the real prices instead of looking to the std deviation of the price-wise position?"
   ]
  },
  {
   "cell_type": "code",
<<<<<<< HEAD
   "execution_count": 47,
=======
   "execution_count": 7,
>>>>>>> 18f92354377abed9821f36e0820f2eaaddd52359
   "metadata": {},
   "outputs": [],
   "source": [
    "def func1(x):\n",
    "    m = -1\n",
    "    mr = 0\n",
    "    mr_list = []\n",
    "    var = 0\n",
    "    var_list = []\n",
    "    iters = 1\n",
    "    if len(x) > 1:\n",
    "        for idx, row in x.iterrows():\n",
    "            impression = list(map(int, row['impressions'].split('|')))\n",
    "            prices = list(map(int, row['prices'].split('|')))\n",
    "            clickout_item = int(row['reference'])\n",
    "            if clickout_item in impression:\n",
    "                i = prices[impression.index(clickout_item)]\n",
    "                if m == -1:\n",
    "                    m = i\n",
    "                    mr = i\n",
    "                else:\n",
    "                    var += abs(mr - i)\n",
    "                    m += i\n",
<<<<<<< HEAD
    "                    mr = m/iters\n",
    "                    \n",
    "            iters += 1\n",
    "        var = var/(iters-2)\n",
    "        m = m/(iters-1)\n",
    "        d = {'mean price': [m], 'std price': [var], 'num of clickouts': [len(x)]}\n",
=======
    "                    var += abs(mr - i)\n",
    "                    var_list.append(abs(mr - i))\n",
    "                    mr = m/iters\n",
    "                    mr_list.append(mr)\n",
    "            iters += 1\n",
    "        var = var/(iters-2)\n",
    "        m = m/(iters-1)\n",
    "        d = {'mean price': [mr], 'std price': [var], 'num of clickouts': [len(x)]}\n",
>>>>>>> 18f92354377abed9821f36e0820f2eaaddd52359
    "        return pd.DataFrame(data=d)"
   ]
  },
  {
   "cell_type": "code",
<<<<<<< HEAD
   "execution_count": 49,
=======
   "execution_count": 8,
>>>>>>> 18f92354377abed9821f36e0820f2eaaddd52359
   "metadata": {
    "scrolled": true
   },
   "outputs": [
    {
     "data": {
      "application/vnd.jupyter.widget-view+json": {
       "model_id": "2c9c871498b14941b47aadcf7fdcd3a4",
       "version_major": 2,
       "version_minor": 0
      },
      "text/plain": [
       "HBox(children=(IntProgress(value=0, max=807757), HTML(value='')))"
      ]
     },
     "metadata": {},
     "output_type": "display_data"
    },
    {
     "name": "stdout",
     "output_type": "stream",
     "text": [
      "\n"
     ]
    }
   ],
   "source": [
    "grouped_price_more_clickouts = df.groupby(['user_id']).progress_apply(func1)"
   ]
  },
  {
   "cell_type": "code",
   "execution_count": 9,
   "metadata": {},
   "outputs": [],
   "source": [
    "del df"
   ]
  },
  {
   "cell_type": "code",
<<<<<<< HEAD
   "execution_count": 50,
=======
   "execution_count": 10,
   "metadata": {
    "scrolled": true
   },
   "outputs": [
    {
     "data": {
      "text/html": [
       "<div>\n",
       "<style scoped>\n",
       "    .dataframe tbody tr th:only-of-type {\n",
       "        vertical-align: middle;\n",
       "    }\n",
       "\n",
       "    .dataframe tbody tr th {\n",
       "        vertical-align: top;\n",
       "    }\n",
       "\n",
       "    .dataframe thead th {\n",
       "        text-align: right;\n",
       "    }\n",
       "</style>\n",
       "<table border=\"1\" class=\"dataframe\">\n",
       "  <thead>\n",
       "    <tr style=\"text-align: right;\">\n",
       "      <th></th>\n",
       "      <th></th>\n",
       "      <th>mean price</th>\n",
       "      <th>std price</th>\n",
       "      <th>num of clickouts</th>\n",
       "    </tr>\n",
       "    <tr>\n",
       "      <th>user_id</th>\n",
       "      <th></th>\n",
       "      <th></th>\n",
       "      <th></th>\n",
       "      <th></th>\n",
       "    </tr>\n",
       "  </thead>\n",
       "  <tbody>\n",
       "    <tr>\n",
       "      <th>0001VQMGUI65</th>\n",
       "      <th>0</th>\n",
       "      <td>42.000000</td>\n",
       "      <td>5.145833</td>\n",
       "      <td>5</td>\n",
       "    </tr>\n",
       "    <tr>\n",
       "      <th>0004IOZI7CKF</th>\n",
       "      <th>0</th>\n",
       "      <td>99.333333</td>\n",
       "      <td>25.750000</td>\n",
       "      <td>3</td>\n",
       "    </tr>\n",
       "    <tr>\n",
       "      <th>0008BO33KUQ0</th>\n",
       "      <th>0</th>\n",
       "      <td>85.142857</td>\n",
       "      <td>34.861111</td>\n",
       "      <td>7</td>\n",
       "    </tr>\n",
       "    <tr>\n",
       "      <th>000EKQEFMW6S</th>\n",
       "      <th>0</th>\n",
       "      <td>43.000000</td>\n",
       "      <td>2.000000</td>\n",
       "      <td>2</td>\n",
       "    </tr>\n",
       "    <tr>\n",
       "      <th>000IRHJS2DL9</th>\n",
       "      <th>0</th>\n",
       "      <td>79.000000</td>\n",
       "      <td>7.750000</td>\n",
       "      <td>3</td>\n",
       "    </tr>\n",
       "    <tr>\n",
       "      <th>000LC1EWG7ZP</th>\n",
       "      <th>0</th>\n",
       "      <td>22.714286</td>\n",
       "      <td>3.197222</td>\n",
       "      <td>7</td>\n",
       "    </tr>\n",
       "    <tr>\n",
       "      <th>0010PD3FH7SV</th>\n",
       "      <th>0</th>\n",
       "      <td>38.000000</td>\n",
       "      <td>52.000000</td>\n",
       "      <td>2</td>\n",
       "    </tr>\n",
       "    <tr>\n",
       "      <th>0011WEV5DABC</th>\n",
       "      <th>0</th>\n",
       "      <td>74.500000</td>\n",
       "      <td>11.444444</td>\n",
       "      <td>4</td>\n",
       "    </tr>\n",
       "    <tr>\n",
       "      <th>0013L641G5P2</th>\n",
       "      <th>0</th>\n",
       "      <td>72.800000</td>\n",
       "      <td>51.875000</td>\n",
       "      <td>5</td>\n",
       "    </tr>\n",
       "    <tr>\n",
       "      <th>0015CRBC6OH9</th>\n",
       "      <th>0</th>\n",
       "      <td>90.000000</td>\n",
       "      <td>3.000000</td>\n",
       "      <td>3</td>\n",
       "    </tr>\n",
       "    <tr>\n",
       "      <th>0017FIR55K7R</th>\n",
       "      <th>0</th>\n",
       "      <td>25.000000</td>\n",
       "      <td>0.000000</td>\n",
       "      <td>4</td>\n",
       "    </tr>\n",
       "    <tr>\n",
       "      <th>0018EAWF0OIK</th>\n",
       "      <th>0</th>\n",
       "      <td>89.000000</td>\n",
       "      <td>0.000000</td>\n",
       "      <td>2</td>\n",
       "    </tr>\n",
       "    <tr>\n",
       "      <th>001BJ5U1AZHW</th>\n",
       "      <th>0</th>\n",
       "      <td>23.000000</td>\n",
       "      <td>0.000000</td>\n",
       "      <td>2</td>\n",
       "    </tr>\n",
       "    <tr>\n",
       "      <th>001IC3WK4AOO</th>\n",
       "      <th>0</th>\n",
       "      <td>80.500000</td>\n",
       "      <td>1.000000</td>\n",
       "      <td>2</td>\n",
       "    </tr>\n",
       "    <tr>\n",
       "      <th>001OCXQ9PXET</th>\n",
       "      <th>0</th>\n",
       "      <td>238.500000</td>\n",
       "      <td>343.000000</td>\n",
       "      <td>2</td>\n",
       "    </tr>\n",
       "    <tr>\n",
       "      <th>001Q2N2IXI18</th>\n",
       "      <th>0</th>\n",
       "      <td>104.000000</td>\n",
       "      <td>93.222222</td>\n",
       "      <td>4</td>\n",
       "    </tr>\n",
       "    <tr>\n",
       "      <th>001TKZND4DXR</th>\n",
       "      <th>0</th>\n",
       "      <td>27.333333</td>\n",
       "      <td>5.000000</td>\n",
       "      <td>3</td>\n",
       "    </tr>\n",
       "    <tr>\n",
       "      <th>001UXWLZZDQG</th>\n",
       "      <th>0</th>\n",
       "      <td>26.000000</td>\n",
       "      <td>4.500000</td>\n",
       "      <td>3</td>\n",
       "    </tr>\n",
       "    <tr>\n",
       "      <th>001WJ8QTM41X</th>\n",
       "      <th>0</th>\n",
       "      <td>20.000000</td>\n",
       "      <td>0.000000</td>\n",
       "      <td>2</td>\n",
       "    </tr>\n",
       "    <tr>\n",
       "      <th>001WP37I7I1T</th>\n",
       "      <th>0</th>\n",
       "      <td>64.000000</td>\n",
       "      <td>0.000000</td>\n",
       "      <td>2</td>\n",
       "    </tr>\n",
       "    <tr>\n",
       "      <th>001XGI2NI73R</th>\n",
       "      <th>0</th>\n",
       "      <td>157.500000</td>\n",
       "      <td>64.166667</td>\n",
       "      <td>4</td>\n",
       "    </tr>\n",
       "    <tr>\n",
       "      <th>0022L3757L7J</th>\n",
       "      <th>0</th>\n",
       "      <td>342.285714</td>\n",
       "      <td>157.313889</td>\n",
       "      <td>7</td>\n",
       "    </tr>\n",
       "    <tr>\n",
       "      <th>0023FC807SR8</th>\n",
       "      <th>0</th>\n",
       "      <td>82.000000</td>\n",
       "      <td>24.833333</td>\n",
       "      <td>4</td>\n",
       "    </tr>\n",
       "    <tr>\n",
       "      <th>0024WQMRS5XT</th>\n",
       "      <th>0</th>\n",
       "      <td>119.500000</td>\n",
       "      <td>41.000000</td>\n",
       "      <td>2</td>\n",
       "    </tr>\n",
       "    <tr>\n",
       "      <th>0025AKR8Y9XQ</th>\n",
       "      <th>0</th>\n",
       "      <td>166.000000</td>\n",
       "      <td>0.000000</td>\n",
       "      <td>2</td>\n",
       "    </tr>\n",
       "    <tr>\n",
       "      <th>0025B8BU0NYP</th>\n",
       "      <th>0</th>\n",
       "      <td>208.500000</td>\n",
       "      <td>131.000000</td>\n",
       "      <td>2</td>\n",
       "    </tr>\n",
       "    <tr>\n",
       "      <th>0029BRXGBS69</th>\n",
       "      <th>0</th>\n",
       "      <td>46.521739</td>\n",
       "      <td>13.508081</td>\n",
       "      <td>23</td>\n",
       "    </tr>\n",
       "    <tr>\n",
       "      <th>002A7PDRJU8N</th>\n",
       "      <th>0</th>\n",
       "      <td>78.000000</td>\n",
       "      <td>0.000000</td>\n",
       "      <td>2</td>\n",
       "    </tr>\n",
       "    <tr>\n",
       "      <th>002B0QBQXZ62</th>\n",
       "      <th>0</th>\n",
       "      <td>24.000000</td>\n",
       "      <td>1.500000</td>\n",
       "      <td>3</td>\n",
       "    </tr>\n",
       "    <tr>\n",
       "      <th>002CQHIQ78E8</th>\n",
       "      <th>0</th>\n",
       "      <td>28.000000</td>\n",
       "      <td>1.500000</td>\n",
       "      <td>3</td>\n",
       "    </tr>\n",
       "    <tr>\n",
       "      <th>...</th>\n",
       "      <th>...</th>\n",
       "      <td>...</td>\n",
       "      <td>...</td>\n",
       "      <td>...</td>\n",
       "    </tr>\n",
       "    <tr>\n",
       "      <th>ZZW80T2E95JL</th>\n",
       "      <th>0</th>\n",
       "      <td>40.000000</td>\n",
       "      <td>28.000000</td>\n",
       "      <td>2</td>\n",
       "    </tr>\n",
       "    <tr>\n",
       "      <th>ZZW8VOP35SN0</th>\n",
       "      <th>0</th>\n",
       "      <td>138.000000</td>\n",
       "      <td>0.000000</td>\n",
       "      <td>2</td>\n",
       "    </tr>\n",
       "    <tr>\n",
       "      <th>ZZWBXPVI1AA8</th>\n",
       "      <th>0</th>\n",
       "      <td>66.500000</td>\n",
       "      <td>3.000000</td>\n",
       "      <td>2</td>\n",
       "    </tr>\n",
       "    <tr>\n",
       "      <th>ZZWC8ATUL677</th>\n",
       "      <th>0</th>\n",
       "      <td>61.000000</td>\n",
       "      <td>0.000000</td>\n",
       "      <td>2</td>\n",
       "    </tr>\n",
       "    <tr>\n",
       "      <th>ZZWHEYWBUNJB</th>\n",
       "      <th>0</th>\n",
       "      <td>128.000000</td>\n",
       "      <td>0.000000</td>\n",
       "      <td>3</td>\n",
       "    </tr>\n",
       "    <tr>\n",
       "      <th>ZZWT75PS0J6R</th>\n",
       "      <th>0</th>\n",
       "      <td>30.600000</td>\n",
       "      <td>2.875000</td>\n",
       "      <td>5</td>\n",
       "    </tr>\n",
       "    <tr>\n",
       "      <th>ZZWZBXI100ZW</th>\n",
       "      <th>0</th>\n",
       "      <td>52.533333</td>\n",
       "      <td>15.790808</td>\n",
       "      <td>15</td>\n",
       "    </tr>\n",
       "    <tr>\n",
       "      <th>ZZX3QP2D67V3</th>\n",
       "      <th>0</th>\n",
       "      <td>67.333333</td>\n",
       "      <td>57.000000</td>\n",
       "      <td>3</td>\n",
       "    </tr>\n",
       "    <tr>\n",
       "      <th>ZZXHTPS0N1LS</th>\n",
       "      <th>0</th>\n",
       "      <td>99.500000</td>\n",
       "      <td>43.000000</td>\n",
       "      <td>2</td>\n",
       "    </tr>\n",
       "    <tr>\n",
       "      <th>ZZXTM747G31D</th>\n",
       "      <th>0</th>\n",
       "      <td>96.000000</td>\n",
       "      <td>14.000000</td>\n",
       "      <td>2</td>\n",
       "    </tr>\n",
       "    <tr>\n",
       "      <th>ZZXYYTDRRZF1</th>\n",
       "      <th>0</th>\n",
       "      <td>44.750000</td>\n",
       "      <td>17.555556</td>\n",
       "      <td>4</td>\n",
       "    </tr>\n",
       "    <tr>\n",
       "      <th>ZZY1KJ61DBKF</th>\n",
       "      <th>0</th>\n",
       "      <td>86.500000</td>\n",
       "      <td>30.976667</td>\n",
       "      <td>6</td>\n",
       "    </tr>\n",
       "    <tr>\n",
       "      <th>ZZY79DVEDF47</th>\n",
       "      <th>0</th>\n",
       "      <td>124.625000</td>\n",
       "      <td>46.829592</td>\n",
       "      <td>8</td>\n",
       "    </tr>\n",
       "    <tr>\n",
       "      <th>ZZYHTK668S4B</th>\n",
       "      <th>0</th>\n",
       "      <td>149.000000</td>\n",
       "      <td>37.250000</td>\n",
       "      <td>3</td>\n",
       "    </tr>\n",
       "    <tr>\n",
       "      <th>ZZYLIY1344B2</th>\n",
       "      <th>0</th>\n",
       "      <td>53.000000</td>\n",
       "      <td>12.000000</td>\n",
       "      <td>3</td>\n",
       "    </tr>\n",
       "    <tr>\n",
       "      <th>ZZZ0SPKF1D9B</th>\n",
       "      <th>0</th>\n",
       "      <td>52.500000</td>\n",
       "      <td>9.000000</td>\n",
       "      <td>2</td>\n",
       "    </tr>\n",
       "    <tr>\n",
       "      <th>ZZZ0V8454NZC</th>\n",
       "      <th>0</th>\n",
       "      <td>72.500000</td>\n",
       "      <td>0.666667</td>\n",
       "      <td>4</td>\n",
       "    </tr>\n",
       "    <tr>\n",
       "      <th>ZZZ1V93748SJ</th>\n",
       "      <th>0</th>\n",
       "      <td>38.000000</td>\n",
       "      <td>16.000000</td>\n",
       "      <td>2</td>\n",
       "    </tr>\n",
       "    <tr>\n",
       "      <th>ZZZ4MFAMBHZ3</th>\n",
       "      <th>0</th>\n",
       "      <td>98.600000</td>\n",
       "      <td>15.375000</td>\n",
       "      <td>5</td>\n",
       "    </tr>\n",
       "    <tr>\n",
       "      <th>ZZZ510VC67QP</th>\n",
       "      <th>0</th>\n",
       "      <td>139.000000</td>\n",
       "      <td>0.000000</td>\n",
       "      <td>3</td>\n",
       "    </tr>\n",
       "    <tr>\n",
       "      <th>ZZZ5B29UZ5R8</th>\n",
       "      <th>0</th>\n",
       "      <td>89.000000</td>\n",
       "      <td>32.750000</td>\n",
       "      <td>3</td>\n",
       "    </tr>\n",
       "    <tr>\n",
       "      <th>ZZZ5DZLM41SL</th>\n",
       "      <th>0</th>\n",
       "      <td>72.500000</td>\n",
       "      <td>21.000000</td>\n",
       "      <td>2</td>\n",
       "    </tr>\n",
       "    <tr>\n",
       "      <th>ZZZ65AH0ZA6L</th>\n",
       "      <th>0</th>\n",
       "      <td>66.666667</td>\n",
       "      <td>23.500000</td>\n",
       "      <td>3</td>\n",
       "    </tr>\n",
       "    <tr>\n",
       "      <th>ZZZ7VDJC9303</th>\n",
       "      <th>0</th>\n",
       "      <td>85.666667</td>\n",
       "      <td>24.000000</td>\n",
       "      <td>3</td>\n",
       "    </tr>\n",
       "    <tr>\n",
       "      <th>ZZZJVQ660H0J</th>\n",
       "      <th>0</th>\n",
       "      <td>79.500000</td>\n",
       "      <td>21.000000</td>\n",
       "      <td>2</td>\n",
       "    </tr>\n",
       "    <tr>\n",
       "      <th>ZZZMUHLO5WBG</th>\n",
       "      <th>0</th>\n",
       "      <td>66.000000</td>\n",
       "      <td>76.000000</td>\n",
       "      <td>2</td>\n",
       "    </tr>\n",
       "    <tr>\n",
       "      <th>ZZZOZKON2HVJ</th>\n",
       "      <th>0</th>\n",
       "      <td>69.500000</td>\n",
       "      <td>55.000000</td>\n",
       "      <td>2</td>\n",
       "    </tr>\n",
       "    <tr>\n",
       "      <th>ZZZPQ336U50Y</th>\n",
       "      <th>0</th>\n",
       "      <td>155.333333</td>\n",
       "      <td>78.000000</td>\n",
       "      <td>3</td>\n",
       "    </tr>\n",
       "    <tr>\n",
       "      <th>ZZZRFN2DZ2BV</th>\n",
       "      <th>0</th>\n",
       "      <td>85.000000</td>\n",
       "      <td>10.388889</td>\n",
       "      <td>7</td>\n",
       "    </tr>\n",
       "    <tr>\n",
       "      <th>ZZZSKOPW9P49</th>\n",
       "      <th>0</th>\n",
       "      <td>143.600000</td>\n",
       "      <td>32.125000</td>\n",
       "      <td>5</td>\n",
       "    </tr>\n",
       "  </tbody>\n",
       "</table>\n",
       "<p>363157 rows × 3 columns</p>\n",
       "</div>"
      ],
      "text/plain": [
       "                mean price   std price  num of clickouts\n",
       "user_id                                                 \n",
       "0001VQMGUI65 0   42.000000    5.145833                 5\n",
       "0004IOZI7CKF 0   99.333333   25.750000                 3\n",
       "0008BO33KUQ0 0   85.142857   34.861111                 7\n",
       "000EKQEFMW6S 0   43.000000    2.000000                 2\n",
       "000IRHJS2DL9 0   79.000000    7.750000                 3\n",
       "000LC1EWG7ZP 0   22.714286    3.197222                 7\n",
       "0010PD3FH7SV 0   38.000000   52.000000                 2\n",
       "0011WEV5DABC 0   74.500000   11.444444                 4\n",
       "0013L641G5P2 0   72.800000   51.875000                 5\n",
       "0015CRBC6OH9 0   90.000000    3.000000                 3\n",
       "0017FIR55K7R 0   25.000000    0.000000                 4\n",
       "0018EAWF0OIK 0   89.000000    0.000000                 2\n",
       "001BJ5U1AZHW 0   23.000000    0.000000                 2\n",
       "001IC3WK4AOO 0   80.500000    1.000000                 2\n",
       "001OCXQ9PXET 0  238.500000  343.000000                 2\n",
       "001Q2N2IXI18 0  104.000000   93.222222                 4\n",
       "001TKZND4DXR 0   27.333333    5.000000                 3\n",
       "001UXWLZZDQG 0   26.000000    4.500000                 3\n",
       "001WJ8QTM41X 0   20.000000    0.000000                 2\n",
       "001WP37I7I1T 0   64.000000    0.000000                 2\n",
       "001XGI2NI73R 0  157.500000   64.166667                 4\n",
       "0022L3757L7J 0  342.285714  157.313889                 7\n",
       "0023FC807SR8 0   82.000000   24.833333                 4\n",
       "0024WQMRS5XT 0  119.500000   41.000000                 2\n",
       "0025AKR8Y9XQ 0  166.000000    0.000000                 2\n",
       "0025B8BU0NYP 0  208.500000  131.000000                 2\n",
       "0029BRXGBS69 0   46.521739   13.508081                23\n",
       "002A7PDRJU8N 0   78.000000    0.000000                 2\n",
       "002B0QBQXZ62 0   24.000000    1.500000                 3\n",
       "002CQHIQ78E8 0   28.000000    1.500000                 3\n",
       "...                    ...         ...               ...\n",
       "ZZW80T2E95JL 0   40.000000   28.000000                 2\n",
       "ZZW8VOP35SN0 0  138.000000    0.000000                 2\n",
       "ZZWBXPVI1AA8 0   66.500000    3.000000                 2\n",
       "ZZWC8ATUL677 0   61.000000    0.000000                 2\n",
       "ZZWHEYWBUNJB 0  128.000000    0.000000                 3\n",
       "ZZWT75PS0J6R 0   30.600000    2.875000                 5\n",
       "ZZWZBXI100ZW 0   52.533333   15.790808                15\n",
       "ZZX3QP2D67V3 0   67.333333   57.000000                 3\n",
       "ZZXHTPS0N1LS 0   99.500000   43.000000                 2\n",
       "ZZXTM747G31D 0   96.000000   14.000000                 2\n",
       "ZZXYYTDRRZF1 0   44.750000   17.555556                 4\n",
       "ZZY1KJ61DBKF 0   86.500000   30.976667                 6\n",
       "ZZY79DVEDF47 0  124.625000   46.829592                 8\n",
       "ZZYHTK668S4B 0  149.000000   37.250000                 3\n",
       "ZZYLIY1344B2 0   53.000000   12.000000                 3\n",
       "ZZZ0SPKF1D9B 0   52.500000    9.000000                 2\n",
       "ZZZ0V8454NZC 0   72.500000    0.666667                 4\n",
       "ZZZ1V93748SJ 0   38.000000   16.000000                 2\n",
       "ZZZ4MFAMBHZ3 0   98.600000   15.375000                 5\n",
       "ZZZ510VC67QP 0  139.000000    0.000000                 3\n",
       "ZZZ5B29UZ5R8 0   89.000000   32.750000                 3\n",
       "ZZZ5DZLM41SL 0   72.500000   21.000000                 2\n",
       "ZZZ65AH0ZA6L 0   66.666667   23.500000                 3\n",
       "ZZZ7VDJC9303 0   85.666667   24.000000                 3\n",
       "ZZZJVQ660H0J 0   79.500000   21.000000                 2\n",
       "ZZZMUHLO5WBG 0   66.000000   76.000000                 2\n",
       "ZZZOZKON2HVJ 0   69.500000   55.000000                 2\n",
       "ZZZPQ336U50Y 0  155.333333   78.000000                 3\n",
       "ZZZRFN2DZ2BV 0   85.000000   10.388889                 7\n",
       "ZZZSKOPW9P49 0  143.600000   32.125000                 5\n",
       "\n",
       "[363157 rows x 3 columns]"
      ]
     },
     "execution_count": 10,
     "metadata": {},
     "output_type": "execute_result"
    }
   ],
   "source": [
    "grouped_price_more_clickouts"
   ]
  },
  {
   "cell_type": "code",
   "execution_count": 11,
>>>>>>> 18f92354377abed9821f36e0820f2eaaddd52359
   "metadata": {},
   "outputs": [
    {
     "data": {
      "text/plain": [
<<<<<<< HEAD
       "37.750141442962104"
      ]
     },
     "execution_count": 50,
=======
       "37.745602091029504"
      ]
     },
     "execution_count": 11,
>>>>>>> 18f92354377abed9821f36e0820f2eaaddd52359
     "metadata": {},
     "output_type": "execute_result"
    }
   ],
   "source": [
    "sum(grouped_price_more_clickouts['std price'].values)/len(grouped_price_more_clickouts)"
   ]
  },
  {
   "cell_type": "code",
<<<<<<< HEAD
   "execution_count": 62,
=======
   "execution_count": 12,
>>>>>>> 18f92354377abed9821f36e0820f2eaaddd52359
   "metadata": {},
   "outputs": [
    {
     "data": {
      "text/plain": [
<<<<<<< HEAD
       "Text(0.5, 0, 'difference of price wrt avarage price of clicked accomodations')"
      ]
     },
     "execution_count": 62,
=======
       "array([[<matplotlib.axes._subplots.AxesSubplot object at 0x7f91dd3984e0>]],\n",
       "      dtype=object)"
      ]
     },
     "execution_count": 12,
>>>>>>> 18f92354377abed9821f36e0820f2eaaddd52359
     "metadata": {},
     "output_type": "execute_result"
    },
    {
     "data": {
<<<<<<< HEAD
      "image/png": "iVBORw0KGgoAAAANSUhEUgAAAX0AAAEWCAYAAACKSkfIAAAABHNCSVQICAgIfAhkiAAAAAlwSFlzAAALEgAACxIB0t1+/AAAADl0RVh0U29mdHdhcmUAbWF0cGxvdGxpYiB2ZXJzaW9uIDMuMC4yLCBodHRwOi8vbWF0cGxvdGxpYi5vcmcvOIA7rQAAIABJREFUeJzt3X+8HXV95/HX2yAUCQRD4K4l0EShdENxrTckukWaANJgK7FtENAidKEpbVNrW7YbdBspul2otXQRtorABknoRbFAKrGBSgIUQfNDCFwwmmCURCTlh9GLIAY++8f3e2Q8nHPPOff8Cnfez8fjPu7Md75z5jNz5nxm5nvOfEcRgZmZlcOr+h2AmZn1jpO+mVmJOOmbmZWIk76ZWYk46ZuZlYiTvplZiTjpmwGSLpC0rIOv90lJf9Wp1zPrlD36HYBZt0m6ADgsIn63V8uMiHN7tSyzVvhM36zDJE3odwxm9Tjp27gh6X9I2i7ph5I2STpe0jzgg8CpkkYk3Z/rTpd0R657GzBllNedI2mbpA9KekLSVknvLUxfKukfJa2U9AwwN5d9tFBnvqT7JP1A0pYcF5ImSbpK0mM59o/6oGHd5OYdGxckHQEsAo6OiO9KmgZMiIgtkv6GlzfvXAfcA5wIzAZuAW4eZRH/iXRgOBh4C7BS0rqI2JSnvwd4B/CbwJ7AT5claRbwGWAB8CXgdcC+efJSYAdwGLAP8AXgUeBTLW8EsyY46dt48QKwFzBD0n9ExNZ6FSUdChwNnBARPwbulPQvTSzjr3L9OyTdArwb+EiednNE3J2Hn5NUnO9s4OqIuC2Pb89xDJAOFPtHxLPAM5IuARbipG9d4uYdGxciYjPwAeACYIekIUk/X6f6zwNPR8QzhbJvN1hErfrF1390lHkPAbbUKP8F4NXAY5K+L+n7pGR/UINYzMbMSd/GjYi4LiKOISXTAC6uTKqq+hjwWkn7FMoObfDytep/t7j4UeZ9FHhDnfIfA1MiYv/8t19EHNkgFrMxc9K3cUHSEZKOk7QX8BzwLPBinvw4ME3SqwAi4tvAOuCvJe0p6RjgnU0splL/baS2+881Gd5VwO/lL5ZfJelgSb8UEY8BtwIfl7RfnvYGSb/W9IqbtchJ38aLvYCLgCeA75GaSM7P0yrJ+UlJG/Lwe0hf4D4FfJj0Retovgc8TTq7Xw6cGxFfbyawiPgq8HvAJcBO4A7S1QjA+0hf/D6UX/8G0he9Zl0hP0TFbHSS5gDLImJqv2Mxa5fP9M3MSsRJ38ysRNy8Y2ZWIj7TNzMrkd3ujtwpU6bEtGnTxjz/M888wz777NO4Yo85rtY4rtY4rtaMx7jWr1//REQc2LBiROxWf4ODg9GO1atXtzV/tziu1jiu1jiu1ozHuIB10USOdfOOmVmJOOmbmZWIk76ZWYk46ZuZlYiTvplZiTjpm5mViJO+mVmJOOmbmZWIk76ZWYmMu6T/wPad/Q7BzGy3Ne6SvpmZ1eekb2ZWIk76ZmYl4qRvZlYiTSV9SfMkbZK0WdLiGtOPlbRB0i5JC6qmHSrpVkkPS3pI0rTOhG5mZq1qmPQlTQAuB04CZgCnS5pRVe07wFnAdTVe4jPAxyLiPwOzgB3tBGxmZmPXzJOzZgGbI+IRAElDwHzgoUqFiNiap71YnDEfHPaIiNtyvZHOhG1mZmPR8MHoublmXkSck8fPAGZHxKIadZcCX4iIG/L4u4BzgOeB6cC/AYsj4oWq+RYCCwEGBgYGh4aGxrxCO57ayUGTJ415/m4ZGRlh4sSJ/Q7jZRxXaxxXaxxXa9qJa+7cuesjYmbDio0erQUsAK4sjJ8BXFan7lJgQdW8O4HXk64qPg+cPdry2n1c4qXLbmpr/m4Zj49n6ybH1RrH1ZrxGBcdfFziduCQwvjUXNaMbcB9EfFIROwCbgLe3OS8ZmbWYc0k/bXA4ZKmS9oTOA1Y0eTrrwX2l1R5QvtxFL4LMDOz3mqY9PMZ+iJgFfAw8NmIGJZ0oaSTASQdLWkbcArwKUnDed4XgPOAL0l6ABDw6e6sipmZNdLMr3eIiJXAyqqyJYXhtaRmn1rz3ga8sY0YzcysQ3xHrplZiTjpm5mViJO+mVmJOOmbmZWIk76ZWYk46ZuZlYiTvplZiTjpm5mViJO+mVmJOOmbmZWIk76ZWYk46ZuZlYiTvplZiTjpm5mViJO+mVmJNJX0Jc2TtEnSZkmLa0w/VtIGSbvyg9Srp+8naZukyzoRtJmZjU3DpC9pAnA5cBIwAzhd0oyqat8BzgKuq/MyHwHuHHuYZmbWCc2c6c8CNueHmz8PDAHzixUiYmtEbARerJ5Z0iAwANzagXjNzKwNzST9g4FHC+PbcllDkl4FfJz0nFwzM+uzpp6R24Y/AlZGxDZJdStJWggsBBgYGGDNmjVjXuDA3rQ1f7eMjIw4rhY4rtY4rtaUOq6IGPUPeCuwqjB+PnB+nbpLgQWF8eWk9v6twBPAD4CLRlve4OBgtOPSZTe1NX+3rF69ut8h1OS4WuO4WuO4WtNOXMC6aJDPI6KpM/21wOGSpgPbgdOA9zR5QHlvZVjSWcDMiHjZr3/MzKw3GrbpR8QuYBGwCngY+GxEDEu6UNLJAJKOlrQNOAX4lKThbgZtZmZj01SbfkSsBFZWlS0pDK8FpjZ4jaWk5h8zM+sT35FrZlYiTvpmZiXipG9mViJO+mZmJeKkb2ZWIk76ZmYl4qRvZlYiTvpmZiXipG9mViJO+mZmJeKkb2ZWIk76ZmYl4qRvZlYiTvpmZiXipG9mViJO+mZmJdJU0pc0T9ImSZslvexxh5KOlbRB0i5JCwrlb5J0j6RhSRslndrJ4M3MrDUNk76kCcDlwEnADOB0STOqqn0HOAu4rqr8R8D7IuJIYB7wD5L2bzdoMzMbm2YelzgL2BwRjwBIGgLmAw9VKkTE1jztxeKMEfGNwvB3Je0ADgS+33bkZmbWsmaadw4GHi2Mb8tlLZE0C9gT2NLqvGZm1hmKiNErpDb6eRFxTh4/A5gdEYtq1F0KfCEibqgqfx2wBjgzIu6tMd9CYCHAwMDA4NDQ0JhWBmDHUzs5aPKkMc/fLSMjI0ycOLHfYbyM42qN42qN42pNO3HNnTt3fUTMbFgxIkb9A94KrCqMnw+cX6fuUmBBVdl+wIbq8np/g4OD0Y5Ll93U1vzdsnr16n6HUJPjao3jao3jak07cQHrookc20zzzlrgcEnTJe0JnAasaObIk+vfCHwmqs7+zcys9xom/YjYBSwCVgEPA5+NiGFJF0o6GUDS0ZK2AacAn5I0nGd/N3AscJak+/Lfm7qyJmZm1lAzv94hIlYCK6vKlhSG1wJTa8y3DFjWZoxmZtYhviPXzKxEnPTNzErESd/MrESc9M3MSsRJ38ysRJz0zcxKxEnfzKxEnPTNzErESd/MrESc9M3MSsRJ38ysRJz0zcxKxEnfzKxEnPTNzErESd/MrESc9M3MSqSppC9pnqRNkjZLWlxj+rGSNkjalR+kXpx2pqRv5r8zOxW4mZm1rmHSlzQBuBw4CZgBnC5pRlW17wBnAddVzTsZ+DAwG5gFfFjSa9sP28zMxqKZM/1ZwOaIeCQingeGgPnFChGxNSI2Ai9WzfvrwG0R8VREPA3cBszrQNxmZjYGzTwj92Dg0cL4NtKZezNqzXtwdSVJC4GFAAMDA6xZs6bJl3+5gb1pa/5uGRkZcVwtcFytcVytKXNcTT0Yvdsi4grgCoCZM2fGnDlzxvxan1h+M+9uY/5uWbNmDe2sV7c4rtY4rtY4rtb0Iq5mmne2A4cUxqfmsma0M6+ZmXVYM0l/LXC4pOmS9gROA1Y0+fqrgBMlvTZ/gXtiLjMzsz5omPQjYhewiJSsHwY+GxHDki6UdDKApKMlbQNOAT4laTjP+xTwEdKBYy1wYS4zM7M+aKpNPyJWAiurypYUhteSmm5qzXs1cHUbMZqZWYf4jlwzsxJx0jczKxEnfTOzEnHSNzMrESd9M7MScdI3MysRJ30zsxJx0jczKxEnfTOzEnHSNzMrESd9M7MScdI3MysRJ30zsxJx0jczKxEnfTOzEnHSNzMrkaaSvqR5kjZJ2ixpcY3pe0m6Pk//iqRpufzVkq6R9ICkhyWd39nwzcysFQ2TvqQJwOXAScAM4HRJM6qqnQ08HRGHAZcAF+fyU4C9IuIoYBD4g8oBwczMeq+ZM/1ZwOaIeCQingeGgPlVdeYD1+ThG4DjJQkIYB9JewB7A88DP+hI5GZm1jJFxOgVpAXAvIg4J4+fAcyOiEWFOg/mOtvy+BZgNrATuBY4HngN8GcRcUWNZSwEFgIMDAwMDg0NjXmFdjy1k4MmTxrz/N0yMjLCxIkT+x3Gyziu1jiu1jiu1rQT19y5c9dHxMyGFSNi1D9gAXBlYfwM4LKqOg8CUwvjW4ApwK8Cy4FXAwcBm4DXj7a8wcHBaMely25qa/5uWb16db9DqMlxtcZxtcZxtaaduIB10SCfR0RTzTvbgUMK41NzWc06uSlnEvAk8B7gXyPiJxGxA7gbaHwkMjOzrmgm6a8FDpc0XdKewGnAiqo6K4Az8/AC4PZ85PkOcByApH2AtwBf70TgZmbWuoZJPyJ2AYuAVcDDwGcjYljShZJOztWuAg6QtBn4c6Dys87LgYmShkkHj/8XERs7vRJmZtacPZqpFBErgZVVZUsKw8+Rfp5ZPd9IrXIzM+sP35FrZlYiTvpmZiXipG9mViJO+mZmJeKkb2ZWIk76ZmYl4qRvZlYiTvpmZiXipG9mViJO+mZmJeKkb2ZWIk76ZmYl4qRvZlYiTvpmZiXipG9mViJO+mZmJdJU0pc0T9ImSZslLa4xfS9J1+fpX5E0rTDtjZLukTQs6QFJP9e58M3MrBUNk76kCaTHHp4EzABOlzSjqtrZwNMRcRhwCXBxnncPYBlwbkQcCcwBftKx6M3MrCXNnOnPAjZHxCMR8TwwBMyvqjMfuCYP3wAcL0nAicDGiLgfICKejIgXOhO6mZm1ShExegVpATAvIs7J42cAsyNiUaHOg7nOtjy+BZgN/C4wCBwEHAgMRcTf1ljGQmAhwMDAwODQ0NCYV2jHUzs5aPKkMc/fLSMjI0ycOLHfYbyM42qN42qN42pNO3HNnTt3fUTMbFgxIkb9AxYAVxbGzwAuq6rzIDC1ML4FmAKcB3wrD78GuAc4frTlDQ4ORjsuXXZTW/N3y+rVq/sdQk2OqzWOqzWOqzXtxAWsiwb5PCKaat7ZDhxSGJ+ay2rWye34k4AngW3AnRHxRET8CFgJvLmJZZqZWRc0k/TXAodLmi5pT+A0YEVVnRXAmXl4AXB7PvKsAo6S9Jp8MPg14KHOhG5mZq3ao1GFiNglaREpgU8Aro6IYUkXki4nVgBXAddK2gw8RTowEBFPS/p70oEjgJURcUuX1sXMzBpomPQBImIlqWmmWLakMPwccEqdeZeRfrZpZmZ95jtyzcxKxEnfzKxEnPTNzErESd/MrESc9M3MSsRJ38ysRJz0zcxKxEnfzKxEnPTNzErESd/MrESc9M3MSsRJ38ysRJz0zcxKxEnfzKxEnPTNzErESd/MrESaSvqS5knaJGmzpMU1pu8l6fo8/SuSplVNP1TSiKTzOhO2mZmNRcOkL2kCcDlwEjADOF3SjKpqZwNPR8RhwCXAxVXT/x74YvvhmplZO5o5058FbI6IRyLieWAImF9VZz5wTR6+AThekgAkvQv4FjDcmZDNzGysFBGjV5AWAPMi4pw8fgYwOyIWFeo8mOtsy+NbgNnAc8BtwNuB84CRiPi7GstYCCwEGBgYGBwaGhrzCu14aicHTZ405vm7ZWRkhIkTJ/Y7jJdxXK1xXK1xXK1pJ665c+euj4iZjeo19WD0NlwAXBIRI/nEv6aIuAK4AmDmzJkxZ86cMS/wE8tv5t1tzN8ta9asoZ316hbH1RrH1RrH1ZpexNVM0t8OHFIYn5rLatXZJmkPYBLwJOlsf4GkvwX2B16U9FxEXNZ25GZm1rJmkv5a4HBJ00nJ/TTgPVV1VgBnAvcAC4DbI7Ubva1SQdIFpOYdJ3wzsz5pmPQjYpekRcAqYAJwdUQMS7oQWBcRK4CrgGslbQaeIh0YzMxsN9NUm35ErARWVpUtKQw/B5zS4DUuGEN8ZmbWQb4j18ysRJz0zcxKxEnfzKxEnPTNzErESd/MrESc9M3MSsRJ38ysRJz0zcxKZNwn/WmLb2Ha4lv6HYaZ2W6h271s7jaqE//Wi36jT5GYmfXPuD/TNzOzl4zLM/1mmnMqdXzGb2Zl4jN9M7MSGZdn+q0oXhX4rN/Mxjuf6ZuZlYiTfoF/2mlm411TSV/SPEmbJG2WtLjG9L0kXZ+nf0XStFz+dknrJT2Q/x/X2fA7z7/rN7PxrGHSlzQBuBw4CZgBnC5pRlW1s4GnI+Iw4BLg4lz+BPDOiDiK9AzdazsVeLc58ZvZeNTMmf4sYHNEPBIRzwNDwPyqOvOBa/LwDcDxkhQRX4uI7+byYWBvSXt1InAzM2udImL0CtICYF5EnJPHzwBmR8SiQp0Hc51teXxLrvNE1eucGxEn1FjGQmAhwMDAwODQ0NCYV2jHUzt5/Nkxz17TUQdPavs1RkZGmDhxYgei6SzH1RrH1RrH1Zp24po7d+76iJjZqF5PfrIp6UhSk8+JtaZHxBXAFQAzZ86MOXPmjHlZn1h+Mx9/oMOr9cAzbf+cc82aNbSzXt3iuFrjuFrjuFrTi7iaad7ZDhxSGJ+ay2rWkbQHMAl4Mo9PBW4E3hcRW9oNuF/8Ba+ZjQfNJP21wOGSpkvaEzgNWFFVZwXpi1qABcDtERGS9gduARZHxN2dCtrMzMamYTtIROyStAhYBUwAro6IYUkXAusiYgVwFXCtpM3AU6QDA8Ai4DBgiaQluezEiNjR6RXpFd/Ba2avZE01fkfESmBlVdmSwvBzwCk15vso8NE2Y9xtudM2M3ul8R25ZmYlUvoO1zrBTT5m9krhM/0O8y98zGx35qTfBf55p5ntrpz0u8iJ38x2N27T77JK4v+Lo3Yxp7+hmJk56feSv/A1s35z806fuN3fzPrBZ/p9Vp34fQVgZt3kM/3dlK8CzKwbfKa/mykm+1qJ31cCZtYOJ/1XmHpXAD4YmFkznPTHCV8VmFkznPTHsXpfEk9bfIsPCGYl5aRfIrW+L/iLo3Zxlu8fMCsNJ337Ga3+aqh49VAcN7PdU1NJX9I84P+Qnpx1ZURcVDV9L+AzwCDp2binRsTWPO184GzgBeD9EbGqY9Fb31UfJMbyU9NaB4oHtu90txVmXdAw6UuaAFwOvB3YBqyVtCIiHipUOxt4OiIOk3QacDFwqqQZpEcnHgn8PPBvkn4xIl7o9IrYK1etA8VfHNX/exWqr2LAfSjZK18zZ/qzgM0R8QiApCFgPlBM+vOBC/LwDcBlkpTLhyLix8C38jN0ZwH3dCZ8s+6pd9Dp98GolurvZnYXr+S4ilegzfxUul7fWs02fU5bfAtL5+0zap1OUESMXkFaAMyLiHPy+BnA7IhYVKjzYK6zLY9vAWaTDgT3RsSyXH4V8MWIuKFqGQuBhXn0CGBTG+s0BXiijfm7xXG1xnG1xnG1ZjzG9QsRcWCjSrvFF7kRcQVwRSdeS9K6iJjZidfqJMfVGsfVGsfVmjLH1UzfO9uBQwrjU3NZzTqS9gAmkb7QbWZeMzPrkWaS/lrgcEnTJe1J+mJ2RVWdFcCZeXgBcHukdqMVwGmS9pI0HTgc+GpnQjczs1Y1bN6JiF2SFgGrSD/ZvDoihiVdCKyLiBXAVcC1+Yvap0gHBnK9z5K+9N0F/HEPfrnTkWaiLnBcrXFcrXFcrSltXA2/yDUzs/HD/embmZWIk76ZWYmMm6QvaZ6kTZI2S1rcxzgOkbRa0kOShiX9aS6/QNJ2Sfflv3f0Ibatkh7Iy1+XyyZLuk3SN/P/1/Y4piMK2+Q+ST+Q9IF+bS9JV0vake89qZTV3EZKLs373EZJb+5hTB+T9PW83Bsl7Z/Lp0l6trDdPtmNmBrEVve9k3R+3l6bJP16j+O6vhDTVkn35fKebLNRckNv96+IeMX/kb5g3gK8HtgTuB+Y0adYXge8OQ/vC3wDmEG6Ue28Pm+nrcCUqrK/BRbn4cXAxX1+H78H/EK/thdwLPBm4MFG2wh4B/BFQMBbgK/0MKYTgT3y8MWFmKYV6/Vpe9V87/Ln4H5gL2B6/sxO6FVcVdM/Dizp5TYbJTf0dP8aL2f6P+0qIiKeBypdRfRcRDwWERvy8A+Bh4GD+xFLk+YD1+Tha4B39TGW44EtEfHtfgUQEXeSfoFWVG8bzQc+E8m9wP6SXteLmCLi1ojYlUfvJd0D03N1tlc9P+2WJSK+BVS6ZelpXJIEvBv4p24se5SY6uWGnu5f4yXpHww8Whjfxm6QaCVNA34F+EouWpQv067udTNKFsCtktYrdX0BMBARj+Xh7wEDfYir4jR+9oPY7+1VUW8b7S773X8jnRFWTJf0NUl3SHpbH+KB2u/d7rK93gY8HhHfLJT1dJtV5Yae7l/jJenvdiRNBD4PfCAifgD8I/AG4E3AY6TLy147JiLeDJwE/LGkY4sTI11T9uU3vEo3/p0MfC4X7Q7b62X6uY1qkfQh0j0wy3PRY8ChEfErwJ8D10nar8dh7ZbvXcHp/OzJRU+3WY3c8FO92L/GS9Lfrbp7kPRq0pu6PCL+GSAiHo+IFyLiReDTdOmydjQRsT3/3wHcmGN4vHLJmP/v6HVc2UnAhoh4PMfY9+1VUG8b9XW/k3QW8JvAe3OyIDedPJmH15PazX+xVzHl5dZ77/r+OVXqJua3gesrZb3cZrVyAz3ev8ZL0m+mq4ieyO2FVwEPR8TfF8qLbXG/BTxYPW+X49pH0r6VYdIXgQ/ys11onAnc3Mu4Cn7m7Kvf26tKvW20Anhf/pXFW4Cdhcv0rlJ6sNFfAidHxI8K5QcqPQMDSa8ndX3ySC9iKsRQ773bHbplOQH4euQegaF326xebqDX+1e3v7Hu1R/pm+5vkI7SH+pjHMeQLs82Avflv3cA1wIP5PIVwOt6HNfrSb+cuB8Yrmwj4ADgS8A3gX8DJvdhm+1D6qBvUqGsL9uLdOB5DPgJqQ317HrbiPSrisvzPvcAMLOHMW0mtfdW9rFP5rq/k9/f+4ANwDv7sL3qvnfAh/L22gSc1Mu4cvlS4Nyquj3ZZqPkhp7uX+6GwcysRMZL846ZmTXBSd/MrESc9M3MSsRJ38ysRJz0zcxKZNwl/dzD33l5+EJJJ+Tht+We7e6TtLdSL4XDkj7W34hbJ+n9kh6WtLxx7bqvsVK5Z8ZekbS/pD/q5TJ3B8X9sEuv39L+IGmNpJl5eNT9QNJSSQvGGNc0FXq5fCVS6o1zSoM6H6wa/3J3o2pPw8clvpJFxJLC6HuB/x0RywBy3zOTo8nHN0raI17q4Krf/gg4IQo3mDQr3yCiiOhp1875Tsj9SbH/3x4ud0Kz73EXl7+kcc22jHl/6PV+ME59EPibykhE/Nc+xtLQuDjTl/QhSd+Q9O/AEYXypZIWSDqH1KveRyQtl7QCmAisl3RqviPv85LW5r9fzfNfIOlaSXeTngE8IV8hrM2dSf1Brjcnnz3doNTH+fKcXJF0tKQvS7pf0lcl7VvvdWqs159LejD/fSCXfZJ0o9UXJf1ZVf2zJN2cY/mmpA/n8mlK/Zd/hnR35CHFMxhJ78tx3C/p2lxWc5tULe8WSW/Mw1+TtCQPXyjp9/N2uStv74eAi4A35Kutl11hSbpJqTO44XxQRtK5xbp5HS+rVz+Xj0j6uKT7gbdKWpLX4UFJV1S9Nxsr8VTOSpt5f/I2rbzXD+f3/jV52lZJF0vaAJyiwtlyj/eHCZL+LtffKOlParzmqPtBVd2P5HWZIGlQqXOy9ZJW6aVuBAbz/PcDf1xnPSZK+pKkDUrPd5hfmFZrXxxQembA/fnvv46yPSrvy1KlnLBc0gmS7lb6TMzK9Sbn/WejpHsL+/EBkm7N+9SVpBukKrHV2j8vAvbO+9DyXDaS/6uyX+X1PDWXj5YvLlLqb3+jpL+rtf3a1s279XrxBwyS7lZ7DbAf6U7F8wp33y2oHs7jI4Xh60idkQEcSrpNGlK/4OuBvfP4QuB/5uG9gHWkfsHnADtJfWO8CriHdPfdnqTbuY/O8+xHurqq+Tp11msf0gFqGPiVPG0rVf3i5/KzSHchHgDsTUrwM0n9hb8IvKVQdyswBTiSdCfzlFw+ebRtUrW8xaQP9iRSVxircvlq0sF3DvBMZd1o0G95YdmV2A8ADiR1m12p88VCXC+rn8cDeHf16+bha8l3XOZ53pqHL6rE1uT7My0v51fz+NW8tN9tBf6yUHcpsKAP+8MfAjfwUr/7le21hnx3ZxP7QSX2jwGfJCXBVwNfBg7MdU4Frs7DG4Fj8/DHar3feZ33y8NTSJ9ZjRLD9aTOySA9c2FSve2R35ddwFGkz+L6/N6I1FXxTfl1PgF8OA8fB9yXhy/lpX72fyO/x9XxVO9vI1XrN5L//w5wW455APgOqU/9OdTOFweQ7lSu3DS7fzdy5nho3nkbcGPk/keUzipbdQIwIx9sAfZT6gkPYEVEPJuHTwTeqJfaOCeR+ul4Hvhq5MtrpSfyTCO9sY9FxFqAyD3qSar3Ot8qxHRMXq9n8jz/nNf1aw3W5bbInUfleY4BbgK+HalP7mrHAZ+LiCdyjJU+yGtuk4gYKcx7F/D+HPctwNvz2e70iNiUz/6+Gqnv9Ga8X9Jv5eFDgMMj4l5Jjyj1PfJN4JeAu+vVJ3Xn8AKpU6uKuZL+knRiMBkYlnQXsG9E3JPrXEfqvAzqv8/V6/FoRFRiWZa3ReXs7Hpe7gh6uz+cQOqeYVde3mj93tfbDwD+ivQAj8rZ7RHALwO35f1jAvCY0ncD+0fqyx7SAfakGssS8DdKvby+SOoueGCUGI4D3pfLXgB2Sqq3PVYA34qIB3L5MPCliAhJD5A+l5C25+/k17w9n+HvR3r4ym/n8lskPV2Iu97+Vs8xwD/lmB+XdAdwNPADaueLe4HngKskfQH4wiivPWbjIel3wqsIXYVUAAADnklEQVRIZ8HPFQvzDv1MsQj4k4hYVVVvDvDjQtELjL5ta75Oh1T3q1EZf6a6YgM1t0mVtaQriUdIZzRTgN8nnV1VNLXcvA1PIJ15/0jSGuDn8uQhUvPc10kf9GhQ/7n8QUPSz5G+Q5gZEY9KuqBQr244NPf+1NvW0Nr27ub+0AlrgUFJk3MiFjAcEW8tVlLzPwx4L+kKbjAifiJpK43fk1YUP4svFsZfZIw5r8H+1m6ML5Cuxnbl5qfjSVdXi0gHvI4aD236dwLvUvpFzr7AO8fwGrcCP23vlPSmOvVWAX+o1D0qkn5RqcfKejYBr5N0dK6/r9IXms28zl15vV6Tp/1WLmvk7bm9cm/SE3jublD/dlK78wE5lsm5vOE2ifSUskeBU0iXqHcB55Hek1p+SHpMXC2TgKfzB+qXSI+Hq7iRdGl+OukA0Kh+UeWD+US+eluQY/8+8ENJs/P00wrzNPs+HyqpkvjeA/x7nRgqer0/3Ab8QV5G8b2tpd5+APCvpOavW/JnbBNwYGXdJb1a0pF5m34/n4VDSu61TAJ25IQ/l/R4zNFi+BKpqaryPcWkMW6Porsq8eWE/kS+8rqT9F4i6SSg8gCY0fa3n1TeuxrLODXHfCDpKqJur6J5/5wUESuBPwP+Swvr07RX/Jl+RGyQdD2p98gdpLOSVr0fuFzSRtI2uRM4t0a9K0mXYRvyFy//wSiPF4yI5/OXN5/ISfhZ0tlCw9fJ67WUl3aSKyOiUdMOuf7nSe2FyyJindJTeurFOCzpfwF3SHqB1FxwFs1vk7uA4yPi2dxkMpU6H76IeFLpC7UHgS9GxH8vTP5X4FxJD5OSyr2F+Z7O5TMi4quN6lct8/uSPk1qg/0eP7t/nA18WtKLwB2k5jho/n3eRHoYzdWkL6r/sVYMhVh6vT9cSeoXfqOkn5D6tr+sTmz19oPK9M/lhL+C1DPkAuDSnID3AP6B1K7+e8DVkoJ04lDLcuBfcnPLOtIV3Ggx/ClwhaSzSWfFfxgR99TaHqPt61UuyHFuBH7ES10b/zXwT7lZ6MukdngYfX+7grSNN0RE8UB3I/BWUm4K0vc838sHjVr2BW7OV6ciPdCl49zL5jii9FCNmRGxqN+xvBKo8B2FpMWkLoD/tMl5pwFfiIhf7l6EZp33ij/TN2vDb0g6n/Q5+DaFM1uz8cpn+mZmJTIevsg1M7MmOembmZWIk76ZWYk46ZuZlYiTvplZifx/Ex0RzVm8h8YAAAAASUVORK5CYII=\n",
=======
      "image/png": "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\n",
>>>>>>> 18f92354377abed9821f36e0820f2eaaddd52359
      "text/plain": [
       "<Figure size 432x288 with 1 Axes>"
      ]
     },
     "metadata": {
      "needs_background": "light"
     },
     "output_type": "display_data"
    }
   ],
   "source": [
<<<<<<< HEAD
    "grouped_price_more_clickouts.hist(column = 'std price', bins = 200, range=[0, 200], weights = np.ones(len(grouped_price_more_clickouts))/len(grouped_price_more_clickouts))\n",
    "plt.xlabel('difference of price wrt avarage price of clicked accomodations')"
=======
    "grouped_price_more_clickouts.hist(column = 'std price', bins = 100, range=[0, 100], weights = np.ones(len(grouped_price_more_clickouts))/len(grouped_price_more_clickouts))"
>>>>>>> 18f92354377abed9821f36e0820f2eaaddd52359
   ]
  },
  {
   "cell_type": "code",
<<<<<<< HEAD
   "execution_count": 60,
=======
   "execution_count": 13,
>>>>>>> 18f92354377abed9821f36e0820f2eaaddd52359
   "metadata": {},
   "outputs": [
    {
     "data": {
      "text/plain": [
<<<<<<< HEAD
       "Text(0.5, 0, 'cumulative difference of price wrt avarage price of clicked accomodations')"
      ]
     },
     "execution_count": 60,
=======
       "array([[<matplotlib.axes._subplots.AxesSubplot object at 0x7f91b080c7b8>]],\n",
       "      dtype=object)"
      ]
     },
     "execution_count": 13,
>>>>>>> 18f92354377abed9821f36e0820f2eaaddd52359
     "metadata": {},
     "output_type": "execute_result"
    },
    {
     "data": {
<<<<<<< HEAD
      "image/png": "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\n",
=======
      "image/png": "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\n",
>>>>>>> 18f92354377abed9821f36e0820f2eaaddd52359
      "text/plain": [
       "<Figure size 432x288 with 1 Axes>"
      ]
     },
     "metadata": {
      "needs_background": "light"
     },
     "output_type": "display_data"
    }
   ],
   "source": [
    "grouped_price_more_clickouts.hist(cumulative = True, bins = 100, range=[0, 200], column = 'std price', weights = np.ones(len(grouped_price_more_clickouts))/len(grouped_price_more_clickouts))\n",
    "plt.xlabel('cumulative difference of price wrt avarage price of clicked accomodations')"
   ]
  },
  {
   "cell_type": "markdown",
   "metadata": {},
   "source": [
    "# Do we have less variance considering only the last clickout of a user instead of the mean of all the previous clickouts?"
   ]
  },
  {
   "cell_type": "code",
   "execution_count": 16,
   "metadata": {},
   "outputs": [],
   "source": [
    "def func2(x):\n",
    "    if len(x) > 1:\n",
    "        iters = 1\n",
    "        last_row = None\n",
    "        var = []\n",
    "        for idx, row in x.iterrows():\n",
    "            if iters == 1:\n",
    "                last_row = row\n",
    "            else:\n",
    "                impression = list(map(int, row['impressions'].split('|')))\n",
    "                prices = list(map(int, row['prices'].split('|')))\n",
    "                clickout_item = int(row['reference'])\n",
    "                last_impression = list(map(int, last_row['impressions'].split('|')))\n",
    "                last_prices = list(map(int, last_row['prices'].split('|')))\n",
    "                last_clickout_item = int(last_row['reference'])\n",
    "                if clickout_item in impression and last_clickout_item in last_impression:\n",
    "                    price = prices[impression.index(clickout_item)]\n",
    "                    last_price = last_prices[last_impression.index(last_clickout_item)]\n",
    "                    var.append(abs(price - last_price))\n",
    "                last_row = row\n",
    "            iters += 1\n",
    "        d = {'diff wrt preceding clickout price': var}\n",
    "        return pd.DataFrame(data=d)"
   ]
  },
  {
   "cell_type": "code",
   "execution_count": 17,
   "metadata": {},
   "outputs": [],
   "source": [
    "grouped_std_price_preceding_clickouts = df.groupby(['user_id']).apply(func2)"
   ]
  },
  {
   "cell_type": "code",
   "execution_count": 18,
   "metadata": {},
   "outputs": [
    {
     "data": {
      "text/plain": [
       "array([[<matplotlib.axes._subplots.AxesSubplot object at 0x7f216d408898>]],\n",
       "      dtype=object)"
      ]
     },
     "execution_count": 18,
     "metadata": {},
     "output_type": "execute_result"
    },
    {
     "data": {
      "image/png": "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\n",
      "text/plain": [
       "<Figure size 432x288 with 1 Axes>"
      ]
     },
     "metadata": {
      "needs_background": "light"
     },
     "output_type": "display_data"
    }
   ],
   "source": [
    "grouped_std_price_preceding_clickouts.hist(column = 'diff wrt preceding clickout price', bins = 50, range=[0, 200], weights = np.ones(len(grouped_std_price_preceding_clickouts))/len(grouped_std_price_preceding_clickouts))"
   ]
  },
  {
   "cell_type": "code",
   "execution_count": 19,
   "metadata": {},
   "outputs": [
    {
     "data": {
      "text/plain": [
       "array([[<matplotlib.axes._subplots.AxesSubplot object at 0x7f216cfb09b0>]],\n",
       "      dtype=object)"
      ]
     },
     "execution_count": 19,
     "metadata": {},
     "output_type": "execute_result"
    },
    {
     "data": {
      "image/png": "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\n",
      "text/plain": [
       "<Figure size 432x288 with 1 Axes>"
      ]
     },
     "metadata": {
      "needs_background": "light"
     },
     "output_type": "display_data"
    }
   ],
   "source": [
    "grouped_std_price_preceding_clickouts.hist(cumulative = True, column = 'diff wrt preceding clickout price', bins = 100, range=[0, 200], weights = np.ones(len(grouped_std_price_preceding_clickouts))/len(grouped_std_price_preceding_clickouts))"
   ]
  },
  {
   "cell_type": "code",
   "execution_count": 110,
   "metadata": {},
   "outputs": [],
   "source": [
    "def func3(x):\n",
    "    if len(x) > 1:\n",
    "        iters = 1\n",
    "        last_row = None\n",
    "        var = []\n",
    "        for idx, row in x.iterrows():\n",
    "            if iters == 1:\n",
    "                last_row = row\n",
    "            else:\n",
    "                impression = list(map(int, row['impressions'].split('|')))\n",
    "                prices = list(map(int, row['prices'].split('|')))\n",
    "                clickout_item = int(row['reference'])\n",
    "                impression_prices = [[impression[i], prices[i]] for i in range(len(impression))]\n",
    "                impression_prices.sort(key=lambda e: int(e[1]))\n",
    "                impression = [e[0] for e in impression_prices]\n",
    "                \n",
    "                last_impression = list(map(int, last_row['impressions'].split('|')))\n",
    "                last_prices = list(map(int, last_row['prices'].split('|')))\n",
    "                last_clickout_item = int(last_row['reference'])\n",
    "                last_impression_prices = [[last_impression[i], last_prices[i]] for i in range(len(last_impression))]\n",
    "                last_impression_prices.sort(key=lambda e: int(e[1]))\n",
    "                last_impression = [e[0] for e in last_impression_prices]\n",
    "                \n",
    "                if clickout_item in impression and last_clickout_item in last_impression:\n",
    "                    pos_price = impression.index(clickout_item) + 1\n",
    "                    last_pos_price = last_impression.index(last_clickout_item) + 1\n",
    "                    var.append(abs(pos_price - last_pos_price))\n",
    "                last_row = row\n",
    "            iters += 1\n",
    "        d = {'diff wrt preceding clickout price': var}\n",
    "        return pd.DataFrame(data=d)"
   ]
  },
  {
   "cell_type": "code",
   "execution_count": 111,
   "metadata": {
    "scrolled": true
   },
   "outputs": [],
   "source": [
    "grouped_std_price_preceding_clickouts = df.groupby(['user_id']).apply(func3)"
   ]
  },
  {
   "cell_type": "code",
   "execution_count": 112,
   "metadata": {},
   "outputs": [
    {
     "data": {
      "text/plain": [
       "array([[<matplotlib.axes._subplots.AxesSubplot object at 0x7fea98e91da0>]],\n",
       "      dtype=object)"
      ]
     },
     "execution_count": 112,
     "metadata": {},
     "output_type": "execute_result"
    },
    {
     "data": {
      "image/png": "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\n",
      "text/plain": [
       "<Figure size 432x288 with 1 Axes>"
      ]
     },
     "metadata": {
      "needs_background": "light"
     },
     "output_type": "display_data"
    }
   ],
   "source": [
    "grouped_std_price_preceding_clickouts.hist(column = 'diff wrt preceding clickout price', bins = 25, range=[0, 25], weights = np.ones(len(grouped_std_price_preceding_clickouts))/len(grouped_std_price_preceding_clickouts))"
   ]
  },
  {
   "cell_type": "code",
   "execution_count": 113,
   "metadata": {},
   "outputs": [
    {
     "data": {
      "text/plain": [
       "array([[<matplotlib.axes._subplots.AxesSubplot object at 0x7fea98de1ef0>]],\n",
       "      dtype=object)"
      ]
     },
     "execution_count": 113,
     "metadata": {},
     "output_type": "execute_result"
    },
    {
     "data": {
      "image/png": "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\n",
      "text/plain": [
       "<Figure size 432x288 with 1 Axes>"
      ]
     },
     "metadata": {
      "needs_background": "light"
     },
     "output_type": "display_data"
    }
   ],
   "source": [
    "grouped_std_price_preceding_clickouts.hist(cumulative = True, column = 'diff wrt preceding clickout price', bins=25, range=[0, 25], weights = np.ones(len(grouped_std_price_preceding_clickouts))/len(grouped_std_price_preceding_clickouts))"
   ]
  }
 ],
 "metadata": {
  "kernelspec": {
   "display_name": "Python 3",
   "language": "python",
   "name": "python3"
  },
  "language_info": {
   "codemirror_mode": {
    "name": "ipython",
    "version": 3
   },
   "file_extension": ".py",
   "mimetype": "text/x-python",
   "name": "python",
   "nbconvert_exporter": "python",
   "pygments_lexer": "ipython3",
   "version": "3.7.0"
  }
 },
 "nbformat": 4,
 "nbformat_minor": 2
}
