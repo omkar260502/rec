{
 "cells": [
  {
   "cell_type": "markdown",
   "metadata": {},
   "source": [
    "# Is it true that in the test we have to predict the last clickouts of the users?"
   ]
  },
  {
   "cell_type": "code",
   "execution_count": 2,
   "metadata": {},
   "outputs": [],
   "source": [
    "import os\n",
    "os.chdir('./..')"
   ]
  },
  {
   "cell_type": "code",
   "execution_count": 3,
   "metadata": {},
   "outputs": [],
   "source": [
    "import data\n",
    "import pandas as pd"
   ]
  },
  {
   "cell_type": "code",
   "execution_count": 10,
   "metadata": {},
   "outputs": [],
   "source": [
    "import numpy as np"
   ]
  },
  {
   "cell_type": "code",
   "execution_count": 4,
   "metadata": {},
   "outputs": [
    {
     "name": "stderr",
     "output_type": "stream",
     "text": [
      "/home/giovanni/miniconda3/lib/python3.7/site-packages/numpy/lib/arraysetops.py:522: FutureWarning: elementwise comparison failed; returning scalar instead, but in the future will perform elementwise comparison\n",
      "  mask |= (ar1 == a)\n"
     ]
    }
   ],
   "source": [
    "df = data.test_df('full')"
   ]
  },
  {
   "cell_type": "code",
   "execution_count": 6,
   "metadata": {},
   "outputs": [],
   "source": [
    "df_clknull = df[(df['action_type'] == 'clickout item') & (df['reference'].isnull())]"
   ]
  },
  {
   "cell_type": "code",
   "execution_count": 12,
   "metadata": {},
   "outputs": [],
   "source": [
    "def existsIndex(df, idx):\n",
    "    try:\n",
    "        df.loc[idx]\n",
    "        return True\n",
    "    except KeyError:\n",
    "        return False"
   ]
  },
  {
   "cell_type": "code",
   "execution_count": 16,
   "metadata": {},
   "outputs": [],
   "source": [
    "sess_ids = []\n",
    "for idx, row in df_clknull.iterrows():\n",
    "    sess = row['session_id']\n",
    "    i = 1\n",
    "    while True:\n",
    "        if existsIndex(df, idx+i):\n",
    "            next_row = df.loc[idx+i]\n",
    "            if next_row['session_id'] == sess:\n",
    "                if next_row['action_type'] == 'clickout item':\n",
    "                    sess_ids.append(sess)\n",
    "            else:\n",
    "                break\n",
    "            i += 1\n",
    "        else:\n",
    "            break"
   ]
  },
  {
   "cell_type": "code",
   "execution_count": 17,
   "metadata": {},
   "outputs": [
    {
     "data": {
      "text/plain": [
       "['cbe3752713eee']"
      ]
     },
     "execution_count": 17,
     "metadata": {},
     "output_type": "execute_result"
    }
   ],
   "source": [
    "sess_ids"
   ]
  },
  {
   "cell_type": "code",
   "execution_count": 20,
   "metadata": {},
   "outputs": [
    {
     "data": {
      "text/html": [
       "<div>\n",
       "<style scoped>\n",
       "    .dataframe tbody tr th:only-of-type {\n",
       "        vertical-align: middle;\n",
       "    }\n",
       "\n",
       "    .dataframe tbody tr th {\n",
       "        vertical-align: top;\n",
       "    }\n",
       "\n",
       "    .dataframe thead th {\n",
       "        text-align: right;\n",
       "    }\n",
       "</style>\n",
       "<table border=\"1\" class=\"dataframe\">\n",
       "  <thead>\n",
       "    <tr style=\"text-align: right;\">\n",
       "      <th></th>\n",
       "      <th>user_id</th>\n",
       "      <th>session_id</th>\n",
       "      <th>timestamp</th>\n",
       "      <th>step</th>\n",
       "      <th>action_type</th>\n",
       "      <th>reference</th>\n",
       "      <th>platform</th>\n",
       "      <th>city</th>\n",
       "      <th>device</th>\n",
       "      <th>current_filters</th>\n",
       "      <th>impressions</th>\n",
       "      <th>prices</th>\n",
       "    </tr>\n",
       "  </thead>\n",
       "  <tbody>\n",
       "    <tr>\n",
       "      <th>16727756</th>\n",
       "      <td>HDFSLRD2P5IC</td>\n",
       "      <td>cbe3752713eee</td>\n",
       "      <td>1541623639</td>\n",
       "      <td>1</td>\n",
       "      <td>clickout item</td>\n",
       "      <td>1258844</td>\n",
       "      <td>IT</td>\n",
       "      <td>Naples, Italy</td>\n",
       "      <td>mobile</td>\n",
       "      <td>NaN</td>\n",
       "      <td>1258844|4719620|896773|21097|1240467|45930|153...</td>\n",
       "      <td>107|69|99|98|109|108|122|75|222|70|129|95|131|...</td>\n",
       "    </tr>\n",
       "    <tr>\n",
       "      <th>16727757</th>\n",
       "      <td>HDFSLRD2P5IC</td>\n",
       "      <td>cbe3752713eee</td>\n",
       "      <td>1541623682</td>\n",
       "      <td>2</td>\n",
       "      <td>clickout item</td>\n",
       "      <td>21126</td>\n",
       "      <td>IT</td>\n",
       "      <td>Naples, Italy</td>\n",
       "      <td>mobile</td>\n",
       "      <td>NaN</td>\n",
       "      <td>1258844|4719620|1240467|21097|153190|45930|211...</td>\n",
       "      <td>183|99|130|511|141|124|240|166|179|94|191|83|6...</td>\n",
       "    </tr>\n",
       "    <tr>\n",
       "      <th>16727758</th>\n",
       "      <td>HDFSLRD2P5IC</td>\n",
       "      <td>cbe3752713eee</td>\n",
       "      <td>1541623722</td>\n",
       "      <td>3</td>\n",
       "      <td>interaction item info</td>\n",
       "      <td>45807</td>\n",
       "      <td>IT</td>\n",
       "      <td>Naples, Italy</td>\n",
       "      <td>mobile</td>\n",
       "      <td>NaN</td>\n",
       "      <td>NaN</td>\n",
       "      <td>NaN</td>\n",
       "    </tr>\n",
       "    <tr>\n",
       "      <th>16727759</th>\n",
       "      <td>HDFSLRD2P5IC</td>\n",
       "      <td>cbe3752713eee</td>\n",
       "      <td>1541623725</td>\n",
       "      <td>4</td>\n",
       "      <td>clickout item</td>\n",
       "      <td>45807</td>\n",
       "      <td>IT</td>\n",
       "      <td>Naples, Italy</td>\n",
       "      <td>mobile</td>\n",
       "      <td>NaN</td>\n",
       "      <td>1258844|4719620|1240467|21097|153190|45930|211...</td>\n",
       "      <td>183|99|130|511|141|124|240|166|179|94|191|83|6...</td>\n",
       "    </tr>\n",
       "    <tr>\n",
       "      <th>16727760</th>\n",
       "      <td>HDFSLRD2P5IC</td>\n",
       "      <td>cbe3752713eee</td>\n",
       "      <td>1541624037</td>\n",
       "      <td>5</td>\n",
       "      <td>clickout item</td>\n",
       "      <td>NaN</td>\n",
       "      <td>IT</td>\n",
       "      <td>Pozzuoli, Italy</td>\n",
       "      <td>mobile</td>\n",
       "      <td>NaN</td>\n",
       "      <td>45927|1258844|21154|4719620|873351|21061|21072...</td>\n",
       "      <td>93|183|240|99|62|166|179|161|94|191|83|65|94|5...</td>\n",
       "    </tr>\n",
       "    <tr>\n",
       "      <th>16727761</th>\n",
       "      <td>HDFSLRD2P5IC</td>\n",
       "      <td>cbe3752713eee</td>\n",
       "      <td>1541660263</td>\n",
       "      <td>1</td>\n",
       "      <td>search for poi</td>\n",
       "      <td>Piazza del Plebiscito</td>\n",
       "      <td>IT</td>\n",
       "      <td>Naples, Italy</td>\n",
       "      <td>mobile</td>\n",
       "      <td>NaN</td>\n",
       "      <td>NaN</td>\n",
       "      <td>NaN</td>\n",
       "    </tr>\n",
       "    <tr>\n",
       "      <th>16727762</th>\n",
       "      <td>HDFSLRD2P5IC</td>\n",
       "      <td>cbe3752713eee</td>\n",
       "      <td>1541660358</td>\n",
       "      <td>2</td>\n",
       "      <td>clickout item</td>\n",
       "      <td>21061</td>\n",
       "      <td>IT</td>\n",
       "      <td>Naples, Italy</td>\n",
       "      <td>mobile</td>\n",
       "      <td>NaN</td>\n",
       "      <td>21061|21072|21082|21100|45804|7163046|81348|73...</td>\n",
       "      <td>106|129|125|131|90|65|142|70|125|89|98|124|44|...</td>\n",
       "    </tr>\n",
       "  </tbody>\n",
       "</table>\n",
       "</div>"
      ],
      "text/plain": [
       "               user_id     session_id   timestamp  step  \\\n",
       "16727756  HDFSLRD2P5IC  cbe3752713eee  1541623639     1   \n",
       "16727757  HDFSLRD2P5IC  cbe3752713eee  1541623682     2   \n",
       "16727758  HDFSLRD2P5IC  cbe3752713eee  1541623722     3   \n",
       "16727759  HDFSLRD2P5IC  cbe3752713eee  1541623725     4   \n",
       "16727760  HDFSLRD2P5IC  cbe3752713eee  1541624037     5   \n",
       "16727761  HDFSLRD2P5IC  cbe3752713eee  1541660263     1   \n",
       "16727762  HDFSLRD2P5IC  cbe3752713eee  1541660358     2   \n",
       "\n",
       "                    action_type              reference platform  \\\n",
       "16727756          clickout item                1258844       IT   \n",
       "16727757          clickout item                  21126       IT   \n",
       "16727758  interaction item info                  45807       IT   \n",
       "16727759          clickout item                  45807       IT   \n",
       "16727760          clickout item                    NaN       IT   \n",
       "16727761         search for poi  Piazza del Plebiscito       IT   \n",
       "16727762          clickout item                  21061       IT   \n",
       "\n",
       "                     city  device current_filters  \\\n",
       "16727756    Naples, Italy  mobile             NaN   \n",
       "16727757    Naples, Italy  mobile             NaN   \n",
       "16727758    Naples, Italy  mobile             NaN   \n",
       "16727759    Naples, Italy  mobile             NaN   \n",
       "16727760  Pozzuoli, Italy  mobile             NaN   \n",
       "16727761    Naples, Italy  mobile             NaN   \n",
       "16727762    Naples, Italy  mobile             NaN   \n",
       "\n",
       "                                                impressions  \\\n",
       "16727756  1258844|4719620|896773|21097|1240467|45930|153...   \n",
       "16727757  1258844|4719620|1240467|21097|153190|45930|211...   \n",
       "16727758                                                NaN   \n",
       "16727759  1258844|4719620|1240467|21097|153190|45930|211...   \n",
       "16727760  45927|1258844|21154|4719620|873351|21061|21072...   \n",
       "16727761                                                NaN   \n",
       "16727762  21061|21072|21082|21100|45804|7163046|81348|73...   \n",
       "\n",
       "                                                     prices  \n",
       "16727756  107|69|99|98|109|108|122|75|222|70|129|95|131|...  \n",
       "16727757  183|99|130|511|141|124|240|166|179|94|191|83|6...  \n",
       "16727758                                                NaN  \n",
       "16727759  183|99|130|511|141|124|240|166|179|94|191|83|6...  \n",
       "16727760  93|183|240|99|62|166|179|161|94|191|83|65|94|5...  \n",
       "16727761                                                NaN  \n",
       "16727762  106|129|125|131|90|65|142|70|125|89|98|124|44|...  "
      ]
     },
     "execution_count": 20,
     "metadata": {},
     "output_type": "execute_result"
    }
   ],
   "source": [
    "df[df['session_id'].isin(sess_ids)]"
   ]
  }
 ],
 "metadata": {
  "kernelspec": {
   "display_name": "Python 3",
   "language": "python",
   "name": "python3"
  },
  "language_info": {
   "codemirror_mode": {
    "name": "ipython",
    "version": 3
   },
   "file_extension": ".py",
   "mimetype": "text/x-python",
   "name": "python",
   "nbconvert_exporter": "python",
   "pygments_lexer": "ipython3",
   "version": "3.7.0"
  }
 },
 "nbformat": 4,
 "nbformat_minor": 2
}
