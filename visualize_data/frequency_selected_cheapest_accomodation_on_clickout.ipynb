{
 "cells": [
  {
   "cell_type": "code",
   "execution_count": 1,
   "metadata": {},
   "outputs": [],
   "source": [
    "import sys\n",
    "import os\n",
    "\n",
    "os.chdir(\"../\")"
   ]
  },
  {
   "cell_type": "code",
   "execution_count": 2,
   "metadata": {},
   "outputs": [],
   "source": [
    "import pandas as pd\n",
    "import matplotlib.pyplot as plt\n",
    "import numpy as np\n",
    "from matplotlib.ticker import PercentFormatter"
   ]
  },
  {
   "cell_type": "markdown",
   "metadata": {},
   "source": [
    "# How many times the cheapest proposed accomodation is picked by the user?  "
   ]
  },
  {
   "cell_type": "code",
   "execution_count": 3,
   "metadata": {},
   "outputs": [],
   "source": [
    "df = pd.read_csv('dataset/original/train.csv')\n",
    "df = df[df['action_type'] == 'clickout item']\n",
    "df = df[~df['reference'].isnull()]\n",
    "\n",
    "df_test = pd.read_csv('dataset/original/test.csv')\n",
    "df_test = df_test[df_test['action_type'] == 'clickout item']\n",
    "df_test = df_test[~df_test['reference'].isnull()]\n",
    "\n",
    "df = pd.concat([df, df_test], ignore_index=True)"
   ]
  },
  {
   "cell_type": "code",
   "execution_count": 5,
   "metadata": {},
   "outputs": [
    {
     "data": {
      "text/plain": [
       "Text(0, 0.5, 'percentage of clickout')"
      ]
     },
     "execution_count": 5,
     "metadata": {},
     "output_type": "execute_result"
    },
    {
     "data": {
      "image/png": "[encoded data removed]",
      "text/plain": [
       "<Figure size 432x288 with 1 Axes>"
      ]
     },
     "metadata": {
      "needs_background": "light"
     },
     "output_type": "display_data"
    }
   ],
   "source": [
    "freq_item = np.zeros((25))\n",
    "for index, row in df.iterrows():\n",
    "    impression = list(map(int, row['impressions'].split('|')))\n",
    "    prices = list(map(int, row['prices'].split('|')))\n",
    "    clickout_item = int(row['reference'])\n",
    "    impression_prices = [[impression[i], prices[i]] for i in range(len(impression))]\n",
    "    impression_prices.sort(key=lambda x: int(x[1]))\n",
    "    impression = [e[0] for e in impression_prices]\n",
    "    if clickout_item in impression:\n",
    "        idx = impression.index(clickout_item)\n",
    "        freq_item[idx] = freq_item[idx] + 1\n",
    "        \n",
    "freq_item = freq_item/np.sum(freq_item)\n",
    "\n",
    "x = np.arange(1,26)\n",
    "plt.bar(x, height=list(freq_item)) \n",
    "plt.xticks(x)\n",
    "plt.xlabel('nth most cheap accomodation')\n",
    "plt.ylabel('percentage of clickout')"
   ]
  },
  {
   "cell_type": "markdown",
   "metadata": {},
   "source": [
    "### More then 10% of the clickouts were done on the cheapest accomodation among the ones proposed. "
   ]
  },
  {
   "cell_type": "code",
   "execution_count": 6,
   "metadata": {},
   "outputs": [
    {
     "data": {
      "text/plain": [
       "array([0.10520523, 0.07913876, 0.06629763, 0.05856265, 0.05288581,\n",
       "       0.04846644, 0.04485796, 0.04262893, 0.0401613 , 0.03793603,\n",
       "       0.03639967, 0.03426038, 0.03251337, 0.03127848, 0.02990387,\n",
       "       0.02872487, 0.02813268, 0.02726214, 0.02628626, 0.02575587,\n",
       "       0.02525611, 0.02469939, 0.02483481, 0.02432699, 0.02422435])"
      ]
     },
     "execution_count": 6,
     "metadata": {},
     "output_type": "execute_result"
    }
   ],
   "source": [
    "freq_item"
   ]
  },
  {
   "cell_type": "markdown",
   "metadata": {},
   "source": [
    "# Do the statistics change if are considered the clickouts of users with no other clickouts?"
   ]
  },
  {
   "cell_type": "code",
   "execution_count": 19,
   "metadata": {},
   "outputs": [],
   "source": [
    "def func(x):\n",
    "    if len(x) == 1:\n",
    "        idx = 0\n",
    "        for index, row in x.iterrows():\n",
    "            impression = list(map(int, row['impressions'].split('|')))\n",
    "            prices = list(map(int, row['prices'].split('|')))\n",
    "            clickout_item = int(row['reference'])\n",
    "            impression_prices = [[impression[i], prices[i]] for i in range(len(impression))]\n",
    "            impression_prices.sort(key=lambda x: int(x[1]))\n",
    "            impression = [e[0] for e in impression_prices]\n",
    "            if clickout_item in impression:\n",
    "                idx = impression.index(clickout_item)\n",
    "\n",
    "        d = {'position': [idx]}\n",
    "        return pd.DataFrame(data=d)"
   ]
  },
  {
   "cell_type": "code",
   "execution_count": 26,
   "metadata": {
    "scrolled": true
   },
   "outputs": [],
   "source": [
    "grouped = df.groupby(['user_id']).apply(func)"
   ]
  },
  {
   "cell_type": "markdown",
   "metadata": {},
   "source": [
    "### Not a significative difference"
   ]
  },
  {
   "cell_type": "code",
   "execution_count": 27,
   "metadata": {},
   "outputs": [
    {
     "data": {
      "text/plain": [
       "array([[<matplotlib.axes._subplots.AxesSubplot object at 0x7fca678b6518>]],\n",
       "      dtype=object)"
      ]
     },
     "execution_count": 27,
     "metadata": {},
     "output_type": "execute_result"
    },
    {
     "data": {
      "image/png": "[encoded data removed]",
      "text/plain": [
       "<Figure size 432x288 with 1 Axes>"
      ]
     },
     "metadata": {
      "needs_background": "light"
     },
     "output_type": "display_data"
    }
   ],
   "source": [
    "grouped.hist(column = 'position', bins = 25, weights = np.ones(len(grouped))/len(grouped))"
   ]
  }
 ],
 "metadata": {
  "kernelspec": {
   "display_name": "Python 3",
   "language": "python",
   "name": "python3"
  },
  "language_info": {
   "codemirror_mode": {
    "name": "ipython",
    "version": 3
   },
   "file_extension": ".py",
   "mimetype": "text/x-python",
   "name": "python",
   "nbconvert_exporter": "python",
   "pygments_lexer": "ipython3",
   "version": "3.7.0"
  }
 },
 "nbformat": 4,
 "nbformat_minor": 2
}
