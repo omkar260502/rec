{
 "cells": [
  {
   "cell_type": "code",
   "execution_count": 2,
   "metadata": {},
   "outputs": [],
   "source": [
    "import os\n",
    "os.chdir('./..')"
   ]
  },
  {
   "cell_type": "code",
   "execution_count": 3,
   "metadata": {},
   "outputs": [],
   "source": [
    "import data\n",
    "import pandas as pd\n",
    "from tqdm import tqdm"
   ]
  },
  {
   "cell_type": "code",
   "execution_count": 4,
   "metadata": {},
   "outputs": [],
   "source": [
    "def _session_score_negative_value_seen_elem(df):\n",
    "    # initialize the dict that will contain the scores of the references\n",
    "    score = {}\n",
    "    ref_last_clickout = None\n",
    "    clickout_items_not_final = None\n",
    "    session_impressions = None\n",
    "    numeric_references = []\n",
    "    \n",
    "    # get all the impressions of the clickouts\n",
    "    clickouts = df[df['action_type']=='clickout item']\n",
    "    \n",
    "    #check if there is at least one clickout\n",
    "    if len(clickouts) > 0:\n",
    "        ref_last_click = int(clickouts.tail(1)['reference'])\n",
    "        if ref_last_click != -1:\n",
    "            ref_last_clickout = ref_last_click\n",
    "        \n",
    "        # check if in the session there are more than 1 clickout\n",
    "        if len(clickouts) > 1:\n",
    "        # remove the row of last clickout\n",
    "            clicked_ref = list(map(int,(clickouts['reference'].unique())))\n",
    "            # remove the last click from the clicked one\n",
    "            if ref_last_clickout is not None:\n",
    "                clicked_ref.remove(ref_last_clickout)\n",
    "            clickout_items_not_final = clicked_ref\n",
    "        \n",
    "        session_impressions = list(map(int,clickouts[clickouts['reference']!=-1]['reference'].unique()))\n",
    "        # remove from the impressions the last clicked\n",
    "        if ref_last_clickout is not None:\n",
    "            session_impressions.remove(ref_last_clickout)\n",
    "    \n",
    "    # take all the numeric reference in the session\n",
    "    references = list(df['reference'].unique())\n",
    "    for r in references:\n",
    "        try:\n",
    "            r = int(r)\n",
    "            if r != -1:\n",
    "                numeric_references.append(r)\n",
    "        except ValueError:\n",
    "            continue\n",
    "    \n",
    "    last_click_score = 1 \n",
    "    clicked_ref_score = 0.5\n",
    "    impr_not_seen_score = -0.5\n",
    "    seen_ref_score = -1\n",
    "    \n",
    "    # if there isn't a clickout in the session we assume all reference are not pleased the user\n",
    "    if ref_last_clickout is None:\n",
    "        for ref in numeric_references:\n",
    "            score[ref] = impr_not_seen_score\n",
    "    \n",
    "    # if there is 1 clickout \n",
    "    if ref_last_clickout is not None:\n",
    "        \n",
    "        score[ref_last_clickout] = last_click_score\n",
    "        for ref in numeric_references:\n",
    "            score[ref] = seen_ref_score\n",
    "        for impr in session_impressions:\n",
    "            if impr not in score:\n",
    "                score[impr] = impr_not_seen_score        \n",
    "        # if there are more than 1 clickout\n",
    "        if clickout_items_not_final is not None:\n",
    "            for click in clickout_items_not_final:\n",
    "                score[click] = clicked_ref_score\n",
    "    return score\n",
    "    \n",
    "    "
   ]
  },
  {
   "cell_type": "code",
   "execution_count": null,
   "metadata": {},
   "outputs": [],
   "source": []
  },
  {
   "cell_type": "code",
   "execution_count": 10,
   "metadata": {},
   "outputs": [
    {
     "name": "stderr",
     "output_type": "stream",
     "text": [
      "100%|██████████| 56134/56134 [01:07<00:00, 832.67it/s]\n"
     ]
    }
   ],
   "source": [
    "train_df = data.train_df(mode='small')\n",
    "test_df = data.test_df(mode='small')\n",
    "\n",
    "test_df.fillna({'reference': -1}, inplace=True)\n",
    "train_df.fillna({'reference': -1}, inplace=True)\n",
    "\n",
    "df = pd.concat([train_df, test_df])[['session_id', 'user_id', 'action_type', 'reference', 'impressions']]\n",
    "\n",
    "session_groups = df.groupby('user_id')\n",
    "\n",
    "tqdm.pandas()\n",
    "sessions_score = session_groups.progress_apply(_session_score_negative_value_seen_elem).values"
   ]
  },
  {
   "cell_type": "code",
   "execution_count": 13,
   "metadata": {},
   "outputs": [
    {
     "name": "stdout",
     "output_type": "stream",
     "text": [
      "Index(['0004IOZI7CKF', '0008B0X0HC39', '000EKQEFMW6S', '000ZN9219G41',\n",
      "       '001OCXQ9PXET', '001TEVEVUEBE', '0020N6R8BEDO', '002BISXP1U1Q',\n",
      "       '002F746OAPLZ', '002IXCPKK20W',\n",
      "       ...\n",
      "       'ZZQ231GOCXQB', 'ZZRDO4E49IX8', 'ZZT1WQYKDMTF', 'ZZTZ7W649SCD',\n",
      "       'ZZW47LRIK2MI', 'ZZW8VOP35SN0', 'ZZWHEYWBUNJB', 'ZZWZBXI100ZW',\n",
      "       'ZZYRG6A6KZB7', 'ZZZ4CA1PZ1VU'],\n",
      "      dtype='object', name='user_id', length=56134)\n"
     ]
    }
   ],
   "source": [
    "#print(sessions_score)\n",
    "print(sessions_score.keys())"
   ]
  }
 ],
 "metadata": {
  "kernelspec": {
   "display_name": "Python 3",
   "language": "python",
   "name": "python3"
  },
  "language_info": {
   "codemirror_mode": {
    "name": "ipython",
    "version": 3
   },
   "file_extension": ".py",
   "mimetype": "text/x-python",
   "name": "python",
   "nbconvert_exporter": "python",
   "pygments_lexer": "ipython3",
   "version": "3.7.1"
  }
 },
 "nbformat": 4,
 "nbformat_minor": 2
}
