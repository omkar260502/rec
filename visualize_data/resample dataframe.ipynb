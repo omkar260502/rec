{
 "cells": [
  {
   "cell_type": "code",
   "execution_count": 1,
   "metadata": {},
   "outputs": [],
   "source": [
    "import os\n",
    "os.chdir('../')"
   ]
  },
  {
   "cell_type": "code",
   "execution_count": 2,
   "metadata": {},
   "outputs": [
    {
     "name": "stderr",
     "output_type": "stream",
     "text": [
      "Using TensorFlow backend.\n"
     ]
    }
   ],
   "source": [
    "import data\n",
    "import numpy as np\n",
    "import pandas as pd\n",
    "from tqdm.auto import tqdm\n",
    "import preprocess_utils.session2vec as sess2vec\n",
    "\n",
    "tqdm.pandas()"
   ]
  },
  {
   "cell_type": "code",
   "execution_count": 3,
   "metadata": {},
   "outputs": [],
   "source": [
    "train = data.train_df('small')"
   ]
  },
  {
   "cell_type": "code",
   "execution_count": 4,
   "metadata": {
    "scrolled": true
   },
   "outputs": [
    {
     "data": {
      "text/html": [
       "<div>\n",
       "<style scoped>\n",
       "    .dataframe tbody tr th:only-of-type {\n",
       "        vertical-align: middle;\n",
       "    }\n",
       "\n",
       "    .dataframe tbody tr th {\n",
       "        vertical-align: top;\n",
       "    }\n",
       "\n",
       "    .dataframe thead th {\n",
       "        text-align: right;\n",
       "    }\n",
       "</style>\n",
       "<table border=\"1\" class=\"dataframe\">\n",
       "  <thead>\n",
       "    <tr style=\"text-align: right;\">\n",
       "      <th></th>\n",
       "      <th>user_id</th>\n",
       "      <th>session_id</th>\n",
       "      <th>timestamp</th>\n",
       "      <th>step</th>\n",
       "      <th>action_type</th>\n",
       "      <th>reference</th>\n",
       "      <th>platform</th>\n",
       "      <th>city</th>\n",
       "      <th>device</th>\n",
       "      <th>current_filters</th>\n",
       "      <th>impressions</th>\n",
       "      <th>prices</th>\n",
       "      <th>frequence</th>\n",
       "    </tr>\n",
       "  </thead>\n",
       "  <tbody>\n",
       "    <tr>\n",
       "      <th>0</th>\n",
       "      <td>00RL8Z82B2Z1</td>\n",
       "      <td>aff3928535f48</td>\n",
       "      <td>1541037460</td>\n",
       "      <td>1</td>\n",
       "      <td>search for poi</td>\n",
       "      <td>Newtown</td>\n",
       "      <td>AU</td>\n",
       "      <td>Sydney, Australia</td>\n",
       "      <td>mobile</td>\n",
       "      <td>NaN</td>\n",
       "      <td>NaN</td>\n",
       "      <td>NaN</td>\n",
       "      <td>1</td>\n",
       "    </tr>\n",
       "    <tr>\n",
       "      <th>1</th>\n",
       "      <td>00RL8Z82B2Z1</td>\n",
       "      <td>aff3928535f48</td>\n",
       "      <td>1541037532</td>\n",
       "      <td>4</td>\n",
       "      <td>interaction item image</td>\n",
       "      <td>666856</td>\n",
       "      <td>AU</td>\n",
       "      <td>Sydney, Australia</td>\n",
       "      <td>mobile</td>\n",
       "      <td>NaN</td>\n",
       "      <td>NaN</td>\n",
       "      <td>NaN</td>\n",
       "      <td>3</td>\n",
       "    </tr>\n",
       "    <tr>\n",
       "      <th>2</th>\n",
       "      <td>00RL8Z82B2Z1</td>\n",
       "      <td>aff3928535f48</td>\n",
       "      <td>1541037532</td>\n",
       "      <td>5</td>\n",
       "      <td>interaction item image</td>\n",
       "      <td>109038</td>\n",
       "      <td>AU</td>\n",
       "      <td>Sydney, Australia</td>\n",
       "      <td>mobile</td>\n",
       "      <td>NaN</td>\n",
       "      <td>NaN</td>\n",
       "      <td>NaN</td>\n",
       "      <td>1</td>\n",
       "    </tr>\n",
       "    <tr>\n",
       "      <th>3</th>\n",
       "      <td>00RL8Z82B2Z1</td>\n",
       "      <td>aff3928535f48</td>\n",
       "      <td>1541037532</td>\n",
       "      <td>6</td>\n",
       "      <td>interaction item image</td>\n",
       "      <td>666856</td>\n",
       "      <td>AU</td>\n",
       "      <td>Sydney, Australia</td>\n",
       "      <td>mobile</td>\n",
       "      <td>NaN</td>\n",
       "      <td>NaN</td>\n",
       "      <td>NaN</td>\n",
       "      <td>1</td>\n",
       "    </tr>\n",
       "    <tr>\n",
       "      <th>4</th>\n",
       "      <td>00RL8Z82B2Z1</td>\n",
       "      <td>aff3928535f48</td>\n",
       "      <td>1541037532</td>\n",
       "      <td>7</td>\n",
       "      <td>interaction item image</td>\n",
       "      <td>109038</td>\n",
       "      <td>AU</td>\n",
       "      <td>Sydney, Australia</td>\n",
       "      <td>mobile</td>\n",
       "      <td>NaN</td>\n",
       "      <td>NaN</td>\n",
       "      <td>NaN</td>\n",
       "      <td>1</td>\n",
       "    </tr>\n",
       "  </tbody>\n",
       "</table>\n",
       "</div>"
      ],
      "text/plain": [
       "        user_id     session_id   timestamp  step             action_type  \\\n",
       "0  00RL8Z82B2Z1  aff3928535f48  1541037460     1          search for poi   \n",
       "1  00RL8Z82B2Z1  aff3928535f48  1541037532     4  interaction item image   \n",
       "2  00RL8Z82B2Z1  aff3928535f48  1541037532     5  interaction item image   \n",
       "3  00RL8Z82B2Z1  aff3928535f48  1541037532     6  interaction item image   \n",
       "4  00RL8Z82B2Z1  aff3928535f48  1541037532     7  interaction item image   \n",
       "\n",
       "  reference platform               city  device current_filters impressions  \\\n",
       "0   Newtown       AU  Sydney, Australia  mobile             NaN         NaN   \n",
       "1    666856       AU  Sydney, Australia  mobile             NaN         NaN   \n",
       "2    109038       AU  Sydney, Australia  mobile             NaN         NaN   \n",
       "3    666856       AU  Sydney, Australia  mobile             NaN         NaN   \n",
       "4    109038       AU  Sydney, Australia  mobile             NaN         NaN   \n",
       "\n",
       "  prices  frequence  \n",
       "0    NaN          1  \n",
       "1    NaN          3  \n",
       "2    NaN          1  \n",
       "3    NaN          1  \n",
       "4    NaN          1  "
      ]
     },
     "execution_count": 4,
     "metadata": {},
     "output_type": "execute_result"
    }
   ],
   "source": [
    "train.head()"
   ]
  },
  {
   "cell_type": "code",
   "execution_count": 35,
   "metadata": {},
   "outputs": [
    {
     "data": {
      "text/plain": [
       "400331"
      ]
     },
     "execution_count": 35,
     "metadata": {},
     "output_type": "execute_result"
    }
   ],
   "source": [
    "len(train)"
   ]
  },
  {
   "cell_type": "code",
   "execution_count": 5,
   "metadata": {},
   "outputs": [],
   "source": [
    "def count_sessions_of_class_1(df):\n",
    "    def last_click(g):\n",
    "        clickouts = g[g.action_type == 'clickout item']\n",
    "        if len(clickouts) > 0:\n",
    "            return clickouts.iloc[-1].ref_class\n",
    "    \n",
    "    return df[['user_id','session_id','action_type','ref_class']].groupby(['user_id','session_id']).progress_apply(last_click).describe()"
   ]
  },
  {
   "cell_type": "code",
   "execution_count": 6,
   "metadata": {},
   "outputs": [
    {
     "name": "stderr",
     "output_type": "stream",
     "text": [
      "100%|██████████| 400331/400331 [00:08<00:00, 44700.12it/s]\n"
     ]
    }
   ],
   "source": [
    "labelled_df = sess2vec.add_reference_binary_labels(train, 'action_type', 'clickout item', only_clickouts=True)"
   ]
  },
  {
   "cell_type": "markdown",
   "metadata": {},
   "source": [
    "Before resampling:"
   ]
  },
  {
   "cell_type": "code",
   "execution_count": 7,
   "metadata": {},
   "outputs": [
    {
     "name": "stderr",
     "output_type": "stream",
     "text": [
      "100%|██████████| 69412/69412 [00:57<00:00, 1210.07it/s]\n"
     ]
    },
    {
     "data": {
      "text/plain": [
       "count    63129.000000\n",
       "mean         0.376673\n",
       "std          0.484556\n",
       "min          0.000000\n",
       "25%          0.000000\n",
       "50%          0.000000\n",
       "75%          1.000000\n",
       "max          1.000000\n",
       "dtype: float64"
      ]
     },
     "execution_count": 7,
     "metadata": {},
     "output_type": "execute_result"
    }
   ],
   "source": [
    "count_sessions_of_class_1(labelled_df)"
   ]
  },
  {
   "cell_type": "code",
   "execution_count": 8,
   "metadata": {},
   "outputs": [],
   "source": [
    "def ref_class_is_1(g):\n",
    "    clickout = g[g.action_type == 'clickout item']\n",
    "    return len(clickout) > 0 and clickout.iloc[-1]['ref_class'] == 1"
   ]
  },
  {
   "cell_type": "code",
   "execution_count": 43,
   "metadata": {},
   "outputs": [],
   "source": [
    "def resample_sessions(df, by, when):\n",
    "    \"\"\" Resample sessions that satisfy the specified condition \"\"\"\n",
    "    assert 1 <= by <= 2\n",
    "    by -= 1\n",
    "    orig_len = len(df)\n",
    "    print('Resampling sessions, ETA: {:.2f} minutes...'.format(orig_len * 0.0000025))\n",
    "    temp_df = df.groupby(['user_id','session_id']).filter(lambda g: when(g) and np.random.rand() < by)\n",
    "    temp_df.loc[:,'user_id'] = temp_df['user_id'] + '***'\n",
    "    temp_df.loc[:,'session_id'] = temp_df['session_id'] + '***'\n",
    "    \n",
    "    # create new df\n",
    "    new_len = orig_len + len(temp_df)\n",
    "    new_idx = -np.ones(new_len, dtype='int')\n",
    "    new_idx[0:orig_len] = df.index.values\n",
    "    res_df = pd.DataFrame(columns=df.columns, index=new_idx)\n",
    "    res_df.iloc[0:orig_len,:] = df.values\n",
    "    res_df.iloc[orig_len:,:] = temp_df.values\n",
    "    return res_df.astype(df.dtypes)"
   ]
  },
  {
   "cell_type": "code",
   "execution_count": 45,
   "metadata": {
    "scrolled": true
   },
   "outputs": [
    {
     "name": "stdout",
     "output_type": "stream",
     "text": [
      "Resampling sessions, ETA: 1.00 minutes...\n"
     ]
    },
    {
     "name": "stderr",
     "output_type": "stream",
     "text": [
      "/Users/federico/miniconda3/envs/recsys/lib/python3.6/site-packages/pandas/core/indexing.py:543: SettingWithCopyWarning: \n",
      "A value is trying to be set on a copy of a slice from a DataFrame.\n",
      "Try using .loc[row_indexer,col_indexer] = value instead\n",
      "\n",
      "See the caveats in the documentation: http://pandas.pydata.org/pandas-docs/stable/indexing.html#indexing-view-versus-copy\n",
      "  self.obj[item] = s\n"
     ]
    },
    {
     "name": "stdout",
     "output_type": "stream",
     "text": [
      "CPU times: user 1min 20s, sys: 868 ms, total: 1min 21s\n",
      "Wall time: 1min 21s\n"
     ]
    }
   ],
   "source": [
    "%time resampled_df = resample_sessions(labelled_df, by=1.5, when=ref_class_is_1)"
   ]
  },
  {
   "cell_type": "code",
   "execution_count": 39,
   "metadata": {},
   "outputs": [
    {
     "data": {
      "text/html": [
       "<div>\n",
       "<style scoped>\n",
       "    .dataframe tbody tr th:only-of-type {\n",
       "        vertical-align: middle;\n",
       "    }\n",
       "\n",
       "    .dataframe tbody tr th {\n",
       "        vertical-align: top;\n",
       "    }\n",
       "\n",
       "    .dataframe thead th {\n",
       "        text-align: right;\n",
       "    }\n",
       "</style>\n",
       "<table border=\"1\" class=\"dataframe\">\n",
       "  <thead>\n",
       "    <tr style=\"text-align: right;\">\n",
       "      <th></th>\n",
       "      <th>user_id</th>\n",
       "      <th>session_id</th>\n",
       "      <th>timestamp</th>\n",
       "      <th>step</th>\n",
       "      <th>action_type</th>\n",
       "      <th>reference</th>\n",
       "      <th>platform</th>\n",
       "      <th>city</th>\n",
       "      <th>device</th>\n",
       "      <th>current_filters</th>\n",
       "      <th>impressions</th>\n",
       "      <th>prices</th>\n",
       "      <th>frequence</th>\n",
       "      <th>ref_class</th>\n",
       "      <th>$random</th>\n",
       "    </tr>\n",
       "  </thead>\n",
       "  <tbody>\n",
       "    <tr>\n",
       "      <th>-1</th>\n",
       "      <td>S4D78FQEWU68***</td>\n",
       "      <td>85029d7d3ec94***</td>\n",
       "      <td>1541070466</td>\n",
       "      <td>12</td>\n",
       "      <td>clickout item</td>\n",
       "      <td>320756</td>\n",
       "      <td>PH</td>\n",
       "      <td>Tagaytay City, Philippines</td>\n",
       "      <td>desktop</td>\n",
       "      <td>NaN</td>\n",
       "      <td>320756|2039291|1327558|5493632|3152076|3153080...</td>\n",
       "      <td>68|184|112|55|72|138|56|66|48|26|131|76|30|38|...</td>\n",
       "      <td>1</td>\n",
       "      <td>1</td>\n",
       "      <td>0.883079</td>\n",
       "    </tr>\n",
       "    <tr>\n",
       "      <th>-1</th>\n",
       "      <td>S4D78FQEWU68***</td>\n",
       "      <td>85029d7d3ec94***</td>\n",
       "      <td>1541070490</td>\n",
       "      <td>13</td>\n",
       "      <td>clickout item</td>\n",
       "      <td>320756</td>\n",
       "      <td>PH</td>\n",
       "      <td>Tagaytay City, Philippines</td>\n",
       "      <td>desktop</td>\n",
       "      <td>NaN</td>\n",
       "      <td>320756|2039291|1327558|5493632|3152076|3153080...</td>\n",
       "      <td>68|184|112|55|72|138|56|66|48|26|131|76|30|38|...</td>\n",
       "      <td>1</td>\n",
       "      <td>1</td>\n",
       "      <td>0.055897</td>\n",
       "    </tr>\n",
       "    <tr>\n",
       "      <th>-1</th>\n",
       "      <td>S4D78FQEWU68***</td>\n",
       "      <td>85029d7d3ec94***</td>\n",
       "      <td>1541070548</td>\n",
       "      <td>23</td>\n",
       "      <td>interaction item image</td>\n",
       "      <td>320756</td>\n",
       "      <td>PH</td>\n",
       "      <td>Tagaytay City, Philippines</td>\n",
       "      <td>desktop</td>\n",
       "      <td>NaN</td>\n",
       "      <td>NaN</td>\n",
       "      <td>NaN</td>\n",
       "      <td>10</td>\n",
       "      <td>0</td>\n",
       "      <td>0.514032</td>\n",
       "    </tr>\n",
       "    <tr>\n",
       "      <th>-1</th>\n",
       "      <td>S4D78FQEWU68***</td>\n",
       "      <td>85029d7d3ec94***</td>\n",
       "      <td>1541070548</td>\n",
       "      <td>24</td>\n",
       "      <td>interaction item image</td>\n",
       "      <td>521651</td>\n",
       "      <td>PH</td>\n",
       "      <td>Tagaytay City, Philippines</td>\n",
       "      <td>desktop</td>\n",
       "      <td>NaN</td>\n",
       "      <td>NaN</td>\n",
       "      <td>NaN</td>\n",
       "      <td>1</td>\n",
       "      <td>0</td>\n",
       "      <td>0.921567</td>\n",
       "    </tr>\n",
       "    <tr>\n",
       "      <th>-1</th>\n",
       "      <td>S4D78FQEWU68***</td>\n",
       "      <td>85029d7d3ec94***</td>\n",
       "      <td>1541070548</td>\n",
       "      <td>25</td>\n",
       "      <td>search for destination</td>\n",
       "      <td>Tagaytay City, Philippines</td>\n",
       "      <td>PH</td>\n",
       "      <td>Tagaytay City, Philippines</td>\n",
       "      <td>desktop</td>\n",
       "      <td>NaN</td>\n",
       "      <td>NaN</td>\n",
       "      <td>NaN</td>\n",
       "      <td>1</td>\n",
       "      <td>0</td>\n",
       "      <td>0.706871</td>\n",
       "    </tr>\n",
       "  </tbody>\n",
       "</table>\n",
       "</div>"
      ],
      "text/plain": [
       "            user_id        session_id   timestamp  step  \\\n",
       "-1  S4D78FQEWU68***  85029d7d3ec94***  1541070466    12   \n",
       "-1  S4D78FQEWU68***  85029d7d3ec94***  1541070490    13   \n",
       "-1  S4D78FQEWU68***  85029d7d3ec94***  1541070548    23   \n",
       "-1  S4D78FQEWU68***  85029d7d3ec94***  1541070548    24   \n",
       "-1  S4D78FQEWU68***  85029d7d3ec94***  1541070548    25   \n",
       "\n",
       "               action_type                   reference platform  \\\n",
       "-1           clickout item                      320756       PH   \n",
       "-1           clickout item                      320756       PH   \n",
       "-1  interaction item image                      320756       PH   \n",
       "-1  interaction item image                      521651       PH   \n",
       "-1  search for destination  Tagaytay City, Philippines       PH   \n",
       "\n",
       "                          city   device current_filters  \\\n",
       "-1  Tagaytay City, Philippines  desktop             NaN   \n",
       "-1  Tagaytay City, Philippines  desktop             NaN   \n",
       "-1  Tagaytay City, Philippines  desktop             NaN   \n",
       "-1  Tagaytay City, Philippines  desktop             NaN   \n",
       "-1  Tagaytay City, Philippines  desktop             NaN   \n",
       "\n",
       "                                          impressions  \\\n",
       "-1  320756|2039291|1327558|5493632|3152076|3153080...   \n",
       "-1  320756|2039291|1327558|5493632|3152076|3153080...   \n",
       "-1                                                NaN   \n",
       "-1                                                NaN   \n",
       "-1                                                NaN   \n",
       "\n",
       "                                               prices  frequence  ref_class  \\\n",
       "-1  68|184|112|55|72|138|56|66|48|26|131|76|30|38|...          1          1   \n",
       "-1  68|184|112|55|72|138|56|66|48|26|131|76|30|38|...          1          1   \n",
       "-1                                                NaN         10          0   \n",
       "-1                                                NaN          1          0   \n",
       "-1                                                NaN          1          0   \n",
       "\n",
       "     $random  \n",
       "-1  0.883079  \n",
       "-1  0.055897  \n",
       "-1  0.514032  \n",
       "-1  0.921567  \n",
       "-1  0.706871  "
      ]
     },
     "execution_count": 39,
     "metadata": {},
     "output_type": "execute_result"
    }
   ],
   "source": [
    "resampled_df.tail()"
   ]
  },
  {
   "cell_type": "markdown",
   "metadata": {},
   "source": [
    "After resampling:"
   ]
  },
  {
   "cell_type": "code",
   "execution_count": 46,
   "metadata": {},
   "outputs": [
    {
     "name": "stderr",
     "output_type": "stream",
     "text": [
      "100%|██████████| 81252/81252 [01:07<00:00, 1195.58it/s]\n"
     ]
    },
    {
     "data": {
      "text/plain": [
       "count    74969.000000\n",
       "mean         0.475116\n",
       "std          0.499384\n",
       "min          0.000000\n",
       "25%          0.000000\n",
       "50%          0.000000\n",
       "75%          1.000000\n",
       "max          1.000000\n",
       "dtype: float64"
      ]
     },
     "execution_count": 46,
     "metadata": {},
     "output_type": "execute_result"
    }
   ],
   "source": [
    "count_sessions_of_class_1(resampled_df)"
   ]
  },
  {
   "cell_type": "code",
   "execution_count": null,
   "metadata": {},
   "outputs": [],
   "source": []
  }
 ],
 "metadata": {
  "kernelspec": {
   "display_name": "Python 3",
   "language": "python",
   "name": "python3"
  },
  "language_info": {
   "codemirror_mode": {
    "name": "ipython",
    "version": 3
   },
   "file_extension": ".py",
   "mimetype": "text/x-python",
   "name": "python",
   "nbconvert_exporter": "python",
   "pygments_lexer": "ipython3",
   "version": "3.6.8"
  }
 },
 "nbformat": 4,
 "nbformat_minor": 2
}
