{
 "cells": [
  {
   "cell_type": "code",
   "execution_count": 1,
   "metadata": {},
   "outputs": [],
   "source": [
    "import os\n",
    "os.chdir('../')"
   ]
  },
  {
   "cell_type": "code",
   "execution_count": 2,
   "metadata": {},
   "outputs": [],
   "source": [
    "import data\n",
    "import numpy as np\n",
    "import matplotlib.pyplot as plt"
   ]
  },
  {
   "cell_type": "code",
   "execution_count": 3,
   "metadata": {},
   "outputs": [
    {
     "name": "stdout",
     "output_type": "stream",
     "text": [
      "Loading full train_df, it will take a while..\n"
     ]
    },
    {
     "name": "stderr",
     "output_type": "stream",
     "text": [
      "/Users/federico/miniconda3/envs/recsys/lib/python3.6/site-packages/numpy/lib/arraysetops.py:569: FutureWarning: elementwise comparison failed; returning scalar instead, but in the future will perform elementwise comparison\n",
      "  mask |= (ar1 == a)\n"
     ]
    },
    {
     "name": "stdout",
     "output_type": "stream",
     "text": [
      "(5093949, 13)\n",
      "(1437504, 13)\n"
     ]
    }
   ],
   "source": [
    "train_df = data.train_df('full')\n",
    "test_df = data.test_df('full')\n",
    "print(train_df.shape)\n",
    "print(test_df.shape)"
   ]
  },
  {
   "cell_type": "markdown",
   "metadata": {},
   "source": [
    "## Let's analyse the sessions available in train.csv and test.csv"
   ]
  },
  {
   "cell_type": "code",
   "execution_count": 4,
   "metadata": {},
   "outputs": [],
   "source": [
    "train_sessions_df = train_df[['session_id','user_id']].groupby('session_id').count()\n",
    "test_sessions_df = test_df[['session_id','user_id']].groupby('session_id').count()"
   ]
  },
  {
   "cell_type": "code",
   "execution_count": 5,
   "metadata": {
    "scrolled": true
   },
   "outputs": [
    {
     "data": {
      "text/html": [
       "<div>\n",
       "<style scoped>\n",
       "    .dataframe tbody tr th:only-of-type {\n",
       "        vertical-align: middle;\n",
       "    }\n",
       "\n",
       "    .dataframe tbody tr th {\n",
       "        vertical-align: top;\n",
       "    }\n",
       "\n",
       "    .dataframe thead th {\n",
       "        text-align: right;\n",
       "    }\n",
       "</style>\n",
       "<table border=\"1\" class=\"dataframe\">\n",
       "  <thead>\n",
       "    <tr style=\"text-align: right;\">\n",
       "      <th></th>\n",
       "      <th>user_id</th>\n",
       "    </tr>\n",
       "    <tr>\n",
       "      <th>session_id</th>\n",
       "      <th></th>\n",
       "    </tr>\n",
       "  </thead>\n",
       "  <tbody>\n",
       "    <tr>\n",
       "      <th>00000510f1adc</th>\n",
       "      <td>1</td>\n",
       "    </tr>\n",
       "    <tr>\n",
       "      <th>00003f3b20954</th>\n",
       "      <td>1</td>\n",
       "    </tr>\n",
       "    <tr>\n",
       "      <th>000056cd97ce2</th>\n",
       "      <td>3</td>\n",
       "    </tr>\n",
       "    <tr>\n",
       "      <th>000066611146f</th>\n",
       "      <td>3</td>\n",
       "    </tr>\n",
       "    <tr>\n",
       "      <th>00008c1f39c46</th>\n",
       "      <td>3</td>\n",
       "    </tr>\n",
       "    <tr>\n",
       "      <th>0000be39860d7</th>\n",
       "      <td>7</td>\n",
       "    </tr>\n",
       "    <tr>\n",
       "      <th>0000c0fb51e11</th>\n",
       "      <td>3</td>\n",
       "    </tr>\n",
       "    <tr>\n",
       "      <th>0000c8490c155</th>\n",
       "      <td>2</td>\n",
       "    </tr>\n",
       "    <tr>\n",
       "      <th>0000d4284ff9b</th>\n",
       "      <td>3</td>\n",
       "    </tr>\n",
       "    <tr>\n",
       "      <th>0000de36576fe</th>\n",
       "      <td>1</td>\n",
       "    </tr>\n",
       "  </tbody>\n",
       "</table>\n",
       "</div>"
      ],
      "text/plain": [
       "               user_id\n",
       "session_id            \n",
       "00000510f1adc        1\n",
       "00003f3b20954        1\n",
       "000056cd97ce2        3\n",
       "000066611146f        3\n",
       "00008c1f39c46        3\n",
       "0000be39860d7        7\n",
       "0000c0fb51e11        3\n",
       "0000c8490c155        2\n",
       "0000d4284ff9b        3\n",
       "0000de36576fe        1"
      ]
     },
     "execution_count": 5,
     "metadata": {},
     "output_type": "execute_result"
    }
   ],
   "source": [
    "train_sessions_df.head(10)"
   ]
  },
  {
   "cell_type": "code",
   "execution_count": 6,
   "metadata": {},
   "outputs": [],
   "source": [
    "train_lengths = train_sessions_df.user_id.values\n",
    "test_lengths = test_sessions_df.user_id.values"
   ]
  },
  {
   "cell_type": "code",
   "execution_count": 7,
   "metadata": {
    "scrolled": false
   },
   "outputs": [
    {
     "name": "stdout",
     "output_type": "stream",
     "text": [
      "TRAIN\n",
      "Number of users: 730804\n",
      "Number of sessions: 910733\n",
      "\n",
      "Session lengths statistics:\n",
      "- average: 5.593\n",
      "- min: 1\n",
      "- max: 899\n",
      "- std: 8.791\n",
      "- median: 3.0\n",
      "- 70 percentile: 5.0\n",
      "- 80 percentile: 8.0\n",
      "- 90 percentile: 12.0\n",
      "- 95 percentile: 19.0\n",
      "\n",
      "\n",
      "TEST\n",
      "Number of users: 250852\n",
      "Number of sessions: 289396\n",
      "\n",
      "Session lengths statistics:\n",
      "- average: 4.967\n",
      "- min: 1\n",
      "- max: 627\n",
      "- std: 7.299\n",
      "- median: 3.0\n",
      "- 70 percentile: 5.0\n",
      "- 80 percentile: 7.0\n",
      "- 90 percentile: 11.0\n",
      "- 95 percentile: 16.0\n"
     ]
    }
   ],
   "source": [
    "print('TRAIN')\n",
    "print('Number of users:', train_df.user_id.nunique())\n",
    "print('Number of sessions:', train_sessions_df.shape[0])\n",
    "print()\n",
    "print('Session lengths statistics:')\n",
    "print('- average:', round(train_lengths.mean(),3))\n",
    "print('- min:', train_lengths.min())\n",
    "print('- max:', train_lengths.max())\n",
    "print('- std:', round(train_lengths.std(),3))\n",
    "print('- median:', np.median(train_lengths))\n",
    "print('- 70 percentile:', np.percentile(train_lengths, 70))\n",
    "print('- 80 percentile:', np.percentile(train_lengths, 80))\n",
    "print('- 90 percentile:', np.percentile(train_lengths, 90))\n",
    "print('- 95 percentile:', np.percentile(train_lengths, 95))\n",
    "print()\n",
    "print()\n",
    "print('TEST')\n",
    "print('Number of users:', test_df.user_id.nunique())\n",
    "print('Number of sessions:', test_sessions_df.shape[0])\n",
    "print()\n",
    "print('Session lengths statistics:')\n",
    "print('- average:', round(test_lengths.mean(),3))\n",
    "print('- min:', test_lengths.min())\n",
    "print('- max:', test_lengths.max())\n",
    "print('- std:', round(test_lengths.std(),3))\n",
    "print('- median:', np.median(test_lengths))\n",
    "print('- 70 percentile:', np.percentile(test_lengths, 70))\n",
    "print('- 80 percentile:', np.percentile(test_lengths, 80))\n",
    "print('- 90 percentile:', np.percentile(test_lengths, 90))\n",
    "print('- 95 percentile:', np.percentile(test_lengths, 95))"
   ]
  },
  {
   "cell_type": "markdown",
   "metadata": {},
   "source": [
    "### Sessions lengths (log-scaled x axis)"
   ]
  },
  {
   "cell_type": "code",
   "execution_count": 39,
   "metadata": {
    "scrolled": true
   },
   "outputs": [
    {
     "data": {
      "image/png": "[encoded data removed]",
      "text/plain": [
       "<Figure size 432x288 with 1 Axes>"
      ]
     },
     "metadata": {
      "needs_background": "light"
     },
     "output_type": "display_data"
    }
   ],
   "source": [
    "plt.hist(train_lengths, bins=np.logspace(0, 4, 100))\n",
    "plt.gca().set_xscale('log')\n",
    "plt.show()"
   ]
  },
  {
   "cell_type": "code",
   "execution_count": 20,
   "metadata": {},
   "outputs": [
    {
     "name": "stdout",
     "output_type": "stream",
     "text": [
      "Percentage of sessions of length 1: 0.218\n"
     ]
    }
   ],
   "source": [
    "print('Percentage of sessions of length 1:', round(train_lengths[train_lengths == 1].shape[0] / train_sessions_df.shape[0],3))"
   ]
  },
  {
   "cell_type": "code",
   "execution_count": 21,
   "metadata": {},
   "outputs": [
    {
     "name": "stdout",
     "output_type": "stream",
     "text": [
      "Percentage of sessions of length 2: 0.141\n"
     ]
    }
   ],
   "source": [
    "print('Percentage of sessions of length 2:', round(train_lengths[train_lengths == 2].shape[0] / train_sessions_df.shape[0],3))"
   ]
  },
  {
   "cell_type": "code",
   "execution_count": 22,
   "metadata": {},
   "outputs": [
    {
     "name": "stdout",
     "output_type": "stream",
     "text": [
      "Percentage of sessions of length 3: 0.103\n"
     ]
    }
   ],
   "source": [
    "print('Percentage of sessions of length 3:', round(train_lengths[train_lengths == 3].shape[0] / train_sessions_df.shape[0],3))"
   ]
  }
 ],
 "metadata": {
  "kernelspec": {
   "display_name": "Python 3",
   "language": "python",
   "name": "python3"
  },
  "language_info": {
   "codemirror_mode": {
    "name": "ipython",
    "version": 3
   },
   "file_extension": ".py",
   "mimetype": "text/x-python",
   "name": "python",
   "nbconvert_exporter": "python",
   "pygments_lexer": "ipython3",
   "version": "3.6.8"
  }
 },
 "nbformat": 4,
 "nbformat_minor": 2
}
