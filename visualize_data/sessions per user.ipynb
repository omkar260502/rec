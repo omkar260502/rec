{
 "cells": [
  {
   "cell_type": "code",
   "execution_count": 1,
   "metadata": {},
   "outputs": [],
   "source": [
    "import os\n",
    "os.chdir('./..')"
   ]
  },
  {
   "cell_type": "code",
   "execution_count": 15,
   "metadata": {},
   "outputs": [],
   "source": [
    "import data\n",
    "import pandas as pd"
   ]
  },
  {
   "cell_type": "code",
   "execution_count": 19,
   "metadata": {},
   "outputs": [
    {
     "name": "stderr",
     "output_type": "stream",
     "text": [
      "/home/edoardo/miniconda3/envs/recsys/lib/python3.7/site-packages/numpy/lib/arraysetops.py:522: FutureWarning: elementwise comparison failed; returning scalar instead, but in the future will perform elementwise comparison\n",
      "  mask |= (ar1 == a)\n"
     ]
    }
   ],
   "source": [
    "train_df = data.train_df(mode = 'full')\n",
    "test_df = data.test_df(mode = 'full')"
   ]
  },
  {
   "cell_type": "code",
   "execution_count": 20,
   "metadata": {},
   "outputs": [
    {
     "name": "stdout",
     "output_type": "stream",
     "text": [
      "{1: 610602, 3: 21180, 2: 86211, 4: 7158, 5: 2828, 7: 576, 11: 78, 9: 201, 6: 1315, 10: 128, 8: 361, 14: 19, 13: 37, 17: 8, 16: 11, 12: 55, 15: 13, 22: 4, 201: 1, 21: 1, 19: 3, 24: 2, 20: 4, 51: 1, 23: 1, 18: 6}\n"
     ]
    }
   ],
   "source": [
    "session_per_user = train_df.groupby('user_id')['session_id'].unique()\n",
    "num_sess_per_user = {}\n",
    "for i in session_per_user:\n",
    "    length = len(i)\n",
    "    if length not in num_sess_per_user:\n",
    "        num_sess_per_user[length]=1\n",
    "    else:\n",
    "        num_sess_per_user[length]+=1\n",
    "    \n",
    "print(num_sess_per_user)"
   ]
  },
  {
   "cell_type": "code",
   "execution_count": 18,
   "metadata": {},
   "outputs": [
    {
     "name": "stdout",
     "output_type": "stream",
     "text": [
      "{1: 11272, 2: 85, 3: 2}\n"
     ]
    }
   ],
   "source": [
    "session_per_user = test_df.groupby('user_id')['session_id'].unique()\n",
    "num_sess_per_user = {}\n",
    "for i in session_per_user:\n",
    "    length = len(i)\n",
    "    if length not in num_sess_per_user:\n",
    "        num_sess_per_user[length]=1\n",
    "    else:\n",
    "        num_sess_per_user[length]+=1\n",
    "    \n",
    "print(num_sess_per_user)"
   ]
  }
 ],
 "metadata": {
  "kernelspec": {
   "display_name": "Python 3",
   "language": "python",
   "name": "python3"
  },
  "language_info": {
   "codemirror_mode": {
    "name": "ipython",
    "version": 3
   },
   "file_extension": ".py",
   "mimetype": "text/x-python",
   "name": "python",
   "nbconvert_exporter": "python",
   "pygments_lexer": "ipython3",
   "version": "3.7.1"
  }
 },
 "nbformat": 4,
 "nbformat_minor": 2
}
