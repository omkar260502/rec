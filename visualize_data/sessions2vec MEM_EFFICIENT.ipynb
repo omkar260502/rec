{
 "cells": [
  {
   "cell_type": "code",
   "execution_count": 1,
   "metadata": {},
   "outputs": [],
   "source": [
    "import os\n",
    "os.chdir('../')"
   ]
  },
  {
   "cell_type": "code",
   "execution_count": 2,
   "metadata": {},
   "outputs": [],
   "source": [
    "import data\n",
    "import preprocess_utils.session2vec as sess2vec\n",
    "import pandas as pd\n",
    "import utils.sparsedf as sparsedf\n",
    "import numpy as np\n",
    "import scipy.sparse as sps\n",
    "\n",
    "from sklearn.preprocessing import MultiLabelBinarizer\n",
    "\n",
    "import tqdm.auto as tqdmauto\n",
    "from tqdm import tqdm\n",
    "from IPython.display import display\n",
    "pd.options.display.max_columns = None"
   ]
  },
  {
   "cell_type": "code",
   "execution_count": 3,
   "metadata": {},
   "outputs": [],
   "source": [
    "mode = 'small' #menu.mode_selection()\n",
    "path = f'dataset/preprocessed/cluster_recurrent/{mode}'"
   ]
  },
  {
   "cell_type": "code",
   "execution_count": 4,
   "metadata": {},
   "outputs": [
    {
     "name": "stdout",
     "output_type": "stream",
     "text": [
      "Loading accomodations one-hot...\n"
     ]
    }
   ],
   "source": [
    "train_df = data.train_df(mode, cluster='cluster_recurrent')\n",
    "test_df = data.test_df(mode, cluster='cluster_recurrent')\n",
    "attributes_df = data.accomodations_one_hot()\n",
    "\n",
    "folder_path = f'dataset/preprocessed/cluster_recurrent/{mode}_vec'"
   ]
  },
  {
   "cell_type": "code",
   "execution_count": 5,
   "metadata": {},
   "outputs": [
    {
     "name": "stdout",
     "output_type": "stream",
     "text": [
      "(39767, 12)\n",
      "(10242, 12)\n",
      "Index(['user_id', 'session_id', 'timestamp', 'step', 'action_type',\n",
      "       'reference', 'platform', 'city', 'device', 'current_filters',\n",
      "       'impressions', 'prices'],\n",
      "      dtype='object')\n"
     ]
    }
   ],
   "source": [
    "print(train_df.shape)\n",
    "print(test_df.shape)\n",
    "print(train_df.columns)"
   ]
  },
  {
   "cell_type": "code",
   "execution_count": 6,
   "metadata": {},
   "outputs": [
    {
     "data": {
      "text/html": [
       "<div>\n",
       "<style scoped>\n",
       "    .dataframe tbody tr th:only-of-type {\n",
       "        vertical-align: middle;\n",
       "    }\n",
       "\n",
       "    .dataframe tbody tr th {\n",
       "        vertical-align: top;\n",
       "    }\n",
       "\n",
       "    .dataframe thead th {\n",
       "        text-align: right;\n",
       "    }\n",
       "</style>\n",
       "<table border=\"1\" class=\"dataframe\">\n",
       "  <thead>\n",
       "    <tr style=\"text-align: right;\">\n",
       "      <th></th>\n",
       "      <th>user_id</th>\n",
       "      <th>session_id</th>\n",
       "      <th>timestamp</th>\n",
       "      <th>step</th>\n",
       "      <th>action_type</th>\n",
       "      <th>reference</th>\n",
       "      <th>platform</th>\n",
       "      <th>city</th>\n",
       "      <th>device</th>\n",
       "      <th>current_filters</th>\n",
       "      <th>impressions</th>\n",
       "      <th>prices</th>\n",
       "    </tr>\n",
       "  </thead>\n",
       "  <tbody>\n",
       "    <tr>\n",
       "      <th>39867</th>\n",
       "      <td>ZXEXR9ETL1N9</td>\n",
       "      <td>ede97ece03e93</td>\n",
       "      <td>1541256321</td>\n",
       "      <td>16</td>\n",
       "      <td>interaction item image</td>\n",
       "      <td>2753200</td>\n",
       "      <td>PL</td>\n",
       "      <td>Łódź, Poland</td>\n",
       "      <td>tablet</td>\n",
       "      <td>NaN</td>\n",
       "      <td>NaN</td>\n",
       "      <td>NaN</td>\n",
       "    </tr>\n",
       "    <tr>\n",
       "      <th>39868</th>\n",
       "      <td>ZXEXR9ETL1N9</td>\n",
       "      <td>ede97ece03e93</td>\n",
       "      <td>1541256321</td>\n",
       "      <td>17</td>\n",
       "      <td>interaction item image</td>\n",
       "      <td>2753200</td>\n",
       "      <td>PL</td>\n",
       "      <td>Łódź, Poland</td>\n",
       "      <td>tablet</td>\n",
       "      <td>NaN</td>\n",
       "      <td>NaN</td>\n",
       "      <td>NaN</td>\n",
       "    </tr>\n",
       "    <tr>\n",
       "      <th>39869</th>\n",
       "      <td>ZXEXR9ETL1N9</td>\n",
       "      <td>ede97ece03e93</td>\n",
       "      <td>1541256321</td>\n",
       "      <td>18</td>\n",
       "      <td>interaction item image</td>\n",
       "      <td>2753200</td>\n",
       "      <td>PL</td>\n",
       "      <td>Łódź, Poland</td>\n",
       "      <td>tablet</td>\n",
       "      <td>NaN</td>\n",
       "      <td>NaN</td>\n",
       "      <td>NaN</td>\n",
       "    </tr>\n",
       "    <tr>\n",
       "      <th>39870</th>\n",
       "      <td>ZXEXR9ETL1N9</td>\n",
       "      <td>ede97ece03e93</td>\n",
       "      <td>1541256321</td>\n",
       "      <td>19</td>\n",
       "      <td>interaction item image</td>\n",
       "      <td>2753200</td>\n",
       "      <td>PL</td>\n",
       "      <td>Łódź, Poland</td>\n",
       "      <td>tablet</td>\n",
       "      <td>NaN</td>\n",
       "      <td>NaN</td>\n",
       "      <td>NaN</td>\n",
       "    </tr>\n",
       "    <tr>\n",
       "      <th>39871</th>\n",
       "      <td>ZXEXR9ETL1N9</td>\n",
       "      <td>ede97ece03e93</td>\n",
       "      <td>1541256324</td>\n",
       "      <td>20</td>\n",
       "      <td>clickout item</td>\n",
       "      <td>2753200</td>\n",
       "      <td>PL</td>\n",
       "      <td>Łódź, Poland</td>\n",
       "      <td>tablet</td>\n",
       "      <td>NaN</td>\n",
       "      <td>2753200|234416|2250126|5818036|3179640|906283|...</td>\n",
       "      <td>35|40|39|32|48|34|53|108|39|39|86|41|61|50|35|...</td>\n",
       "    </tr>\n",
       "  </tbody>\n",
       "</table>\n",
       "</div>"
      ],
      "text/plain": [
       "            user_id     session_id   timestamp  step             action_type  \\\n",
       "39867  ZXEXR9ETL1N9  ede97ece03e93  1541256321    16  interaction item image   \n",
       "39868  ZXEXR9ETL1N9  ede97ece03e93  1541256321    17  interaction item image   \n",
       "39869  ZXEXR9ETL1N9  ede97ece03e93  1541256321    18  interaction item image   \n",
       "39870  ZXEXR9ETL1N9  ede97ece03e93  1541256321    19  interaction item image   \n",
       "39871  ZXEXR9ETL1N9  ede97ece03e93  1541256324    20           clickout item   \n",
       "\n",
       "      reference platform          city  device current_filters  \\\n",
       "39867   2753200       PL  Łódź, Poland  tablet             NaN   \n",
       "39868   2753200       PL  Łódź, Poland  tablet             NaN   \n",
       "39869   2753200       PL  Łódź, Poland  tablet             NaN   \n",
       "39870   2753200       PL  Łódź, Poland  tablet             NaN   \n",
       "39871   2753200       PL  Łódź, Poland  tablet             NaN   \n",
       "\n",
       "                                             impressions  \\\n",
       "39867                                                NaN   \n",
       "39868                                                NaN   \n",
       "39869                                                NaN   \n",
       "39870                                                NaN   \n",
       "39871  2753200|234416|2250126|5818036|3179640|906283|...   \n",
       "\n",
       "                                                  prices  \n",
       "39867                                                NaN  \n",
       "39868                                                NaN  \n",
       "39869                                                NaN  \n",
       "39870                                                NaN  \n",
       "39871  35|40|39|32|48|34|53|108|39|39|86|41|61|50|35|...  "
      ]
     },
     "execution_count": 6,
     "metadata": {},
     "output_type": "execute_result"
    }
   ],
   "source": [
    "train_df.tail(5)"
   ]
  },
  {
   "cell_type": "markdown",
   "metadata": {},
   "source": [
    "### add_impressions_columns_as_new_actions"
   ]
  },
  {
   "cell_type": "code",
   "execution_count": null,
   "metadata": {},
   "outputs": [],
   "source": [
    "train_df, final_new_index = sess2vec.add_impressions_as_new_actions(train_df)"
   ]
  },
  {
   "cell_type": "code",
   "execution_count": null,
   "metadata": {},
   "outputs": [],
   "source": [
    "print(train_df.shape)\n",
    "#print(test_df.shape)\n",
    "print(train_df.columns)"
   ]
  },
  {
   "cell_type": "code",
   "execution_count": null,
   "metadata": {},
   "outputs": [],
   "source": [
    "train_df.tail(5)"
   ]
  },
  {
   "cell_type": "markdown",
   "metadata": {},
   "source": [
    "### pad/truncate sessions"
   ]
  },
  {
   "cell_type": "code",
   "execution_count": null,
   "metadata": {},
   "outputs": [],
   "source": [
    "MAX_SESSION_LENGTH = 70\n",
    "train_df = sess2vec.pad_sessions(train_df, max_session_length=MAX_SESSION_LENGTH)\n",
    "#test_df = sess2vec.pad_sessions(test_df, max_session_length=MAX_SESSION_LENGTH)"
   ]
  },
  {
   "cell_type": "code",
   "execution_count": null,
   "metadata": {},
   "outputs": [],
   "source": [
    "print(train_df.shape)\n",
    "#print(test_df.shape)"
   ]
  },
  {
   "cell_type": "code",
   "execution_count": null,
   "metadata": {},
   "outputs": [],
   "source": [
    "train_df.tail()"
   ]
  },
  {
   "cell_type": "markdown",
   "metadata": {},
   "source": [
    "### Get the indices of the last clickouts"
   ]
  },
  {
   "cell_type": "code",
   "execution_count": null,
   "metadata": {},
   "outputs": [],
   "source": [
    "train_clickouts_df = sess2vec.get_last_clickout(train_df, index_name='index', rename_index='orig_index')\n",
    "train_clickouts_indices = train_clickouts_df.orig_index.values\n",
    "train_clickouts_indices.sort()"
   ]
  },
  {
   "cell_type": "markdown",
   "metadata": {},
   "source": [
    "### One-hot device and action type"
   ]
  },
  {
   "cell_type": "code",
   "execution_count": 7,
   "metadata": {},
   "outputs": [],
   "source": [
    "actions_classes = [\"show_impression\", \"clickout item\", \"interaction item rating\", \"interaction item info\",\n",
    "           \"interaction item image\", \"interaction item deals\", \"change of sort order\", \"filter selection\",\n",
    "           \"search for item\", \"search for destination\", \"search for poi\"]\n",
    "devices_classes = ['mobile', 'desktop', 'tablet']\n",
    "#actions = [ f'action_type_{a.replace(\" \",\"_\")}' for a in actions ]"
   ]
  },
  {
   "cell_type": "code",
   "execution_count": null,
   "metadata": {},
   "outputs": [],
   "source": [
    "print('Adding one-hot columns of device...')\n",
    "train_df = sess2vec.one_hot_df_column(train_df, 'device', classes=devices_classes)\n",
    "print(train_df.shape)\n",
    "\n",
    "print('Adding one-hot columns of action_type...')\n",
    "train_df = sess2vec.one_hot_df_column(train_df, 'action_type', classes=actions_classes)\n",
    "print(train_df.shape)"
   ]
  },
  {
   "cell_type": "code",
   "execution_count": null,
   "metadata": {},
   "outputs": [],
   "source": [
    "train_df.tail()"
   ]
  },
  {
   "cell_type": "code",
   "execution_count": null,
   "metadata": {},
   "outputs": [],
   "source": [
    "X_train_path = os.path.join(path, 'X_train.csv')"
   ]
  },
  {
   "cell_type": "markdown",
   "metadata": {},
   "source": [
    "### Add accomodations features"
   ]
  },
  {
   "cell_type": "code",
   "execution_count": null,
   "metadata": {},
   "outputs": [],
   "source": [
    "def add_accomodations_features(df, path_to_save, logic='skip', row_indices=[]):\n",
    "    \"\"\"\n",
    "    Add the features (one-hot) to the dataframe that match the 'reference' and save the resulting dataframe.\n",
    "    It is possible to specify a list of rows to skip (logic='skip'), or to join only for some rows (logic='subset').\n",
    "    Return the target columns and the one-hot columns that have been added to the dataframe\n",
    "    \"\"\"\n",
    "    # save the references series and then set the reference to NaN to skip the join on that rows\n",
    "    join_data = dict()\n",
    "    join_data['backup_reference_series'] = df.reference.values.copy()\n",
    "    if len(row_indices) > 0:\n",
    "        if logic == 'skip':\n",
    "            # set to NaN the rows to be skipped\n",
    "            df.loc[row_indices, 'reference'] = np.nan\n",
    "        if logic == 'subset':\n",
    "            # set to NaN all rows, except for the specified rows\n",
    "            backup_serie = df.loc[row_indices].reference.copy()\n",
    "            df.reference = np.nan            \n",
    "            df.loc[row_indices, 'reference'] = backup_serie\n",
    "\n",
    "    # cast the reference column to Int64 removing the string values\n",
    "    df.reference = pd.to_numeric(df.reference, errors='coerce') #.astype('Int64')\n",
    "    \n",
    "    attributes_df = data.accomodations_one_hot()\n",
    "    return\n",
    "    \n",
    "    def post_join(chunk_df, data):\n",
    "        # reset the original references\n",
    "        #chunk_df.loc[:,'reference'] = data['backup_reference_series'][data['$i1']:data['$i2']]\n",
    "        return chunk_df.drop('reference', axis=1)\n",
    "    \n",
    "    sparsedf.left_join_in_chunks(df, attributes_df, left_on='reference', right_on=None, right_index=True,\n",
    "                                post_join_fn=post_join, data=join_data, path_to_save=path_to_save)"
   ]
  },
  {
   "cell_type": "code",
   "execution_count": null,
   "metadata": {},
   "outputs": [],
   "source": [
    "add_accomodations_features(train_df.copy(), X_train_path, logic='skip', row_indices=train_clickouts_indices)"
   ]
  },
  {
   "cell_type": "code",
   "execution_count": null,
   "metadata": {},
   "outputs": [],
   "source": [
    "train_df.tail()"
   ]
  },
  {
   "cell_type": "code",
   "execution_count": null,
   "metadata": {},
   "outputs": [],
   "source": []
  },
  {
   "cell_type": "code",
   "execution_count": null,
   "metadata": {},
   "outputs": [],
   "source": []
  },
  {
   "cell_type": "code",
   "execution_count": null,
   "metadata": {},
   "outputs": [],
   "source": []
  },
  {
   "cell_type": "code",
   "execution_count": null,
   "metadata": {},
   "outputs": [],
   "source": []
  },
  {
   "cell_type": "code",
   "execution_count": null,
   "metadata": {},
   "outputs": [],
   "source": []
  },
  {
   "cell_type": "markdown",
   "metadata": {},
   "source": [
    "## Reload the sparse dataframe"
   ]
  },
  {
   "cell_type": "code",
   "execution_count": null,
   "metadata": {},
   "outputs": [],
   "source": [
    "X_path = os.path.join(path, 'X_train.csv')\n",
    "X_sparsecols = sess2vec.load_sparse_columns(path, 'X_sparsecols')\n",
    "cols_to_drop_in_X = ['user_id','session_id','step','platform','city','current_filters']"
   ]
  },
  {
   "cell_type": "code",
   "execution_count": null,
   "metadata": {},
   "outputs": [],
   "source": [
    "sparse_df = sparsedf.read(X_path, sparse_cols=X_sparsecols).set_index('orig_index')"
   ]
  },
  {
   "cell_type": "code",
   "execution_count": null,
   "metadata": {
    "scrolled": true
   },
   "outputs": [],
   "source": [
    "sparse_df.head(50)"
   ]
  },
  {
   "cell_type": "code",
   "execution_count": null,
   "metadata": {},
   "outputs": [],
   "source": [
    "X_path = os.path.join(path, 'X_train.csv')\n",
    "Y_path = os.path.join(path, 'Y_train.csv')\n",
    "\n",
    "X_sparsecols = sess2vec.load_sparse_columns(path, 'X_sparsecols')\n",
    "Y_sparsecols = sess2vec.load_sparse_columns(path, 'Y_sparsecols')\n",
    "\n",
    "X_train_df = sparsedf.read(X_path, sparse_cols=X_sparsecols).set_index('orig_index')\n",
    "Y_train_df = sparsedf.read(Y_path, sparse_cols=Y_sparsecols).set_index('orig_index')"
   ]
  },
  {
   "cell_type": "code",
   "execution_count": null,
   "metadata": {},
   "outputs": [],
   "source": [
    "%time chunk_df = X_train_df['session_id'].iloc[0:70*10]\n",
    "%time chunk_df = X_train_df.iloc[0:70*10]\n",
    "\n",
    "#%time chunk_df.loc[:, X_sparsecols] = chunk_df[X_sparsecols].astype('Int8')\n",
    "\n",
    "#%time chunk_df.groupby('session_id').apply(lambda g: g.values)"
   ]
  },
  {
   "cell_type": "code",
   "execution_count": null,
   "metadata": {},
   "outputs": [],
   "source": [
    "%time pd.read_csv(X_path, index_col=0, skiprows=range(1, 70*2*100+1), nrows=7000)"
   ]
  },
  {
   "cell_type": "code",
   "execution_count": null,
   "metadata": {},
   "outputs": [],
   "source": [
    "%time Y_train_df.groupby('session_id').apply(lambda g: g.values)"
   ]
  },
  {
   "cell_type": "code",
   "execution_count": null,
   "metadata": {
    "scrolled": true
   },
   "outputs": [],
   "source": [
    "x,y = sess2vec.load_training_dataset_for_regression(mode)"
   ]
  },
  {
   "cell_type": "code",
   "execution_count": null,
   "metadata": {},
   "outputs": [],
   "source": [
    "x"
   ]
  },
  {
   "cell_type": "code",
   "execution_count": null,
   "metadata": {},
   "outputs": [],
   "source": [
    "sparse_df = sparsedf.read(path_to_save, sparse_cols=features_columns).set_index('orig_index')"
   ]
  },
  {
   "cell_type": "code",
   "execution_count": null,
   "metadata": {},
   "outputs": [],
   "source": [
    "print('Full dataframe shape:', sparse_df.shape)"
   ]
  },
  {
   "cell_type": "code",
   "execution_count": null,
   "metadata": {
    "scrolled": true
   },
   "outputs": [],
   "source": [
    "sparse_df.tail()"
   ]
  },
  {
   "cell_type": "code",
   "execution_count": null,
   "metadata": {},
   "outputs": [],
   "source": []
  },
  {
   "cell_type": "code",
   "execution_count": null,
   "metadata": {},
   "outputs": [],
   "source": []
  },
  {
   "cell_type": "code",
   "execution_count": null,
   "metadata": {},
   "outputs": [],
   "source": []
  },
  {
   "cell_type": "code",
   "execution_count": null,
   "metadata": {},
   "outputs": [],
   "source": []
  },
  {
   "cell_type": "code",
   "execution_count": null,
   "metadata": {},
   "outputs": [],
   "source": []
  }
 ],
 "metadata": {
  "kernelspec": {
   "display_name": "Python 3",
   "language": "python",
   "name": "python3"
  },
  "language_info": {
   "codemirror_mode": {
    "name": "ipython",
    "version": 3
   },
   "file_extension": ".py",
   "mimetype": "text/x-python",
   "name": "python",
   "nbconvert_exporter": "python",
   "pygments_lexer": "ipython3",
   "version": "3.6.8"
  }
 },
 "nbformat": 4,
 "nbformat_minor": 2
}
