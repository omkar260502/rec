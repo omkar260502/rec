{
 "cells": [
  {
   "cell_type": "code",
   "execution_count": 1,
   "metadata": {},
   "outputs": [],
   "source": [
    "import os\n",
    "os.chdir('../')"
   ]
  },
  {
   "cell_type": "code",
   "execution_count": 2,
   "metadata": {},
   "outputs": [
    {
     "name": "stderr",
     "output_type": "stream",
     "text": [
      "Using TensorFlow backend.\n"
     ]
    }
   ],
   "source": [
    "import data\n",
    "import preprocess_utils.session2vec as sess2vec\n",
    "import pandas as pd\n",
    "import utils.sparsedf as sparsedf\n",
    "from utils.check_folder import check_folder\n",
    "import numpy as np\n",
    "import scipy.sparse as sps\n",
    "from tqdm.auto import tqdm\n",
    "from IPython.display import display\n",
    "pd.options.display.max_columns = None\n",
    "\n",
    "tqdm.pandas()"
   ]
  },
  {
   "cell_type": "code",
   "execution_count": 3,
   "metadata": {},
   "outputs": [],
   "source": [
    "mode = 'small' #menu.mode_selection()\n",
    "path = f'dataset/preprocessed/cluster_recurrent/{mode}/dataset_classification'\n",
    "check_folder(path)"
   ]
  },
  {
   "cell_type": "code",
   "execution_count": 4,
   "metadata": {},
   "outputs": [],
   "source": [
    "train_df = data.train_df(mode, cluster='cluster_recurrent')\n",
    "#test_df = data.test_df(mode, cluster='cluster_recurrent')\n",
    "#accomodations_df = data.accomodations_df()\n",
    "\n",
    "folder_path = f'dataset/preprocessed/cluster_recurrent/{mode}'"
   ]
  },
  {
   "cell_type": "code",
   "execution_count": 5,
   "metadata": {},
   "outputs": [
    {
     "name": "stdout",
     "output_type": "stream",
     "text": [
      "(39767, 12)\n"
     ]
    },
    {
     "ename": "NameError",
     "evalue": "name 'test_df' is not defined",
     "output_type": "error",
     "traceback": [
      "\u001b[0;31m---------------------------------------------------------------------------\u001b[0m",
      "\u001b[0;31mNameError\u001b[0m                                 Traceback (most recent call last)",
      "\u001b[0;32m<ipython-input-5-e8361c32c0c9>\u001b[0m in \u001b[0;36m<module>\u001b[0;34m\u001b[0m\n\u001b[1;32m      1\u001b[0m \u001b[0mprint\u001b[0m\u001b[0;34m(\u001b[0m\u001b[0mtrain_df\u001b[0m\u001b[0;34m.\u001b[0m\u001b[0mshape\u001b[0m\u001b[0;34m)\u001b[0m\u001b[0;34m\u001b[0m\u001b[0;34m\u001b[0m\u001b[0m\n\u001b[0;32m----> 2\u001b[0;31m \u001b[0mprint\u001b[0m\u001b[0;34m(\u001b[0m\u001b[0mtest_df\u001b[0m\u001b[0;34m.\u001b[0m\u001b[0mshape\u001b[0m\u001b[0;34m)\u001b[0m\u001b[0;34m\u001b[0m\u001b[0;34m\u001b[0m\u001b[0m\n\u001b[0m",
      "\u001b[0;31mNameError\u001b[0m: name 'test_df' is not defined"
     ]
    }
   ],
   "source": [
    "print(train_df.shape)\n",
    "print(test_df.shape)"
   ]
  },
  {
   "cell_type": "code",
   "execution_count": null,
   "metadata": {
    "scrolled": true
   },
   "outputs": [],
   "source": [
    "train_df.head(20)"
   ]
  },
  {
   "cell_type": "markdown",
   "metadata": {},
   "source": [
    "### add impressions as new interactions"
   ]
  },
  {
   "cell_type": "code",
   "execution_count": 6,
   "metadata": {
    "scrolled": false
   },
   "outputs": [
    {
     "name": "stdout",
     "output_type": "stream",
     "text": [
      "Total clickout interactions found: 3876\n"
     ]
    },
    {
     "name": "stderr",
     "output_type": "stream",
     "text": [
      "3876it [00:02, 1311.87it/s]\n"
     ]
    },
    {
     "name": "stdout",
     "output_type": "stream",
     "text": [
      "CPU times: user 3.14 s, sys: 110 ms, total: 3.25 s\n",
      "Wall time: 3.22 s\n"
     ]
    }
   ],
   "source": [
    "%time df, _ = sess2vec.add_impressions_as_new_actions(train_df.copy(), append_every=100000)"
   ]
  },
  {
   "cell_type": "code",
   "execution_count": 8,
   "metadata": {
    "scrolled": true
   },
   "outputs": [
    {
     "data": {
      "text/html": [
       "<div>\n",
       "<style scoped>\n",
       "    .dataframe tbody tr th:only-of-type {\n",
       "        vertical-align: middle;\n",
       "    }\n",
       "\n",
       "    .dataframe tbody tr th {\n",
       "        vertical-align: top;\n",
       "    }\n",
       "\n",
       "    .dataframe thead th {\n",
       "        text-align: right;\n",
       "    }\n",
       "</style>\n",
       "<table border=\"1\" class=\"dataframe\">\n",
       "  <thead>\n",
       "    <tr style=\"text-align: right;\">\n",
       "      <th></th>\n",
       "      <th>user_id</th>\n",
       "      <th>session_id</th>\n",
       "      <th>timestamp</th>\n",
       "      <th>step</th>\n",
       "      <th>action_type</th>\n",
       "      <th>reference</th>\n",
       "      <th>platform</th>\n",
       "      <th>city</th>\n",
       "      <th>device</th>\n",
       "      <th>current_filters</th>\n",
       "      <th>impression_price</th>\n",
       "    </tr>\n",
       "  </thead>\n",
       "  <tbody>\n",
       "    <tr>\n",
       "      <th>99030610</th>\n",
       "      <td>ZZRDO4E49IX8</td>\n",
       "      <td>95b67d0f9cc2e</td>\n",
       "      <td>1541100389</td>\n",
       "      <td>2.79206</td>\n",
       "      <td>show_impression</td>\n",
       "      <td>87223</td>\n",
       "      <td>ES</td>\n",
       "      <td>Zumaia, Spain</td>\n",
       "      <td>mobile</td>\n",
       "      <td>NaN</td>\n",
       "      <td>120</td>\n",
       "    </tr>\n",
       "    <tr>\n",
       "      <th>99030611</th>\n",
       "      <td>ZZRDO4E49IX8</td>\n",
       "      <td>95b67d0f9cc2e</td>\n",
       "      <td>1541100389</td>\n",
       "      <td>2.83365</td>\n",
       "      <td>show_impression</td>\n",
       "      <td>7070024</td>\n",
       "      <td>ES</td>\n",
       "      <td>Zumaia, Spain</td>\n",
       "      <td>mobile</td>\n",
       "      <td>NaN</td>\n",
       "      <td>42</td>\n",
       "    </tr>\n",
       "    <tr>\n",
       "      <th>99030612</th>\n",
       "      <td>ZZRDO4E49IX8</td>\n",
       "      <td>95b67d0f9cc2e</td>\n",
       "      <td>1541100389</td>\n",
       "      <td>2.87524</td>\n",
       "      <td>show_impression</td>\n",
       "      <td>90401</td>\n",
       "      <td>ES</td>\n",
       "      <td>Zumaia, Spain</td>\n",
       "      <td>mobile</td>\n",
       "      <td>NaN</td>\n",
       "      <td>88</td>\n",
       "    </tr>\n",
       "    <tr>\n",
       "      <th>99030613</th>\n",
       "      <td>ZZRDO4E49IX8</td>\n",
       "      <td>95b67d0f9cc2e</td>\n",
       "      <td>1541100389</td>\n",
       "      <td>2.91682</td>\n",
       "      <td>show_impression</td>\n",
       "      <td>7822648</td>\n",
       "      <td>ES</td>\n",
       "      <td>Zumaia, Spain</td>\n",
       "      <td>mobile</td>\n",
       "      <td>NaN</td>\n",
       "      <td>80</td>\n",
       "    </tr>\n",
       "    <tr>\n",
       "      <th>99030614</th>\n",
       "      <td>ZZRDO4E49IX8</td>\n",
       "      <td>95b67d0f9cc2e</td>\n",
       "      <td>1541100389</td>\n",
       "      <td>2.95841</td>\n",
       "      <td>show_impression</td>\n",
       "      <td>8004338</td>\n",
       "      <td>ES</td>\n",
       "      <td>Zumaia, Spain</td>\n",
       "      <td>mobile</td>\n",
       "      <td>NaN</td>\n",
       "      <td>59</td>\n",
       "    </tr>\n",
       "    <tr>\n",
       "      <th>13026</th>\n",
       "      <td>ZZRDO4E49IX8</td>\n",
       "      <td>95b67d0f9cc2e</td>\n",
       "      <td>1541100389</td>\n",
       "      <td>3</td>\n",
       "      <td>clickout item</td>\n",
       "      <td>1374934</td>\n",
       "      <td>ES</td>\n",
       "      <td>Zumaia, Spain</td>\n",
       "      <td>mobile</td>\n",
       "      <td>NaN</td>\n",
       "      <td>-1</td>\n",
       "    </tr>\n",
       "    <tr>\n",
       "      <th>99030615</th>\n",
       "      <td>ZZRDO4E49IX8</td>\n",
       "      <td>95b67d0f9cc2e</td>\n",
       "      <td>1541100472</td>\n",
       "      <td>3.04348</td>\n",
       "      <td>show_impression</td>\n",
       "      <td>2841602</td>\n",
       "      <td>ES</td>\n",
       "      <td>Zumaia, Spain</td>\n",
       "      <td>mobile</td>\n",
       "      <td>NaN</td>\n",
       "      <td>179</td>\n",
       "    </tr>\n",
       "    <tr>\n",
       "      <th>99030616</th>\n",
       "      <td>ZZRDO4E49IX8</td>\n",
       "      <td>95b67d0f9cc2e</td>\n",
       "      <td>1541100472</td>\n",
       "      <td>3.08507</td>\n",
       "      <td>show_impression</td>\n",
       "      <td>803216</td>\n",
       "      <td>ES</td>\n",
       "      <td>Zumaia, Spain</td>\n",
       "      <td>mobile</td>\n",
       "      <td>NaN</td>\n",
       "      <td>75</td>\n",
       "    </tr>\n",
       "    <tr>\n",
       "      <th>99030617</th>\n",
       "      <td>ZZRDO4E49IX8</td>\n",
       "      <td>95b67d0f9cc2e</td>\n",
       "      <td>1541100472</td>\n",
       "      <td>3.12665</td>\n",
       "      <td>show_impression</td>\n",
       "      <td>87983</td>\n",
       "      <td>ES</td>\n",
       "      <td>Zumaia, Spain</td>\n",
       "      <td>mobile</td>\n",
       "      <td>NaN</td>\n",
       "      <td>80</td>\n",
       "    </tr>\n",
       "    <tr>\n",
       "      <th>99030618</th>\n",
       "      <td>ZZRDO4E49IX8</td>\n",
       "      <td>95b67d0f9cc2e</td>\n",
       "      <td>1541100472</td>\n",
       "      <td>3.16824</td>\n",
       "      <td>show_impression</td>\n",
       "      <td>157830</td>\n",
       "      <td>ES</td>\n",
       "      <td>Zumaia, Spain</td>\n",
       "      <td>mobile</td>\n",
       "      <td>NaN</td>\n",
       "      <td>182</td>\n",
       "    </tr>\n",
       "    <tr>\n",
       "      <th>99030619</th>\n",
       "      <td>ZZRDO4E49IX8</td>\n",
       "      <td>95b67d0f9cc2e</td>\n",
       "      <td>1541100472</td>\n",
       "      <td>3.20983</td>\n",
       "      <td>show_impression</td>\n",
       "      <td>87981</td>\n",
       "      <td>ES</td>\n",
       "      <td>Zumaia, Spain</td>\n",
       "      <td>mobile</td>\n",
       "      <td>NaN</td>\n",
       "      <td>75</td>\n",
       "    </tr>\n",
       "    <tr>\n",
       "      <th>99030620</th>\n",
       "      <td>ZZRDO4E49IX8</td>\n",
       "      <td>95b67d0f9cc2e</td>\n",
       "      <td>1541100472</td>\n",
       "      <td>3.25142</td>\n",
       "      <td>show_impression</td>\n",
       "      <td>14267</td>\n",
       "      <td>ES</td>\n",
       "      <td>Zumaia, Spain</td>\n",
       "      <td>mobile</td>\n",
       "      <td>NaN</td>\n",
       "      <td>933</td>\n",
       "    </tr>\n",
       "    <tr>\n",
       "      <th>99030621</th>\n",
       "      <td>ZZRDO4E49IX8</td>\n",
       "      <td>95b67d0f9cc2e</td>\n",
       "      <td>1541100472</td>\n",
       "      <td>3.29301</td>\n",
       "      <td>show_impression</td>\n",
       "      <td>87285</td>\n",
       "      <td>ES</td>\n",
       "      <td>Zumaia, Spain</td>\n",
       "      <td>mobile</td>\n",
       "      <td>NaN</td>\n",
       "      <td>105</td>\n",
       "    </tr>\n",
       "    <tr>\n",
       "      <th>99030622</th>\n",
       "      <td>ZZRDO4E49IX8</td>\n",
       "      <td>95b67d0f9cc2e</td>\n",
       "      <td>1541100472</td>\n",
       "      <td>3.33459</td>\n",
       "      <td>show_impression</td>\n",
       "      <td>90245</td>\n",
       "      <td>ES</td>\n",
       "      <td>Zumaia, Spain</td>\n",
       "      <td>mobile</td>\n",
       "      <td>NaN</td>\n",
       "      <td>80</td>\n",
       "    </tr>\n",
       "    <tr>\n",
       "      <th>99030623</th>\n",
       "      <td>ZZRDO4E49IX8</td>\n",
       "      <td>95b67d0f9cc2e</td>\n",
       "      <td>1541100472</td>\n",
       "      <td>3.37618</td>\n",
       "      <td>show_impression</td>\n",
       "      <td>2303838</td>\n",
       "      <td>ES</td>\n",
       "      <td>Zumaia, Spain</td>\n",
       "      <td>mobile</td>\n",
       "      <td>NaN</td>\n",
       "      <td>56</td>\n",
       "    </tr>\n",
       "    <tr>\n",
       "      <th>99030624</th>\n",
       "      <td>ZZRDO4E49IX8</td>\n",
       "      <td>95b67d0f9cc2e</td>\n",
       "      <td>1541100472</td>\n",
       "      <td>3.41777</td>\n",
       "      <td>show_impression</td>\n",
       "      <td>1310000</td>\n",
       "      <td>ES</td>\n",
       "      <td>Zumaia, Spain</td>\n",
       "      <td>mobile</td>\n",
       "      <td>NaN</td>\n",
       "      <td>60</td>\n",
       "    </tr>\n",
       "    <tr>\n",
       "      <th>99030625</th>\n",
       "      <td>ZZRDO4E49IX8</td>\n",
       "      <td>95b67d0f9cc2e</td>\n",
       "      <td>1541100472</td>\n",
       "      <td>3.45936</td>\n",
       "      <td>show_impression</td>\n",
       "      <td>351801</td>\n",
       "      <td>ES</td>\n",
       "      <td>Zumaia, Spain</td>\n",
       "      <td>mobile</td>\n",
       "      <td>NaN</td>\n",
       "      <td>130</td>\n",
       "    </tr>\n",
       "    <tr>\n",
       "      <th>99030626</th>\n",
       "      <td>ZZRDO4E49IX8</td>\n",
       "      <td>95b67d0f9cc2e</td>\n",
       "      <td>1541100472</td>\n",
       "      <td>3.50095</td>\n",
       "      <td>show_impression</td>\n",
       "      <td>90100</td>\n",
       "      <td>ES</td>\n",
       "      <td>Zumaia, Spain</td>\n",
       "      <td>mobile</td>\n",
       "      <td>NaN</td>\n",
       "      <td>88</td>\n",
       "    </tr>\n",
       "    <tr>\n",
       "      <th>99030627</th>\n",
       "      <td>ZZRDO4E49IX8</td>\n",
       "      <td>95b67d0f9cc2e</td>\n",
       "      <td>1541100472</td>\n",
       "      <td>3.54253</td>\n",
       "      <td>show_impression</td>\n",
       "      <td>833446</td>\n",
       "      <td>ES</td>\n",
       "      <td>Zumaia, Spain</td>\n",
       "      <td>mobile</td>\n",
       "      <td>NaN</td>\n",
       "      <td>90</td>\n",
       "    </tr>\n",
       "    <tr>\n",
       "      <th>99030628</th>\n",
       "      <td>ZZRDO4E49IX8</td>\n",
       "      <td>95b67d0f9cc2e</td>\n",
       "      <td>1541100472</td>\n",
       "      <td>3.58412</td>\n",
       "      <td>show_impression</td>\n",
       "      <td>1746207</td>\n",
       "      <td>ES</td>\n",
       "      <td>Zumaia, Spain</td>\n",
       "      <td>mobile</td>\n",
       "      <td>NaN</td>\n",
       "      <td>65</td>\n",
       "    </tr>\n",
       "    <tr>\n",
       "      <th>99030629</th>\n",
       "      <td>ZZRDO4E49IX8</td>\n",
       "      <td>95b67d0f9cc2e</td>\n",
       "      <td>1541100472</td>\n",
       "      <td>3.62571</td>\n",
       "      <td>show_impression</td>\n",
       "      <td>1374934</td>\n",
       "      <td>ES</td>\n",
       "      <td>Zumaia, Spain</td>\n",
       "      <td>mobile</td>\n",
       "      <td>NaN</td>\n",
       "      <td>94</td>\n",
       "    </tr>\n",
       "    <tr>\n",
       "      <th>99030630</th>\n",
       "      <td>ZZRDO4E49IX8</td>\n",
       "      <td>95b67d0f9cc2e</td>\n",
       "      <td>1541100472</td>\n",
       "      <td>3.6673</td>\n",
       "      <td>show_impression</td>\n",
       "      <td>8780912</td>\n",
       "      <td>ES</td>\n",
       "      <td>Zumaia, Spain</td>\n",
       "      <td>mobile</td>\n",
       "      <td>NaN</td>\n",
       "      <td>40</td>\n",
       "    </tr>\n",
       "    <tr>\n",
       "      <th>99030631</th>\n",
       "      <td>ZZRDO4E49IX8</td>\n",
       "      <td>95b67d0f9cc2e</td>\n",
       "      <td>1541100472</td>\n",
       "      <td>3.70888</td>\n",
       "      <td>show_impression</td>\n",
       "      <td>676636</td>\n",
       "      <td>ES</td>\n",
       "      <td>Zumaia, Spain</td>\n",
       "      <td>mobile</td>\n",
       "      <td>NaN</td>\n",
       "      <td>84</td>\n",
       "    </tr>\n",
       "    <tr>\n",
       "      <th>99030632</th>\n",
       "      <td>ZZRDO4E49IX8</td>\n",
       "      <td>95b67d0f9cc2e</td>\n",
       "      <td>1541100472</td>\n",
       "      <td>3.75047</td>\n",
       "      <td>show_impression</td>\n",
       "      <td>7698254</td>\n",
       "      <td>ES</td>\n",
       "      <td>Zumaia, Spain</td>\n",
       "      <td>mobile</td>\n",
       "      <td>NaN</td>\n",
       "      <td>200</td>\n",
       "    </tr>\n",
       "    <tr>\n",
       "      <th>99030633</th>\n",
       "      <td>ZZRDO4E49IX8</td>\n",
       "      <td>95b67d0f9cc2e</td>\n",
       "      <td>1541100472</td>\n",
       "      <td>3.79206</td>\n",
       "      <td>show_impression</td>\n",
       "      <td>87223</td>\n",
       "      <td>ES</td>\n",
       "      <td>Zumaia, Spain</td>\n",
       "      <td>mobile</td>\n",
       "      <td>NaN</td>\n",
       "      <td>120</td>\n",
       "    </tr>\n",
       "    <tr>\n",
       "      <th>99030634</th>\n",
       "      <td>ZZRDO4E49IX8</td>\n",
       "      <td>95b67d0f9cc2e</td>\n",
       "      <td>1541100472</td>\n",
       "      <td>3.83365</td>\n",
       "      <td>show_impression</td>\n",
       "      <td>7070024</td>\n",
       "      <td>ES</td>\n",
       "      <td>Zumaia, Spain</td>\n",
       "      <td>mobile</td>\n",
       "      <td>NaN</td>\n",
       "      <td>42</td>\n",
       "    </tr>\n",
       "    <tr>\n",
       "      <th>99030635</th>\n",
       "      <td>ZZRDO4E49IX8</td>\n",
       "      <td>95b67d0f9cc2e</td>\n",
       "      <td>1541100472</td>\n",
       "      <td>3.87524</td>\n",
       "      <td>show_impression</td>\n",
       "      <td>90401</td>\n",
       "      <td>ES</td>\n",
       "      <td>Zumaia, Spain</td>\n",
       "      <td>mobile</td>\n",
       "      <td>NaN</td>\n",
       "      <td>88</td>\n",
       "    </tr>\n",
       "    <tr>\n",
       "      <th>99030636</th>\n",
       "      <td>ZZRDO4E49IX8</td>\n",
       "      <td>95b67d0f9cc2e</td>\n",
       "      <td>1541100472</td>\n",
       "      <td>3.91682</td>\n",
       "      <td>show_impression</td>\n",
       "      <td>7822648</td>\n",
       "      <td>ES</td>\n",
       "      <td>Zumaia, Spain</td>\n",
       "      <td>mobile</td>\n",
       "      <td>NaN</td>\n",
       "      <td>80</td>\n",
       "    </tr>\n",
       "    <tr>\n",
       "      <th>99030637</th>\n",
       "      <td>ZZRDO4E49IX8</td>\n",
       "      <td>95b67d0f9cc2e</td>\n",
       "      <td>1541100472</td>\n",
       "      <td>3.95841</td>\n",
       "      <td>show_impression</td>\n",
       "      <td>8004338</td>\n",
       "      <td>ES</td>\n",
       "      <td>Zumaia, Spain</td>\n",
       "      <td>mobile</td>\n",
       "      <td>NaN</td>\n",
       "      <td>59</td>\n",
       "    </tr>\n",
       "    <tr>\n",
       "      <th>13027</th>\n",
       "      <td>ZZRDO4E49IX8</td>\n",
       "      <td>95b67d0f9cc2e</td>\n",
       "      <td>1541100472</td>\n",
       "      <td>4</td>\n",
       "      <td>clickout item</td>\n",
       "      <td>87223</td>\n",
       "      <td>ES</td>\n",
       "      <td>Zumaia, Spain</td>\n",
       "      <td>mobile</td>\n",
       "      <td>NaN</td>\n",
       "      <td>-1</td>\n",
       "    </tr>\n",
       "  </tbody>\n",
       "</table>\n",
       "</div>"
      ],
      "text/plain": [
       "               user_id     session_id   timestamp     step      action_type  \\\n",
       "99030610  ZZRDO4E49IX8  95b67d0f9cc2e  1541100389  2.79206  show_impression   \n",
       "99030611  ZZRDO4E49IX8  95b67d0f9cc2e  1541100389  2.83365  show_impression   \n",
       "99030612  ZZRDO4E49IX8  95b67d0f9cc2e  1541100389  2.87524  show_impression   \n",
       "99030613  ZZRDO4E49IX8  95b67d0f9cc2e  1541100389  2.91682  show_impression   \n",
       "99030614  ZZRDO4E49IX8  95b67d0f9cc2e  1541100389  2.95841  show_impression   \n",
       "13026     ZZRDO4E49IX8  95b67d0f9cc2e  1541100389        3    clickout item   \n",
       "99030615  ZZRDO4E49IX8  95b67d0f9cc2e  1541100472  3.04348  show_impression   \n",
       "99030616  ZZRDO4E49IX8  95b67d0f9cc2e  1541100472  3.08507  show_impression   \n",
       "99030617  ZZRDO4E49IX8  95b67d0f9cc2e  1541100472  3.12665  show_impression   \n",
       "99030618  ZZRDO4E49IX8  95b67d0f9cc2e  1541100472  3.16824  show_impression   \n",
       "99030619  ZZRDO4E49IX8  95b67d0f9cc2e  1541100472  3.20983  show_impression   \n",
       "99030620  ZZRDO4E49IX8  95b67d0f9cc2e  1541100472  3.25142  show_impression   \n",
       "99030621  ZZRDO4E49IX8  95b67d0f9cc2e  1541100472  3.29301  show_impression   \n",
       "99030622  ZZRDO4E49IX8  95b67d0f9cc2e  1541100472  3.33459  show_impression   \n",
       "99030623  ZZRDO4E49IX8  95b67d0f9cc2e  1541100472  3.37618  show_impression   \n",
       "99030624  ZZRDO4E49IX8  95b67d0f9cc2e  1541100472  3.41777  show_impression   \n",
       "99030625  ZZRDO4E49IX8  95b67d0f9cc2e  1541100472  3.45936  show_impression   \n",
       "99030626  ZZRDO4E49IX8  95b67d0f9cc2e  1541100472  3.50095  show_impression   \n",
       "99030627  ZZRDO4E49IX8  95b67d0f9cc2e  1541100472  3.54253  show_impression   \n",
       "99030628  ZZRDO4E49IX8  95b67d0f9cc2e  1541100472  3.58412  show_impression   \n",
       "99030629  ZZRDO4E49IX8  95b67d0f9cc2e  1541100472  3.62571  show_impression   \n",
       "99030630  ZZRDO4E49IX8  95b67d0f9cc2e  1541100472   3.6673  show_impression   \n",
       "99030631  ZZRDO4E49IX8  95b67d0f9cc2e  1541100472  3.70888  show_impression   \n",
       "99030632  ZZRDO4E49IX8  95b67d0f9cc2e  1541100472  3.75047  show_impression   \n",
       "99030633  ZZRDO4E49IX8  95b67d0f9cc2e  1541100472  3.79206  show_impression   \n",
       "99030634  ZZRDO4E49IX8  95b67d0f9cc2e  1541100472  3.83365  show_impression   \n",
       "99030635  ZZRDO4E49IX8  95b67d0f9cc2e  1541100472  3.87524  show_impression   \n",
       "99030636  ZZRDO4E49IX8  95b67d0f9cc2e  1541100472  3.91682  show_impression   \n",
       "99030637  ZZRDO4E49IX8  95b67d0f9cc2e  1541100472  3.95841  show_impression   \n",
       "13027     ZZRDO4E49IX8  95b67d0f9cc2e  1541100472        4    clickout item   \n",
       "\n",
       "         reference platform           city  device current_filters  \\\n",
       "99030610     87223       ES  Zumaia, Spain  mobile             NaN   \n",
       "99030611   7070024       ES  Zumaia, Spain  mobile             NaN   \n",
       "99030612     90401       ES  Zumaia, Spain  mobile             NaN   \n",
       "99030613   7822648       ES  Zumaia, Spain  mobile             NaN   \n",
       "99030614   8004338       ES  Zumaia, Spain  mobile             NaN   \n",
       "13026      1374934       ES  Zumaia, Spain  mobile             NaN   \n",
       "99030615   2841602       ES  Zumaia, Spain  mobile             NaN   \n",
       "99030616    803216       ES  Zumaia, Spain  mobile             NaN   \n",
       "99030617     87983       ES  Zumaia, Spain  mobile             NaN   \n",
       "99030618    157830       ES  Zumaia, Spain  mobile             NaN   \n",
       "99030619     87981       ES  Zumaia, Spain  mobile             NaN   \n",
       "99030620     14267       ES  Zumaia, Spain  mobile             NaN   \n",
       "99030621     87285       ES  Zumaia, Spain  mobile             NaN   \n",
       "99030622     90245       ES  Zumaia, Spain  mobile             NaN   \n",
       "99030623   2303838       ES  Zumaia, Spain  mobile             NaN   \n",
       "99030624   1310000       ES  Zumaia, Spain  mobile             NaN   \n",
       "99030625    351801       ES  Zumaia, Spain  mobile             NaN   \n",
       "99030626     90100       ES  Zumaia, Spain  mobile             NaN   \n",
       "99030627    833446       ES  Zumaia, Spain  mobile             NaN   \n",
       "99030628   1746207       ES  Zumaia, Spain  mobile             NaN   \n",
       "99030629   1374934       ES  Zumaia, Spain  mobile             NaN   \n",
       "99030630   8780912       ES  Zumaia, Spain  mobile             NaN   \n",
       "99030631    676636       ES  Zumaia, Spain  mobile             NaN   \n",
       "99030632   7698254       ES  Zumaia, Spain  mobile             NaN   \n",
       "99030633     87223       ES  Zumaia, Spain  mobile             NaN   \n",
       "99030634   7070024       ES  Zumaia, Spain  mobile             NaN   \n",
       "99030635     90401       ES  Zumaia, Spain  mobile             NaN   \n",
       "99030636   7822648       ES  Zumaia, Spain  mobile             NaN   \n",
       "99030637   8004338       ES  Zumaia, Spain  mobile             NaN   \n",
       "13027        87223       ES  Zumaia, Spain  mobile             NaN   \n",
       "\n",
       "         impression_price  \n",
       "99030610              120  \n",
       "99030611               42  \n",
       "99030612               88  \n",
       "99030613               80  \n",
       "99030614               59  \n",
       "13026                  -1  \n",
       "99030615              179  \n",
       "99030616               75  \n",
       "99030617               80  \n",
       "99030618              182  \n",
       "99030619               75  \n",
       "99030620              933  \n",
       "99030621              105  \n",
       "99030622               80  \n",
       "99030623               56  \n",
       "99030624               60  \n",
       "99030625              130  \n",
       "99030626               88  \n",
       "99030627               90  \n",
       "99030628               65  \n",
       "99030629               94  \n",
       "99030630               40  \n",
       "99030631               84  \n",
       "99030632              200  \n",
       "99030633              120  \n",
       "99030634               42  \n",
       "99030635               88  \n",
       "99030636               80  \n",
       "99030637               59  \n",
       "13027                  -1  "
      ]
     },
     "execution_count": 8,
     "metadata": {},
     "output_type": "execute_result"
    }
   ],
   "source": [
    "df.tail(30)"
   ]
  },
  {
   "cell_type": "code",
   "execution_count": 9,
   "metadata": {},
   "outputs": [
    {
     "data": {
      "text/plain": [
       "user_id             object\n",
       "session_id          object\n",
       "timestamp           object\n",
       "step                object\n",
       "action_type         object\n",
       "reference           object\n",
       "platform            object\n",
       "city                object\n",
       "device              object\n",
       "current_filters     object\n",
       "impression_price    object\n",
       "dtype: object"
      ]
     },
     "execution_count": 9,
     "metadata": {},
     "output_type": "execute_result"
    }
   ],
   "source": [
    "df.dtypes"
   ]
  },
  {
   "cell_type": "code",
   "execution_count": null,
   "metadata": {},
   "outputs": [],
   "source": [
    "import psutil\n",
    "import multiprocessing\n",
    "import threading\n",
    "import dask.dataframe as ddf\n",
    "import math\n",
    "\n",
    "def add_impressions_as_new_actions_multicore(df, new_rows_starting_index=99000000, drop_cols=['impressions','prices']):\n",
    "    \"\"\"\n",
    "    Add dummy actions before each clickout to indicate each one of the available impressions.\n",
    "    Prices are incorporated inside the new rows in a new column called 'impression_price'.\n",
    "    Since this is the most expensive task of the creation process, this multicore implementation allows to split\n",
    "    the work between the cpu cores.\n",
    "    \"\"\"\n",
    "    CORES = psutil.cpu_count(logical=False)\n",
    "\n",
    "    df['impression_price'] = -1     #np.nan\n",
    "    clickout_rows = df[df.action_type == 'clickout item']\n",
    "    TOT_ROWS = clickout_rows.shape[0]\n",
    "    \n",
    "    print('Total clickout interactions found:', TOT_ROWS, flush=True)\n",
    "    \n",
    "    # threads functions\n",
    "    def append_temp_to_df(temp_df, df, columns, drop_cols):\n",
    "        return df.append(pd.DataFrame(temp_df, columns=columns)).drop(drop_cols, axis=1)\n",
    "    \n",
    "    def add_imprs(chunk_df, start_idx, lock, drop_cols, temp_df=[], append_every=10000):\n",
    "        #temp_df = []\n",
    "        count_added = 0\n",
    "        for _, row in tqdm(chunk_df.iterrows()):\n",
    "            impressions = list(map(int, row.impressions.split('|')))\n",
    "            prices = list(map(int, row.prices.split('|')))\n",
    "            row.action_type = 'show_impression'\n",
    "\n",
    "            steps = np.linspace(row.step-1+1/len(impressions),row.step,len(impressions)+1)\n",
    "            for imprsn, impr_price, step in zip(impressions, prices, steps):\n",
    "                # a copy is needed otherwise row seems to be taken by reference\n",
    "                r = row.copy()\n",
    "                r.reference = imprsn\n",
    "                r.impression_price = impr_price\n",
    "                r.step = step\n",
    "\n",
    "                #lock.acquire()\n",
    "                #r.name = start_idx.value\n",
    "                #start_idx.value += 1\n",
    "                #lock.release()\n",
    "\n",
    "                r.name = start_idx\n",
    "                start_idx += 1\n",
    "                \n",
    "                count_added += 1\n",
    "\n",
    "                temp_df.append(r)\n",
    "\n",
    "            #if len(temp_df) >= append_every:\n",
    "            #    out = append_temp_to_df(temp_df, df, chunk_df.columns, drop_cols)\n",
    "            #    temp_df = []\n",
    "        \n",
    "        print(count_added)\n",
    "        #if len(temp_df) > 0:\n",
    "        #    df = append_temp_to_df(temp_df, df, chunk_df.columns, drop_cols)\n",
    "    \n",
    "    # create data chunks\n",
    "    chunks = []\n",
    "    CHUNK_SIZE = math.ceil(TOT_ROWS / CORES)\n",
    "    DIVISIONS = np.arange(0, TOT_ROWS + CHUNK_SIZE, CHUNK_SIZE)\n",
    "    DIVISIONS[-1] = TOT_ROWS - 1\n",
    "    for k in range(CORES):\n",
    "        chunks.append( clickout_rows.iloc[DIVISIONS[k] : DIVISIONS[k+1]] )\n",
    "    \n",
    "    assert len(chunks) == CORES\n",
    "    \n",
    "    # create and start the processes\n",
    "    start_idx = multiprocessing.Value('i', new_rows_starting_index)\n",
    "    lock = multiprocessing.Lock()\n",
    "    \n",
    "    with multiprocessing.Manager() as manager:\n",
    "        temp = manager.list([])\n",
    "        processes_pool = []\n",
    "        for k in range(CORES):\n",
    "            process = multiprocessing.Process(target=add_imprs, args=(chunks[k], start_idx.value, lock, drop_cols, temp))\n",
    "            #process = threading.Thread(target=add_imprs, args=(chunks[k], start_idx.value, lock, drop_cols))\n",
    "            processes_pool.append(process)\n",
    "            process.start()\n",
    "\n",
    "        for p in processes_pool:\n",
    "            p.join()\n",
    "\n",
    "        print('tot rows to append:', len(temp))\n",
    "    \n",
    "    df.index = df.index.set_names(['index'])\n",
    "    \n",
    "    return df.sort_values(['user_id','session_id','timestamp','step']), new_rows_starting_index"
   ]
  },
  {
   "cell_type": "code",
   "execution_count": null,
   "metadata": {
    "scrolled": true
   },
   "outputs": [],
   "source": [
    "%time df2, _ = add_impressions_as_new_actions_multicore(train_df.copy())"
   ]
  },
  {
   "cell_type": "code",
   "execution_count": null,
   "metadata": {},
   "outputs": [],
   "source": [
    "df1.equals(df2)"
   ]
  },
  {
   "cell_type": "code",
   "execution_count": null,
   "metadata": {},
   "outputs": [],
   "source": [
    "df1"
   ]
  },
  {
   "cell_type": "code",
   "execution_count": null,
   "metadata": {},
   "outputs": [],
   "source": [
    "df2"
   ]
  },
  {
   "cell_type": "markdown",
   "metadata": {},
   "source": [
    "....."
   ]
  },
  {
   "cell_type": "markdown",
   "metadata": {},
   "source": [
    "### pad the sessions"
   ]
  },
  {
   "cell_type": "code",
   "execution_count": null,
   "metadata": {},
   "outputs": [],
   "source": [
    "MAX_SESSION_LENGTH = 70\n",
    "train_df2 = sess2vec.pad_sessions(train_df, max_session_length=MAX_SESSION_LENGTH)\n",
    "test_df2 = sess2vec.pad_sessions(test_df, max_session_length=MAX_SESSION_LENGTH)"
   ]
  },
  {
   "cell_type": "code",
   "execution_count": null,
   "metadata": {
    "scrolled": true
   },
   "outputs": [],
   "source": [
    "print(train_df2.shape)\n",
    "print(test_df2.shape)"
   ]
  },
  {
   "cell_type": "code",
   "execution_count": null,
   "metadata": {},
   "outputs": [],
   "source": [
    "train_len = train_df2.shape[0]\n",
    "test_len = test_df2.shape[0]"
   ]
  },
  {
   "cell_type": "code",
   "execution_count": null,
   "metadata": {},
   "outputs": [],
   "source": [
    "full_df = pd.concat([train_df2, test_df2])"
   ]
  },
  {
   "cell_type": "markdown",
   "metadata": {},
   "source": [
    "### get last clickout"
   ]
  },
  {
   "cell_type": "code",
   "execution_count": null,
   "metadata": {},
   "outputs": [],
   "source": [
    "train_clickouts_df = sess2vec.get_last_clickout(train_df2, index_name='index', rename_index='orig_index')\n",
    "train_clickouts_indices = train_clickouts_df.orig_index.values\n",
    "train_clickouts_indices.sort()"
   ]
  },
  {
   "cell_type": "markdown",
   "metadata": {},
   "source": [
    "### add labels to clickouts"
   ]
  },
  {
   "cell_type": "code",
   "execution_count": null,
   "metadata": {},
   "outputs": [],
   "source": [
    "train_df, ref_classes = sess2vec.add_reference_classes(train_df)"
   ]
  },
  {
   "cell_type": "code",
   "execution_count": null,
   "metadata": {},
   "outputs": [],
   "source": [
    "def left_join_in_chunks(df1, df2, left_on, right_on, path_to_save, pre_join_fn=None, post_join_fn=None, chunk_size=int(3e5), data=dict(), index_label='orig_index', left_index=False, right_index=False):\n",
    "    # check and delete the file if already exists to avoid inconsistence in appending\n",
    "    if os.path.isfile(path_to_save):\n",
    "        os.remove(path_to_save)\n",
    "    # join using chunks\n",
    "    CHUNK_SIZE = chunk_size\n",
    "    TOT_LEN = df1.shape[0]\n",
    "    TOT = TOT_LEN + CHUNK_SIZE\n",
    "    with open(path_to_save, 'a') as f:\n",
    "        print('Begin')\n",
    "        for i in range(0, TOT, CHUNK_SIZE):\n",
    "            i_upper = max(i+CHUNK_SIZE, TOT_LEN)\n",
    "            print('Extract chunk')\n",
    "            %time chunk_df = df1.iloc[i:i_upper].copy()\n",
    "            \n",
    "            print('Pre-join')\n",
    "            if callable(pre_join_fn):\n",
    "                %time chunk_df, data = pre_join_fn(chunk_df, data)\n",
    "\n",
    "            print('Merge')\n",
    "            %time chunk_df = chunk_df.merge(df2, how='left', left_on=left_on, right_on=right_on, left_index=left_index, right_index=right_index)\n",
    "            print('Post-join')\n",
    "            if callable(post_join_fn):\n",
    "                %time chunk_df = post_join_fn(chunk_df, data)\n",
    "            print('Save chunk')\n",
    "            %time chunk_df.to_csv(f, header=f.tell() == 0, index_label=index_label, float_format='%.4f')\n",
    "            print(f'{i_upper} / {TOT}', end='\\r', flush=True)\n",
    "    print()\n",
    "    print('Done!')"
   ]
  },
  {
   "cell_type": "markdown",
   "metadata": {},
   "source": [
    "### one-hot!"
   ]
  },
  {
   "cell_type": "code",
   "execution_count": null,
   "metadata": {},
   "outputs": [],
   "source": [
    "def one_hot_df_column(df, column_label):\n",
    "    return pd.concat([df, pd.get_dummies(df[column_label], prefix=column_label, sparse=True)], axis=1).drop([column_label],axis=1)"
   ]
  },
  {
   "cell_type": "code",
   "execution_count": null,
   "metadata": {},
   "outputs": [],
   "source": [
    "print('Adding one-hot columns of action_type...')\n",
    "df = one_hot_df_column(df, 'action_type')\n",
    "print(df.shape)\n",
    "\n",
    "print('Adding one-hot columns of device...')\n",
    "df = one_hot_df_column(df, 'device')\n",
    "print(df.shape)"
   ]
  },
  {
   "cell_type": "code",
   "execution_count": null,
   "metadata": {},
   "outputs": [],
   "source": [
    "path = f'dataset/preprocessed/cluster_recurrent/{mode}_vec'\n",
    "path_to_save = os.path.join(path, 'full.csv')"
   ]
  },
  {
   "cell_type": "code",
   "execution_count": null,
   "metadata": {
    "scrolled": true
   },
   "outputs": [],
   "source": [
    "print('Joining the accomodations features...')\n",
    "if os.path.isfile(path_to_save):\n",
    "    os.remove(path_to_save)\n",
    "\n",
    "# join using chunks\n",
    "    def prejoin_fn(chunk_df, data_dict):\n",
    "        data_dict['references_serie_backup'] = chunk_df.reference.copy()\n",
    "        chunk_df.loc[chunk_df.astype({'reference':str}).reference.str.isnumeric() != True, 'reference'] = -9999\n",
    "        chunk_df = chunk_df.astype({'reference': np.int64}).reset_index()\n",
    "        return chunk_df, data_dict\n",
    "\n",
    "    def postjoin_fn(chunk_df, data_dict):\n",
    "        chunk_df.drop('item_id', axis=1, inplace=True)\n",
    "        chunk_df = chunk_df.set_index('index')\n",
    "        chunk_df.reference = data_dict['references_serie_backup']\n",
    "        # after the left join, the right columns are set to NaN for the non-joined rows, so we need to\n",
    "        # set all the one-hot features to 0 for the non-reference rows and to re-cast to int64\n",
    "        chunk_df[features_columns] = chunk_df[features_columns].fillna(value=0).astype('Sparse[int64]')\n",
    "        return chunk_df\n",
    "    \n",
    "    sparsedf.left_join_in_chunks(df, attributes_df, left_on='reference', right_on='item_id',\n",
    "                                pre_join_fn=prejoin_fn, post_join_fn=postjoin_fn, path_to_save=path_to_save)"
   ]
  },
  {
   "cell_type": "markdown",
   "metadata": {},
   "source": [
    "## Reload the sparse dataframe"
   ]
  },
  {
   "cell_type": "code",
   "execution_count": null,
   "metadata": {},
   "outputs": [],
   "source": [
    "sparse_columns = list(features_columns)\n",
    "sparse_columns.extend(['action_type_change of sort order', 'action_type_clickout item',\n",
    "                'action_type_filter selection', 'action_type_interaction item deals',\n",
    "                'action_type_interaction item image', 'action_type_interaction item info',\n",
    "                'action_type_interaction item rating', 'action_type_search for destination',\n",
    "                'action_type_search for item', 'action_type_search for poi', 'action_type_show_impression',\n",
    "                'device_desktop', 'device_mobile', 'device_tablet'])\n",
    "print('Count of one-hot columns:', len(sparse_columns))\n",
    "\n",
    "path = f'dataset/preprocessed/cluster_recurrent/{mode}'\n",
    "path_to_save = os.path.join(path, 'full_vec.csv')\n",
    "full_sparse_df = sparsedf.read(path_to_save, sparse_cols=sparse_columns).set_index('orig_index')\n",
    "print('Full dataframe shape:', full_sparse_df.shape)"
   ]
  },
  {
   "cell_type": "code",
   "execution_count": null,
   "metadata": {
    "scrolled": true
   },
   "outputs": [],
   "source": [
    "full_sparse_df.head(5)"
   ]
  },
  {
   "cell_type": "code",
   "execution_count": null,
   "metadata": {
    "scrolled": true
   },
   "outputs": [],
   "source": [
    "full_sparse_df.dtypes"
   ]
  },
  {
   "cell_type": "markdown",
   "metadata": {},
   "source": [
    "## Save the labels"
   ]
  },
  {
   "cell_type": "code",
   "execution_count": null,
   "metadata": {},
   "outputs": [],
   "source": [
    "def post_join(chunk_df, data_dict):\n",
    "    chunk_df.drop('item_id', axis=1, inplace=True)\n",
    "    chunk_df.drop('reference', axis=1, inplace=True)\n",
    "    chunk_df = chunk_df.set_index('orig_index')\n",
    "\n",
    "    # after the left join, the right columns are set to NaN for the non-joined rows, so we need to\n",
    "    # set all the one-hot features to 0 for the non-reference rows and to re-cast to int64\n",
    "    chunk_df[features_columns] = chunk_df[features_columns].fillna(value=0).astype(np.int8)\n",
    "    return chunk_df"
   ]
  },
  {
   "cell_type": "code",
   "execution_count": null,
   "metadata": {
    "scrolled": true
   },
   "outputs": [],
   "source": [
    "full_clickouts_df = sess2vec.get_last_clickout(full_df, index_name='index', rename_index='orig_index')\n",
    "full_clickouts_indices_set = set(full_clickouts_df.orig_index.values)\n",
    "len(full_clickouts_indices_set)"
   ]
  },
  {
   "cell_type": "code",
   "execution_count": null,
   "metadata": {},
   "outputs": [],
   "source": [
    "tttrain_df = full_sparse_df.head(train_len)"
   ]
  },
  {
   "cell_type": "code",
   "execution_count": null,
   "metadata": {},
   "outputs": [],
   "source": [
    "train_df = tttrain_df[['reference']].copy()\n",
    "train_df.loc[[15]]"
   ]
  },
  {
   "cell_type": "code",
   "execution_count": null,
   "metadata": {},
   "outputs": [],
   "source": [
    "# get the indices and references of the last clickout for each session: session_id | orig_index, reference\n",
    "train_clickouts_indices = list(set(train_df.index.values).intersection(full_clickouts_indices_set))\n",
    "train_clickouts_indices.sort()\n",
    "backup_train_reference_serie = train_df.loc[train_clickouts_indices, 'reference'].values"
   ]
  },
  {
   "cell_type": "code",
   "execution_count": null,
   "metadata": {},
   "outputs": [],
   "source": [
    "# set the non-clickout rows to a negative number, in order to skip the join\n",
    "train_df.reference = -9999\n",
    "train_df.loc[[15]]"
   ]
  },
  {
   "cell_type": "code",
   "execution_count": null,
   "metadata": {},
   "outputs": [],
   "source": [
    "train_df.at[train_clickouts_indices, 'reference'] = backup_train_reference_serie\n",
    "train_df.loc[[15]]"
   ]
  },
  {
   "cell_type": "code",
   "execution_count": null,
   "metadata": {},
   "outputs": [],
   "source": [
    "train_df = train_df.astype({'reference':int})"
   ]
  },
  {
   "cell_type": "code",
   "execution_count": null,
   "metadata": {},
   "outputs": [],
   "source": [
    "train_df = train_df.reset_index()"
   ]
  },
  {
   "cell_type": "code",
   "execution_count": null,
   "metadata": {},
   "outputs": [],
   "source": [
    "train_df.iloc[60:80]"
   ]
  },
  {
   "cell_type": "code",
   "execution_count": null,
   "metadata": {
    "scrolled": false
   },
   "outputs": [],
   "source": [
    "sparsedf.left_join_in_chunks(train_df, attributes_df, left_on='reference', right_on='item_id',\n",
    "                                post_join_fn=post_join, path_to_save=os.path.join(path, 'Y_train.csv'))"
   ]
  },
  {
   "cell_type": "code",
   "execution_count": null,
   "metadata": {},
   "outputs": [],
   "source": []
  }
 ],
 "metadata": {
  "kernelspec": {
   "display_name": "Python 3",
   "language": "python",
   "name": "python3"
  },
  "language_info": {
   "codemirror_mode": {
    "name": "ipython",
    "version": 3
   },
   "file_extension": ".py",
   "mimetype": "text/x-python",
   "name": "python",
   "nbconvert_exporter": "python",
   "pygments_lexer": "ipython3",
   "version": "3.6.8"
  }
 },
 "nbformat": 4,
 "nbformat_minor": 2
}
